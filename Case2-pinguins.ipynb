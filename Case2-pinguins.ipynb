{
 "cells": [
  {
   "cell_type": "markdown",
   "id": "ecb83b33",
   "metadata": {},
   "source": [
    "# Blogpost case team 10"
   ]
  },
  {
   "cell_type": "code",
   "execution_count": 66,
   "id": "449b764d",
   "metadata": {},
   "outputs": [],
   "source": [
    "#GROUPMEMBERS\n",
    "#Yswar Gokoel     (500786750)\n",
    "#Billy Uzel       (500828005)\n",
    "#Scarlet Hau      (500817271)\n",
    "#Daan Bouwmeester (500826025)"
   ]
  },
  {
   "cell_type": "markdown",
   "id": "0d5577a4",
   "metadata": {},
   "source": [
    "# Schiphol API"
   ]
  },
  {
   "cell_type": "code",
   "execution_count": 67,
   "id": "e2cd1a2e",
   "metadata": {},
   "outputs": [],
   "source": [
    "import pandas as pd\n",
    "import requests\n",
    "import json"
   ]
  },
  {
   "cell_type": "code",
   "execution_count": 68,
   "id": "fe9b464c",
   "metadata": {},
   "outputs": [],
   "source": [
    "i = 0 \n",
    "data = []\n",
    "for i in range(5) :\n",
    "    \n",
    "    url = \"https://api.schiphol.nl/public-flights/flights?includedelays=false&page=\" + str(i) + \"&sort=%2BscheduleTime&fromDateTime=2020-12-01T00%3A00%3A00&toDateTime=2020-12-03T00%3A00%3A00&searchDateTimeField=estimatedLandingTime\"\n",
    "    i = i + 1\n",
    "     \n",
    "    r = requests.get(url)\n",
    "    headers = headers = {\n",
    "      'accept': 'application/json',\n",
    "\t  'resourceversion': 'v4',\n",
    "      'app_id': '6ec7ae49',\n",
    "\t  'app_key': '0b7a8784dc9b7bd1e7b12d927ff3fab9'}\n",
    "    response = requests.request('GET', url, headers=headers)\n",
    "    datatxt = response.text\n",
    "    dataspl = json.loads(datatxt)\n",
    "    data = response.json()"
   ]
  },
  {
   "cell_type": "code",
   "execution_count": 69,
   "id": "4f9da75c",
   "metadata": {},
   "outputs": [],
   "source": [
    "df = pd.DataFrame.from_dict(data['flights'], orient='columns')"
   ]
  },
  {
   "cell_type": "code",
   "execution_count": 70,
   "id": "b65dd85f",
   "metadata": {},
   "outputs": [
    {
     "data": {
      "text/html": [
       "<div>\n",
       "<style scoped>\n",
       "    .dataframe tbody tr th:only-of-type {\n",
       "        vertical-align: middle;\n",
       "    }\n",
       "\n",
       "    .dataframe tbody tr th {\n",
       "        vertical-align: top;\n",
       "    }\n",
       "\n",
       "    .dataframe thead th {\n",
       "        text-align: right;\n",
       "    }\n",
       "</style>\n",
       "<table border=\"1\" class=\"dataframe\">\n",
       "  <thead>\n",
       "    <tr style=\"text-align: right;\">\n",
       "      <th></th>\n",
       "      <th>lastUpdatedAt</th>\n",
       "      <th>actualLandingTime</th>\n",
       "      <th>actualOffBlockTime</th>\n",
       "      <th>aircraftRegistration</th>\n",
       "      <th>aircraftType</th>\n",
       "      <th>baggageClaim</th>\n",
       "      <th>checkinAllocations</th>\n",
       "      <th>codeshares</th>\n",
       "      <th>estimatedLandingTime</th>\n",
       "      <th>expectedTimeBoarding</th>\n",
       "      <th>...</th>\n",
       "      <th>publicEstimatedOffBlockTime</th>\n",
       "      <th>publicFlightState</th>\n",
       "      <th>route</th>\n",
       "      <th>scheduleDateTime</th>\n",
       "      <th>scheduleDate</th>\n",
       "      <th>scheduleTime</th>\n",
       "      <th>serviceType</th>\n",
       "      <th>terminal</th>\n",
       "      <th>transferPositions</th>\n",
       "      <th>schemaVersion</th>\n",
       "    </tr>\n",
       "  </thead>\n",
       "  <tbody>\n",
       "    <tr>\n",
       "      <th>0</th>\n",
       "      <td>2020-12-03T12:50:21.025+01:00</td>\n",
       "      <td>2020-12-02T07:13:06.000+01:00</td>\n",
       "      <td>None</td>\n",
       "      <td>N14011</td>\n",
       "      <td>{'iataMain': '787', 'iataSub': '781'}</td>\n",
       "      <td>{'belts': ['20']}</td>\n",
       "      <td>None</td>\n",
       "      <td>None</td>\n",
       "      <td>2020-12-02T07:13:06.000+01:00</td>\n",
       "      <td>None</td>\n",
       "      <td>...</td>\n",
       "      <td>None</td>\n",
       "      <td>{'flightStates': ['ARR']}</td>\n",
       "      <td>{'destinations': ['EWR'], 'eu': 'N', 'visa': F...</td>\n",
       "      <td>2020-12-02T07:15:00.000+01:00</td>\n",
       "      <td>2020-12-02</td>\n",
       "      <td>07:15:00</td>\n",
       "      <td>J</td>\n",
       "      <td>4.0</td>\n",
       "      <td>None</td>\n",
       "      <td>4</td>\n",
       "    </tr>\n",
       "    <tr>\n",
       "      <th>1</th>\n",
       "      <td>2020-12-03T13:35:01.382+01:00</td>\n",
       "      <td>2020-12-02T06:55:27.000+01:00</td>\n",
       "      <td>None</td>\n",
       "      <td>PHBVO</td>\n",
       "      <td>{'iataMain': '777', 'iataSub': '77W'}</td>\n",
       "      <td>{'belts': ['19']}</td>\n",
       "      <td>None</td>\n",
       "      <td>{'codeshares': ['DL9699', 'VS6871']}</td>\n",
       "      <td>2020-12-02T06:55:27.000+01:00</td>\n",
       "      <td>None</td>\n",
       "      <td>...</td>\n",
       "      <td>None</td>\n",
       "      <td>{'flightStates': ['ARR', 'EXP']}</td>\n",
       "      <td>{'destinations': ['YYZ'], 'eu': 'N', 'visa': F...</td>\n",
       "      <td>2020-12-02T07:15:00.000+01:00</td>\n",
       "      <td>2020-12-02</td>\n",
       "      <td>07:15:00</td>\n",
       "      <td>J</td>\n",
       "      <td>4.0</td>\n",
       "      <td>None</td>\n",
       "      <td>4</td>\n",
       "    </tr>\n",
       "    <tr>\n",
       "      <th>2</th>\n",
       "      <td>2020-12-03T13:35:01.382+01:00</td>\n",
       "      <td>2020-12-02T06:55:27.000+01:00</td>\n",
       "      <td>None</td>\n",
       "      <td>PHBVO</td>\n",
       "      <td>{'iataMain': '777', 'iataSub': '77W'}</td>\n",
       "      <td>{'belts': ['19']}</td>\n",
       "      <td>None</td>\n",
       "      <td>{'codeshares': ['DL9699', 'VS6871']}</td>\n",
       "      <td>2020-12-02T06:55:27.000+01:00</td>\n",
       "      <td>None</td>\n",
       "      <td>...</td>\n",
       "      <td>None</td>\n",
       "      <td>{'flightStates': ['ARR', 'EXP']}</td>\n",
       "      <td>{'destinations': ['YYZ'], 'eu': 'N', 'visa': F...</td>\n",
       "      <td>2020-12-02T07:15:00.000+01:00</td>\n",
       "      <td>2020-12-02</td>\n",
       "      <td>07:15:00</td>\n",
       "      <td>J</td>\n",
       "      <td>4.0</td>\n",
       "      <td>None</td>\n",
       "      <td>4</td>\n",
       "    </tr>\n",
       "    <tr>\n",
       "      <th>3</th>\n",
       "      <td>2020-12-03T13:35:01.382+01:00</td>\n",
       "      <td>2020-12-02T06:55:27.000+01:00</td>\n",
       "      <td>None</td>\n",
       "      <td>PHBVO</td>\n",
       "      <td>{'iataMain': '777', 'iataSub': '77W'}</td>\n",
       "      <td>{'belts': ['19']}</td>\n",
       "      <td>None</td>\n",
       "      <td>{'codeshares': ['DL9699', 'VS6871']}</td>\n",
       "      <td>2020-12-02T06:55:27.000+01:00</td>\n",
       "      <td>None</td>\n",
       "      <td>...</td>\n",
       "      <td>None</td>\n",
       "      <td>{'flightStates': ['ARR', 'EXP']}</td>\n",
       "      <td>{'destinations': ['YYZ'], 'eu': 'N', 'visa': F...</td>\n",
       "      <td>2020-12-02T07:15:00.000+01:00</td>\n",
       "      <td>2020-12-02</td>\n",
       "      <td>07:15:00</td>\n",
       "      <td>J</td>\n",
       "      <td>4.0</td>\n",
       "      <td>None</td>\n",
       "      <td>4</td>\n",
       "    </tr>\n",
       "    <tr>\n",
       "      <th>4</th>\n",
       "      <td>2020-12-03T12:43:18.109+01:00</td>\n",
       "      <td>2020-12-02T07:51:23.000+01:00</td>\n",
       "      <td>None</td>\n",
       "      <td>B18906</td>\n",
       "      <td>{'iataMain': '350', 'iataSub': '359'}</td>\n",
       "      <td>None</td>\n",
       "      <td>None</td>\n",
       "      <td>None</td>\n",
       "      <td>2020-12-02T07:51:23.000+01:00</td>\n",
       "      <td>None</td>\n",
       "      <td>...</td>\n",
       "      <td>None</td>\n",
       "      <td>{'flightStates': ['LND', 'EXP']}</td>\n",
       "      <td>{'destinations': ['TPE'], 'eu': 'N', 'visa': F...</td>\n",
       "      <td>2020-12-02T07:15:00.000+01:00</td>\n",
       "      <td>2020-12-02</td>\n",
       "      <td>07:15:00</td>\n",
       "      <td>F</td>\n",
       "      <td>NaN</td>\n",
       "      <td>None</td>\n",
       "      <td>4</td>\n",
       "    </tr>\n",
       "  </tbody>\n",
       "</table>\n",
       "<p>5 rows × 35 columns</p>\n",
       "</div>"
      ],
      "text/plain": [
       "                   lastUpdatedAt              actualLandingTime  \\\n",
       "0  2020-12-03T12:50:21.025+01:00  2020-12-02T07:13:06.000+01:00   \n",
       "1  2020-12-03T13:35:01.382+01:00  2020-12-02T06:55:27.000+01:00   \n",
       "2  2020-12-03T13:35:01.382+01:00  2020-12-02T06:55:27.000+01:00   \n",
       "3  2020-12-03T13:35:01.382+01:00  2020-12-02T06:55:27.000+01:00   \n",
       "4  2020-12-03T12:43:18.109+01:00  2020-12-02T07:51:23.000+01:00   \n",
       "\n",
       "  actualOffBlockTime aircraftRegistration  \\\n",
       "0               None               N14011   \n",
       "1               None                PHBVO   \n",
       "2               None                PHBVO   \n",
       "3               None                PHBVO   \n",
       "4               None               B18906   \n",
       "\n",
       "                            aircraftType       baggageClaim  \\\n",
       "0  {'iataMain': '787', 'iataSub': '781'}  {'belts': ['20']}   \n",
       "1  {'iataMain': '777', 'iataSub': '77W'}  {'belts': ['19']}   \n",
       "2  {'iataMain': '777', 'iataSub': '77W'}  {'belts': ['19']}   \n",
       "3  {'iataMain': '777', 'iataSub': '77W'}  {'belts': ['19']}   \n",
       "4  {'iataMain': '350', 'iataSub': '359'}               None   \n",
       "\n",
       "  checkinAllocations                            codeshares  \\\n",
       "0               None                                  None   \n",
       "1               None  {'codeshares': ['DL9699', 'VS6871']}   \n",
       "2               None  {'codeshares': ['DL9699', 'VS6871']}   \n",
       "3               None  {'codeshares': ['DL9699', 'VS6871']}   \n",
       "4               None                                  None   \n",
       "\n",
       "            estimatedLandingTime expectedTimeBoarding  ...  \\\n",
       "0  2020-12-02T07:13:06.000+01:00                 None  ...   \n",
       "1  2020-12-02T06:55:27.000+01:00                 None  ...   \n",
       "2  2020-12-02T06:55:27.000+01:00                 None  ...   \n",
       "3  2020-12-02T06:55:27.000+01:00                 None  ...   \n",
       "4  2020-12-02T07:51:23.000+01:00                 None  ...   \n",
       "\n",
       "  publicEstimatedOffBlockTime                 publicFlightState  \\\n",
       "0                        None         {'flightStates': ['ARR']}   \n",
       "1                        None  {'flightStates': ['ARR', 'EXP']}   \n",
       "2                        None  {'flightStates': ['ARR', 'EXP']}   \n",
       "3                        None  {'flightStates': ['ARR', 'EXP']}   \n",
       "4                        None  {'flightStates': ['LND', 'EXP']}   \n",
       "\n",
       "                                               route  \\\n",
       "0  {'destinations': ['EWR'], 'eu': 'N', 'visa': F...   \n",
       "1  {'destinations': ['YYZ'], 'eu': 'N', 'visa': F...   \n",
       "2  {'destinations': ['YYZ'], 'eu': 'N', 'visa': F...   \n",
       "3  {'destinations': ['YYZ'], 'eu': 'N', 'visa': F...   \n",
       "4  {'destinations': ['TPE'], 'eu': 'N', 'visa': F...   \n",
       "\n",
       "                scheduleDateTime scheduleDate scheduleTime  serviceType  \\\n",
       "0  2020-12-02T07:15:00.000+01:00   2020-12-02     07:15:00            J   \n",
       "1  2020-12-02T07:15:00.000+01:00   2020-12-02     07:15:00            J   \n",
       "2  2020-12-02T07:15:00.000+01:00   2020-12-02     07:15:00            J   \n",
       "3  2020-12-02T07:15:00.000+01:00   2020-12-02     07:15:00            J   \n",
       "4  2020-12-02T07:15:00.000+01:00   2020-12-02     07:15:00            F   \n",
       "\n",
       "  terminal transferPositions schemaVersion  \n",
       "0      4.0              None             4  \n",
       "1      4.0              None             4  \n",
       "2      4.0              None             4  \n",
       "3      4.0              None             4  \n",
       "4      NaN              None             4  \n",
       "\n",
       "[5 rows x 35 columns]"
      ]
     },
     "execution_count": 70,
     "metadata": {},
     "output_type": "execute_result"
    }
   ],
   "source": [
    "df.head()"
   ]
  },
  {
   "cell_type": "code",
   "execution_count": 71,
   "id": "13e8380a",
   "metadata": {},
   "outputs": [
    {
     "data": {
      "text/plain": [
       "0     {'iataMain': '787', 'iataSub': '781'}\n",
       "1     {'iataMain': '777', 'iataSub': '77W'}\n",
       "2     {'iataMain': '777', 'iataSub': '77W'}\n",
       "3     {'iataMain': '777', 'iataSub': '77W'}\n",
       "4     {'iataMain': '350', 'iataSub': '359'}\n",
       "5     {'iataMain': '787', 'iataSub': '789'}\n",
       "6     {'iataMain': '350', 'iataSub': '359'}\n",
       "7     {'iataMain': '777', 'iataSub': '77W'}\n",
       "8     {'iataMain': '777', 'iataSub': '77W'}\n",
       "9     {'iataMain': '777', 'iataSub': '77W'}\n",
       "10    {'iataMain': '777', 'iataSub': '77W'}\n",
       "11    {'iataMain': '787', 'iataSub': '781'}\n",
       "12    {'iataMain': '787', 'iataSub': '781'}\n",
       "13    {'iataMain': 'EMJ', 'iataSub': 'E75'}\n",
       "14    {'iataMain': 'EMJ', 'iataSub': 'E75'}\n",
       "15    {'iataMain': 'EMJ', 'iataSub': 'E75'}\n",
       "16    {'iataMain': 'EMJ', 'iataSub': 'E75'}\n",
       "17    {'iataMain': 'EMJ', 'iataSub': 'E75'}\n",
       "18    {'iataMain': 'EMJ', 'iataSub': 'E75'}\n",
       "19    {'iataMain': 'EMJ', 'iataSub': 'E75'}\n",
       "Name: aircraftType, dtype: object"
      ]
     },
     "execution_count": 71,
     "metadata": {},
     "output_type": "execute_result"
    }
   ],
   "source": [
    "df['aircraftType']"
   ]
  },
  {
   "cell_type": "code",
   "execution_count": 72,
   "id": "216b97c0",
   "metadata": {},
   "outputs": [],
   "source": [
    "part1 = pd.DataFrame(dataspl)"
   ]
  },
  {
   "cell_type": "code",
   "execution_count": 73,
   "id": "37961e06",
   "metadata": {},
   "outputs": [
    {
     "data": {
      "text/html": [
       "<div>\n",
       "<style scoped>\n",
       "    .dataframe tbody tr th:only-of-type {\n",
       "        vertical-align: middle;\n",
       "    }\n",
       "\n",
       "    .dataframe tbody tr th {\n",
       "        vertical-align: top;\n",
       "    }\n",
       "\n",
       "    .dataframe thead th {\n",
       "        text-align: right;\n",
       "    }\n",
       "</style>\n",
       "<table border=\"1\" class=\"dataframe\">\n",
       "  <thead>\n",
       "    <tr style=\"text-align: right;\">\n",
       "      <th></th>\n",
       "      <th>flights</th>\n",
       "    </tr>\n",
       "  </thead>\n",
       "  <tbody>\n",
       "    <tr>\n",
       "      <th>0</th>\n",
       "      <td>{'lastUpdatedAt': '2020-12-03T12:50:21.025+01:...</td>\n",
       "    </tr>\n",
       "    <tr>\n",
       "      <th>1</th>\n",
       "      <td>{'lastUpdatedAt': '2020-12-03T13:35:01.382+01:...</td>\n",
       "    </tr>\n",
       "    <tr>\n",
       "      <th>2</th>\n",
       "      <td>{'lastUpdatedAt': '2020-12-03T13:35:01.382+01:...</td>\n",
       "    </tr>\n",
       "    <tr>\n",
       "      <th>3</th>\n",
       "      <td>{'lastUpdatedAt': '2020-12-03T13:35:01.382+01:...</td>\n",
       "    </tr>\n",
       "    <tr>\n",
       "      <th>4</th>\n",
       "      <td>{'lastUpdatedAt': '2020-12-03T12:43:18.109+01:...</td>\n",
       "    </tr>\n",
       "  </tbody>\n",
       "</table>\n",
       "</div>"
      ],
      "text/plain": [
       "                                             flights\n",
       "0  {'lastUpdatedAt': '2020-12-03T12:50:21.025+01:...\n",
       "1  {'lastUpdatedAt': '2020-12-03T13:35:01.382+01:...\n",
       "2  {'lastUpdatedAt': '2020-12-03T13:35:01.382+01:...\n",
       "3  {'lastUpdatedAt': '2020-12-03T13:35:01.382+01:...\n",
       "4  {'lastUpdatedAt': '2020-12-03T12:43:18.109+01:..."
      ]
     },
     "execution_count": 73,
     "metadata": {},
     "output_type": "execute_result"
    }
   ],
   "source": [
    "part1.head()"
   ]
  },
  {
   "cell_type": "markdown",
   "id": "ce5816de",
   "metadata": {},
   "source": [
    "# Penguins dataset"
   ]
  },
  {
   "cell_type": "markdown",
   "id": "6046c8bc",
   "metadata": {},
   "source": [
    "### Importing data and packages"
   ]
  },
  {
   "cell_type": "code",
   "execution_count": 90,
   "id": "90fba9e7",
   "metadata": {},
   "outputs": [
    {
     "name": "stdout",
     "output_type": "stream",
     "text": [
      "Requirement already satisfied: plotly==5.3.1 in c:\\users\\yswar\\anaconda3\\lib\\site-packages (5.3.1)\n",
      "Requirement already satisfied: six in c:\\users\\yswar\\anaconda3\\lib\\site-packages (from plotly==5.3.1) (1.15.0)\n",
      "Requirement already satisfied: tenacity>=6.2.0 in c:\\users\\yswar\\anaconda3\\lib\\site-packages (from plotly==5.3.1) (8.0.1)\n"
     ]
    }
   ],
   "source": [
    "\n",
    "import matplotlib.pyplot as plt\n",
    "!pip install plotly==5.3.1\n",
    "import plotly.express as px\n",
    "import plotly.graph_objects as go\n",
    "from plotly.subplots import make_subplots"
   ]
  },
  {
   "cell_type": "code",
   "execution_count": 75,
   "id": "82d14a31",
   "metadata": {},
   "outputs": [],
   "source": [
    "#Dataset afkomstig van Datacamp\n",
    "penguins = pd.read_csv('penguins.csv')"
   ]
  },
  {
   "cell_type": "markdown",
   "id": "cadb7d0b",
   "metadata": {},
   "source": [
    "### Inspecting data"
   ]
  },
  {
   "cell_type": "code",
   "execution_count": 76,
   "id": "a68d3a58",
   "metadata": {},
   "outputs": [
    {
     "data": {
      "text/html": [
       "<div>\n",
       "<style scoped>\n",
       "    .dataframe tbody tr th:only-of-type {\n",
       "        vertical-align: middle;\n",
       "    }\n",
       "\n",
       "    .dataframe tbody tr th {\n",
       "        vertical-align: top;\n",
       "    }\n",
       "\n",
       "    .dataframe thead th {\n",
       "        text-align: right;\n",
       "    }\n",
       "</style>\n",
       "<table border=\"1\" class=\"dataframe\">\n",
       "  <thead>\n",
       "    <tr style=\"text-align: right;\">\n",
       "      <th></th>\n",
       "      <th>Unnamed: 0</th>\n",
       "      <th>studyName</th>\n",
       "      <th>Sample Number</th>\n",
       "      <th>Species</th>\n",
       "      <th>Region</th>\n",
       "      <th>Island</th>\n",
       "      <th>Stage</th>\n",
       "      <th>Individual ID</th>\n",
       "      <th>Clutch Completion</th>\n",
       "      <th>Date Egg</th>\n",
       "      <th>Culmen Length (mm)</th>\n",
       "      <th>Culmen Depth (mm)</th>\n",
       "      <th>Flipper Length (mm)</th>\n",
       "      <th>Body Mass (g)</th>\n",
       "      <th>Sex</th>\n",
       "      <th>Delta 15 N (o/oo)</th>\n",
       "      <th>Delta 13 C (o/oo)</th>\n",
       "      <th>Comments</th>\n",
       "    </tr>\n",
       "  </thead>\n",
       "  <tbody>\n",
       "    <tr>\n",
       "      <th>0</th>\n",
       "      <td>1</td>\n",
       "      <td>PAL0708</td>\n",
       "      <td>1</td>\n",
       "      <td>Adelie Penguin (Pygoscelis adeliae)</td>\n",
       "      <td>Anvers</td>\n",
       "      <td>Torgersen</td>\n",
       "      <td>Adult, 1 Egg Stage</td>\n",
       "      <td>N1A1</td>\n",
       "      <td>Yes</td>\n",
       "      <td>2007-11-11</td>\n",
       "      <td>39.1</td>\n",
       "      <td>18.7</td>\n",
       "      <td>181.0</td>\n",
       "      <td>3750.0</td>\n",
       "      <td>MALE</td>\n",
       "      <td>NaN</td>\n",
       "      <td>NaN</td>\n",
       "      <td>Not enough blood for isotopes.</td>\n",
       "    </tr>\n",
       "    <tr>\n",
       "      <th>1</th>\n",
       "      <td>2</td>\n",
       "      <td>PAL0708</td>\n",
       "      <td>2</td>\n",
       "      <td>Adelie Penguin (Pygoscelis adeliae)</td>\n",
       "      <td>Anvers</td>\n",
       "      <td>Torgersen</td>\n",
       "      <td>Adult, 1 Egg Stage</td>\n",
       "      <td>N1A2</td>\n",
       "      <td>Yes</td>\n",
       "      <td>2007-11-11</td>\n",
       "      <td>39.5</td>\n",
       "      <td>17.4</td>\n",
       "      <td>186.0</td>\n",
       "      <td>3800.0</td>\n",
       "      <td>FEMALE</td>\n",
       "      <td>8.94956</td>\n",
       "      <td>-24.69454</td>\n",
       "      <td>NaN</td>\n",
       "    </tr>\n",
       "    <tr>\n",
       "      <th>2</th>\n",
       "      <td>3</td>\n",
       "      <td>PAL0708</td>\n",
       "      <td>3</td>\n",
       "      <td>Adelie Penguin (Pygoscelis adeliae)</td>\n",
       "      <td>Anvers</td>\n",
       "      <td>Torgersen</td>\n",
       "      <td>Adult, 1 Egg Stage</td>\n",
       "      <td>N2A1</td>\n",
       "      <td>Yes</td>\n",
       "      <td>2007-11-16</td>\n",
       "      <td>40.3</td>\n",
       "      <td>18.0</td>\n",
       "      <td>195.0</td>\n",
       "      <td>3250.0</td>\n",
       "      <td>FEMALE</td>\n",
       "      <td>8.36821</td>\n",
       "      <td>-25.33302</td>\n",
       "      <td>NaN</td>\n",
       "    </tr>\n",
       "    <tr>\n",
       "      <th>3</th>\n",
       "      <td>4</td>\n",
       "      <td>PAL0708</td>\n",
       "      <td>4</td>\n",
       "      <td>Adelie Penguin (Pygoscelis adeliae)</td>\n",
       "      <td>Anvers</td>\n",
       "      <td>Torgersen</td>\n",
       "      <td>Adult, 1 Egg Stage</td>\n",
       "      <td>N2A2</td>\n",
       "      <td>Yes</td>\n",
       "      <td>2007-11-16</td>\n",
       "      <td>NaN</td>\n",
       "      <td>NaN</td>\n",
       "      <td>NaN</td>\n",
       "      <td>NaN</td>\n",
       "      <td>NaN</td>\n",
       "      <td>NaN</td>\n",
       "      <td>NaN</td>\n",
       "      <td>Adult not sampled.</td>\n",
       "    </tr>\n",
       "    <tr>\n",
       "      <th>4</th>\n",
       "      <td>5</td>\n",
       "      <td>PAL0708</td>\n",
       "      <td>5</td>\n",
       "      <td>Adelie Penguin (Pygoscelis adeliae)</td>\n",
       "      <td>Anvers</td>\n",
       "      <td>Torgersen</td>\n",
       "      <td>Adult, 1 Egg Stage</td>\n",
       "      <td>N3A1</td>\n",
       "      <td>Yes</td>\n",
       "      <td>2007-11-16</td>\n",
       "      <td>36.7</td>\n",
       "      <td>19.3</td>\n",
       "      <td>193.0</td>\n",
       "      <td>3450.0</td>\n",
       "      <td>FEMALE</td>\n",
       "      <td>8.76651</td>\n",
       "      <td>-25.32426</td>\n",
       "      <td>NaN</td>\n",
       "    </tr>\n",
       "  </tbody>\n",
       "</table>\n",
       "</div>"
      ],
      "text/plain": [
       "   Unnamed: 0 studyName  Sample Number                              Species  \\\n",
       "0           1   PAL0708              1  Adelie Penguin (Pygoscelis adeliae)   \n",
       "1           2   PAL0708              2  Adelie Penguin (Pygoscelis adeliae)   \n",
       "2           3   PAL0708              3  Adelie Penguin (Pygoscelis adeliae)   \n",
       "3           4   PAL0708              4  Adelie Penguin (Pygoscelis adeliae)   \n",
       "4           5   PAL0708              5  Adelie Penguin (Pygoscelis adeliae)   \n",
       "\n",
       "   Region     Island               Stage Individual ID Clutch Completion  \\\n",
       "0  Anvers  Torgersen  Adult, 1 Egg Stage          N1A1               Yes   \n",
       "1  Anvers  Torgersen  Adult, 1 Egg Stage          N1A2               Yes   \n",
       "2  Anvers  Torgersen  Adult, 1 Egg Stage          N2A1               Yes   \n",
       "3  Anvers  Torgersen  Adult, 1 Egg Stage          N2A2               Yes   \n",
       "4  Anvers  Torgersen  Adult, 1 Egg Stage          N3A1               Yes   \n",
       "\n",
       "     Date Egg  Culmen Length (mm)  Culmen Depth (mm)  Flipper Length (mm)  \\\n",
       "0  2007-11-11                39.1               18.7                181.0   \n",
       "1  2007-11-11                39.5               17.4                186.0   \n",
       "2  2007-11-16                40.3               18.0                195.0   \n",
       "3  2007-11-16                 NaN                NaN                  NaN   \n",
       "4  2007-11-16                36.7               19.3                193.0   \n",
       "\n",
       "   Body Mass (g)     Sex  Delta 15 N (o/oo)  Delta 13 C (o/oo)  \\\n",
       "0         3750.0    MALE                NaN                NaN   \n",
       "1         3800.0  FEMALE            8.94956          -24.69454   \n",
       "2         3250.0  FEMALE            8.36821          -25.33302   \n",
       "3            NaN     NaN                NaN                NaN   \n",
       "4         3450.0  FEMALE            8.76651          -25.32426   \n",
       "\n",
       "                         Comments  \n",
       "0  Not enough blood for isotopes.  \n",
       "1                             NaN  \n",
       "2                             NaN  \n",
       "3              Adult not sampled.  \n",
       "4                             NaN  "
      ]
     },
     "execution_count": 76,
     "metadata": {},
     "output_type": "execute_result"
    }
   ],
   "source": [
    "penguins.head()"
   ]
  },
  {
   "cell_type": "code",
   "execution_count": 77,
   "id": "9a9af6bd",
   "metadata": {
    "scrolled": true
   },
   "outputs": [
    {
     "name": "stdout",
     "output_type": "stream",
     "text": [
      "<class 'pandas.core.frame.DataFrame'>\n",
      "RangeIndex: 344 entries, 0 to 343\n",
      "Data columns (total 18 columns):\n",
      " #   Column               Non-Null Count  Dtype  \n",
      "---  ------               --------------  -----  \n",
      " 0   Unnamed: 0           344 non-null    int64  \n",
      " 1   studyName            344 non-null    object \n",
      " 2   Sample Number        344 non-null    int64  \n",
      " 3   Species              344 non-null    object \n",
      " 4   Region               344 non-null    object \n",
      " 5   Island               344 non-null    object \n",
      " 6   Stage                344 non-null    object \n",
      " 7   Individual ID        344 non-null    object \n",
      " 8   Clutch Completion    344 non-null    object \n",
      " 9   Date Egg             344 non-null    object \n",
      " 10  Culmen Length (mm)   342 non-null    float64\n",
      " 11  Culmen Depth (mm)    342 non-null    float64\n",
      " 12  Flipper Length (mm)  342 non-null    float64\n",
      " 13  Body Mass (g)        342 non-null    float64\n",
      " 14  Sex                  333 non-null    object \n",
      " 15  Delta 15 N (o/oo)    330 non-null    float64\n",
      " 16  Delta 13 C (o/oo)    331 non-null    float64\n",
      " 17  Comments             54 non-null     object \n",
      "dtypes: float64(6), int64(2), object(10)\n",
      "memory usage: 48.5+ KB\n"
     ]
    }
   ],
   "source": [
    "penguins.info()"
   ]
  },
  {
   "cell_type": "code",
   "execution_count": 78,
   "id": "a356ef74",
   "metadata": {},
   "outputs": [
    {
     "data": {
      "text/plain": [
       "Unnamed: 0             344\n",
       "studyName                3\n",
       "Sample Number          152\n",
       "Species                  3\n",
       "Region                   1\n",
       "Island                   3\n",
       "Stage                    1\n",
       "Individual ID          190\n",
       "Clutch Completion        2\n",
       "Date Egg                50\n",
       "Culmen Length (mm)     164\n",
       "Culmen Depth (mm)       80\n",
       "Flipper Length (mm)     55\n",
       "Body Mass (g)           94\n",
       "Sex                      2\n",
       "Delta 15 N (o/oo)      330\n",
       "Delta 13 C (o/oo)      331\n",
       "Comments                10\n",
       "dtype: int64"
      ]
     },
     "execution_count": 78,
     "metadata": {},
     "output_type": "execute_result"
    }
   ],
   "source": [
    "penguins.nunique()"
   ]
  },
  {
   "cell_type": "code",
   "execution_count": 88,
   "id": "4be8c260",
   "metadata": {},
   "outputs": [
    {
     "data": {
      "text/plain": [
       "Biscoe       0.488372\n",
       "Dream        0.360465\n",
       "Torgersen    0.151163\n",
       "Name: Island, dtype: float64"
      ]
     },
     "execution_count": 88,
     "metadata": {},
     "output_type": "execute_result"
    }
   ],
   "source": [
    "penguins['Island'].value_counts(normalize = True).sort_index()"
   ]
  },
  {
   "cell_type": "code",
   "execution_count": 94,
   "id": "584a575c",
   "metadata": {},
   "outputs": [
    {
     "data": {
      "text/plain": [
       "FEMALE    0.495495\n",
       "MALE      0.504505\n",
       "Name: Sex, dtype: float64"
      ]
     },
     "execution_count": 94,
     "metadata": {},
     "output_type": "execute_result"
    }
   ],
   "source": [
    "penguins['Sex'].value_counts(normalize = True).sort_index()"
   ]
  },
  {
   "cell_type": "code",
   "execution_count": 80,
   "id": "5e4810ac",
   "metadata": {
    "scrolled": true
   },
   "outputs": [],
   "source": [
    "#penguins.dropna(inplace=True)\n",
    "#penguins.info()"
   ]
  },
  {
   "cell_type": "code",
   "execution_count": 81,
   "id": "8da86dc1",
   "metadata": {},
   "outputs": [
    {
     "data": {
      "text/html": [
       "<div>\n",
       "<style scoped>\n",
       "    .dataframe tbody tr th:only-of-type {\n",
       "        vertical-align: middle;\n",
       "    }\n",
       "\n",
       "    .dataframe tbody tr th {\n",
       "        vertical-align: top;\n",
       "    }\n",
       "\n",
       "    .dataframe thead th {\n",
       "        text-align: right;\n",
       "    }\n",
       "</style>\n",
       "<table border=\"1\" class=\"dataframe\">\n",
       "  <thead>\n",
       "    <tr style=\"text-align: right;\">\n",
       "      <th></th>\n",
       "      <th>Unnamed: 0</th>\n",
       "      <th>Sample Number</th>\n",
       "      <th>Culmen Length (mm)</th>\n",
       "      <th>Culmen Depth (mm)</th>\n",
       "      <th>Flipper Length (mm)</th>\n",
       "      <th>Body Mass (g)</th>\n",
       "      <th>Delta 15 N (o/oo)</th>\n",
       "      <th>Delta 13 C (o/oo)</th>\n",
       "    </tr>\n",
       "  </thead>\n",
       "  <tbody>\n",
       "    <tr>\n",
       "      <th>count</th>\n",
       "      <td>344.000000</td>\n",
       "      <td>344.000000</td>\n",
       "      <td>342.000000</td>\n",
       "      <td>342.000000</td>\n",
       "      <td>342.000000</td>\n",
       "      <td>342.000000</td>\n",
       "      <td>330.000000</td>\n",
       "      <td>331.000000</td>\n",
       "    </tr>\n",
       "    <tr>\n",
       "      <th>mean</th>\n",
       "      <td>172.500000</td>\n",
       "      <td>63.151163</td>\n",
       "      <td>43.921930</td>\n",
       "      <td>17.151170</td>\n",
       "      <td>200.915205</td>\n",
       "      <td>4201.754386</td>\n",
       "      <td>8.733382</td>\n",
       "      <td>-25.686292</td>\n",
       "    </tr>\n",
       "    <tr>\n",
       "      <th>std</th>\n",
       "      <td>99.448479</td>\n",
       "      <td>40.430199</td>\n",
       "      <td>5.459584</td>\n",
       "      <td>1.974793</td>\n",
       "      <td>14.061714</td>\n",
       "      <td>801.954536</td>\n",
       "      <td>0.551770</td>\n",
       "      <td>0.793961</td>\n",
       "    </tr>\n",
       "    <tr>\n",
       "      <th>min</th>\n",
       "      <td>1.000000</td>\n",
       "      <td>1.000000</td>\n",
       "      <td>32.100000</td>\n",
       "      <td>13.100000</td>\n",
       "      <td>172.000000</td>\n",
       "      <td>2700.000000</td>\n",
       "      <td>7.632200</td>\n",
       "      <td>-27.018540</td>\n",
       "    </tr>\n",
       "    <tr>\n",
       "      <th>25%</th>\n",
       "      <td>86.750000</td>\n",
       "      <td>29.000000</td>\n",
       "      <td>39.225000</td>\n",
       "      <td>15.600000</td>\n",
       "      <td>190.000000</td>\n",
       "      <td>3550.000000</td>\n",
       "      <td>8.299890</td>\n",
       "      <td>-26.320305</td>\n",
       "    </tr>\n",
       "    <tr>\n",
       "      <th>50%</th>\n",
       "      <td>172.500000</td>\n",
       "      <td>58.000000</td>\n",
       "      <td>44.450000</td>\n",
       "      <td>17.300000</td>\n",
       "      <td>197.000000</td>\n",
       "      <td>4050.000000</td>\n",
       "      <td>8.652405</td>\n",
       "      <td>-25.833520</td>\n",
       "    </tr>\n",
       "    <tr>\n",
       "      <th>75%</th>\n",
       "      <td>258.250000</td>\n",
       "      <td>95.250000</td>\n",
       "      <td>48.500000</td>\n",
       "      <td>18.700000</td>\n",
       "      <td>213.000000</td>\n",
       "      <td>4750.000000</td>\n",
       "      <td>9.172123</td>\n",
       "      <td>-25.062050</td>\n",
       "    </tr>\n",
       "    <tr>\n",
       "      <th>max</th>\n",
       "      <td>344.000000</td>\n",
       "      <td>152.000000</td>\n",
       "      <td>59.600000</td>\n",
       "      <td>21.500000</td>\n",
       "      <td>231.000000</td>\n",
       "      <td>6300.000000</td>\n",
       "      <td>10.025440</td>\n",
       "      <td>-23.787670</td>\n",
       "    </tr>\n",
       "  </tbody>\n",
       "</table>\n",
       "</div>"
      ],
      "text/plain": [
       "       Unnamed: 0  Sample Number  Culmen Length (mm)  Culmen Depth (mm)  \\\n",
       "count  344.000000     344.000000          342.000000         342.000000   \n",
       "mean   172.500000      63.151163           43.921930          17.151170   \n",
       "std     99.448479      40.430199            5.459584           1.974793   \n",
       "min      1.000000       1.000000           32.100000          13.100000   \n",
       "25%     86.750000      29.000000           39.225000          15.600000   \n",
       "50%    172.500000      58.000000           44.450000          17.300000   \n",
       "75%    258.250000      95.250000           48.500000          18.700000   \n",
       "max    344.000000     152.000000           59.600000          21.500000   \n",
       "\n",
       "       Flipper Length (mm)  Body Mass (g)  Delta 15 N (o/oo)  \\\n",
       "count           342.000000     342.000000         330.000000   \n",
       "mean            200.915205    4201.754386           8.733382   \n",
       "std              14.061714     801.954536           0.551770   \n",
       "min             172.000000    2700.000000           7.632200   \n",
       "25%             190.000000    3550.000000           8.299890   \n",
       "50%             197.000000    4050.000000           8.652405   \n",
       "75%             213.000000    4750.000000           9.172123   \n",
       "max             231.000000    6300.000000          10.025440   \n",
       "\n",
       "       Delta 13 C (o/oo)  \n",
       "count         331.000000  \n",
       "mean          -25.686292  \n",
       "std             0.793961  \n",
       "min           -27.018540  \n",
       "25%           -26.320305  \n",
       "50%           -25.833520  \n",
       "75%           -25.062050  \n",
       "max           -23.787670  "
      ]
     },
     "execution_count": 81,
     "metadata": {},
     "output_type": "execute_result"
    }
   ],
   "source": [
    "penguins.describe()"
   ]
  },
  {
   "cell_type": "markdown",
   "id": "07aaf975",
   "metadata": {},
   "source": [
    "#### Conclusion of data inspection"
   ]
  },
  {
   "cell_type": "markdown",
   "id": "b9cad8cf",
   "metadata": {},
   "source": [
    "### Analyzing data true visuals"
   ]
  },
  {
   "cell_type": "markdown",
   "id": "29c114e4",
   "metadata": {},
   "source": [
    "#### Culmen ratio"
   ]
  },
  {
   "cell_type": "code",
   "execution_count": 98,
   "id": "eef45dfb",
   "metadata": {},
   "outputs": [],
   "source": [
    "penguins['CulmenRatio'] = penguins['Culmen Length (mm)'] / penguins['Culmen Depth (mm)']\n"
   ]
  },
  {
   "cell_type": "code",
   "execution_count": 99,
   "id": "4e6c7a9b",
   "metadata": {},
   "outputs": [
    {
     "data": {
      "text/plain": [
       "2.605648508956524"
      ]
     },
     "execution_count": 99,
     "metadata": {},
     "output_type": "execute_result"
    }
   ],
   "source": [
    "penguins['CulmenRatio'].mean()"
   ]
  },
  {
   "cell_type": "code",
   "execution_count": 100,
   "id": "1617c76d",
   "metadata": {},
   "outputs": [
    {
     "data": {
      "text/plain": [
       "[Text(0.5, 1.0, 'Relation between CulmenRatio and Island')]"
      ]
     },
     "execution_count": 100,
     "metadata": {},
     "output_type": "execute_result"
    },
    {
     "data": {
      "image/png": "[encoded data removed]",
      "text/plain": [
       "<Figure size 432x288 with 1 Axes>"
      ]
     },
     "metadata": {
      "needs_background": "light"
     },
     "output_type": "display_data"
    }
   ],
   "source": [
    "fig, axes = plt.subplots()\n",
    "sns.boxplot(x=\"Island\", y=\"CulmenRatio\", data=penguins).set(title=\"Relation between CulmenRatio and Island\")"
   ]
  },
  {
   "cell_type": "markdown",
   "id": "62678bd3",
   "metadata": {},
   "source": [
    "#### Correlation in a heatmap"
   ]
  },
  {
   "cell_type": "code",
   "execution_count": 86,
   "id": "6fcad594",
   "metadata": {},
   "outputs": [
    {
     "data": {
      "text/html": [
       "<div>\n",
       "<style scoped>\n",
       "    .dataframe tbody tr th:only-of-type {\n",
       "        vertical-align: middle;\n",
       "    }\n",
       "\n",
       "    .dataframe tbody tr th {\n",
       "        vertical-align: top;\n",
       "    }\n",
       "\n",
       "    .dataframe thead th {\n",
       "        text-align: right;\n",
       "    }\n",
       "</style>\n",
       "<table border=\"1\" class=\"dataframe\">\n",
       "  <thead>\n",
       "    <tr style=\"text-align: right;\">\n",
       "      <th></th>\n",
       "      <th>Body Mass (g)</th>\n",
       "      <th>Culmen Length (mm)</th>\n",
       "      <th>Culmen Depth (mm)</th>\n",
       "      <th>Flipper Length (mm)</th>\n",
       "    </tr>\n",
       "  </thead>\n",
       "  <tbody>\n",
       "    <tr>\n",
       "      <th>Body Mass (g)</th>\n",
       "      <td>1.000000</td>\n",
       "      <td>0.595110</td>\n",
       "      <td>-0.471916</td>\n",
       "      <td>0.871202</td>\n",
       "    </tr>\n",
       "    <tr>\n",
       "      <th>Culmen Length (mm)</th>\n",
       "      <td>0.595110</td>\n",
       "      <td>1.000000</td>\n",
       "      <td>-0.235053</td>\n",
       "      <td>0.656181</td>\n",
       "    </tr>\n",
       "    <tr>\n",
       "      <th>Culmen Depth (mm)</th>\n",
       "      <td>-0.471916</td>\n",
       "      <td>-0.235053</td>\n",
       "      <td>1.000000</td>\n",
       "      <td>-0.583851</td>\n",
       "    </tr>\n",
       "    <tr>\n",
       "      <th>Flipper Length (mm)</th>\n",
       "      <td>0.871202</td>\n",
       "      <td>0.656181</td>\n",
       "      <td>-0.583851</td>\n",
       "      <td>1.000000</td>\n",
       "    </tr>\n",
       "  </tbody>\n",
       "</table>\n",
       "</div>"
      ],
      "text/plain": [
       "                     Body Mass (g)  Culmen Length (mm)  Culmen Depth (mm)  \\\n",
       "Body Mass (g)             1.000000            0.595110          -0.471916   \n",
       "Culmen Length (mm)        0.595110            1.000000          -0.235053   \n",
       "Culmen Depth (mm)        -0.471916           -0.235053           1.000000   \n",
       "Flipper Length (mm)       0.871202            0.656181          -0.583851   \n",
       "\n",
       "                     Flipper Length (mm)  \n",
       "Body Mass (g)                   0.871202  \n",
       "Culmen Length (mm)              0.656181  \n",
       "Culmen Depth (mm)              -0.583851  \n",
       "Flipper Length (mm)             1.000000  "
      ]
     },
     "execution_count": 86,
     "metadata": {},
     "output_type": "execute_result"
    }
   ],
   "source": [
    "penguins[[\"Body Mass (g)\", \"Culmen Length (mm)\", 'Culmen Depth (mm)', 'Flipper Length (mm)']].corr()"
   ]
  },
  {
   "cell_type": "code",
   "execution_count": 93,
   "id": "9e179428",
   "metadata": {},
   "outputs": [
    {
     "data": {
      "image/png": "[encoded data removed]",
      "text/plain": [
       "<Figure size 432x288 with 2 Axes>"
      ]
     },
     "metadata": {
      "needs_background": "light"
     },
     "output_type": "display_data"
    }
   ],
   "source": [
    "sns.heatmap(penguins[[\"Body Mass (g)\", \"Culmen Length (mm)\", 'Culmen Depth (mm)', 'Flipper Length (mm)']].corr(), annot=True, cmap = 'Greens')\n",
    "plt.show()"
   ]
  },
  {
   "cell_type": "markdown",
   "id": "b42528bf",
   "metadata": {},
   "source": [
    "#### Slider"
   ]
  },
  {
   "cell_type": "code",
   "execution_count": 107,
   "id": "aad78cb2",
   "metadata": {},
   "outputs": [
    {
     "ename": "ValueError",
     "evalue": "\n    Invalid value of type 'builtins.str' received for the 'marker' property of scatter\n        Received value: 'Red'\n\n    The 'marker' property is an instance of Marker\n    that may be specified as:\n      - An instance of :class:`plotly.graph_objs.scatter.Marker`\n      - A dict of string/value properties that will be passed\n        to the Marker constructor\n\n        Supported dict properties:\n            \n            autocolorscale\n                Determines whether the colorscale is a default\n                palette (`autocolorscale: true`) or the palette\n                determined by `marker.colorscale`. Has an\n                effect only if in `marker.color`is set to a\n                numerical array. In case `colorscale` is\n                unspecified or `autocolorscale` is true, the\n                default  palette will be chosen according to\n                whether numbers in the `color` array are all\n                positive, all negative or mixed.\n            cauto\n                Determines whether or not the color domain is\n                computed with respect to the input data (here\n                in `marker.color`) or the bounds set in\n                `marker.cmin` and `marker.cmax`  Has an effect\n                only if in `marker.color`is set to a numerical\n                array. Defaults to `false` when `marker.cmin`\n                and `marker.cmax` are set by the user.\n            cmax\n                Sets the upper bound of the color domain. Has\n                an effect only if in `marker.color`is set to a\n                numerical array. Value should have the same\n                units as in `marker.color` and if set,\n                `marker.cmin` must be set as well.\n            cmid\n                Sets the mid-point of the color domain by\n                scaling `marker.cmin` and/or `marker.cmax` to\n                be equidistant to this point. Has an effect\n                only if in `marker.color`is set to a numerical\n                array. Value should have the same units as in\n                `marker.color`. Has no effect when\n                `marker.cauto` is `false`.\n            cmin\n                Sets the lower bound of the color domain. Has\n                an effect only if in `marker.color`is set to a\n                numerical array. Value should have the same\n                units as in `marker.color` and if set,\n                `marker.cmax` must be set as well.\n            color\n                Sets themarkercolor. It accepts either a\n                specific color or an array of numbers that are\n                mapped to the colorscale relative to the max\n                and min values of the array or relative to\n                `marker.cmin` and `marker.cmax` if set.\n            coloraxis\n                Sets a reference to a shared color axis.\n                References to these shared color axes are\n                \"coloraxis\", \"coloraxis2\", \"coloraxis3\", etc.\n                Settings for these shared color axes are set in\n                the layout, under `layout.coloraxis`,\n                `layout.coloraxis2`, etc. Note that multiple\n                color scales can be linked to the same color\n                axis.\n            colorbar\n                :class:`plotly.graph_objects.scatter.marker.Col\n                orBar` instance or dict with compatible\n                properties\n            colorscale\n                Sets the colorscale. Has an effect only if in\n                `marker.color`is set to a numerical array. The\n                colorscale must be an array containing arrays\n                mapping a normalized value to an rgb, rgba,\n                hex, hsl, hsv, or named color string. At\n                minimum, a mapping for the lowest (0) and\n                highest (1) values are required. For example,\n                `[[0, 'rgb(0,0,255)'], [1, 'rgb(255,0,0)']]`.\n                To control the bounds of the colorscale in\n                color space, use`marker.cmin` and\n                `marker.cmax`. Alternatively, `colorscale` may\n                be a palette name string of the following list:\n                Blackbody,Bluered,Blues,Cividis,Earth,Electric,\n                Greens,Greys,Hot,Jet,Picnic,Portland,Rainbow,Rd\n                Bu,Reds,Viridis,YlGnBu,YlOrRd.\n            colorsrc\n                Sets the source reference on Chart Studio Cloud\n                for  color .\n            gradient\n                :class:`plotly.graph_objects.scatter.marker.Gra\n                dient` instance or dict with compatible\n                properties\n            line\n                :class:`plotly.graph_objects.scatter.marker.Lin\n                e` instance or dict with compatible properties\n            maxdisplayed\n                Sets a maximum number of points to be drawn on\n                the graph. 0 corresponds to no limit.\n            opacity\n                Sets the marker opacity.\n            opacitysrc\n                Sets the source reference on Chart Studio Cloud\n                for  opacity .\n            reversescale\n                Reverses the color mapping if true. Has an\n                effect only if in `marker.color`is set to a\n                numerical array. If true, `marker.cmin` will\n                correspond to the last color in the array and\n                `marker.cmax` will correspond to the first\n                color.\n            showscale\n                Determines whether or not a colorbar is\n                displayed for this trace. Has an effect only if\n                in `marker.color`is set to a numerical array.\n            size\n                Sets the marker size (in px).\n            sizemin\n                Has an effect only if `marker.size` is set to a\n                numerical array. Sets the minimum size (in px)\n                of the rendered marker points.\n            sizemode\n                Has an effect only if `marker.size` is set to a\n                numerical array. Sets the rule for which the\n                data in `size` is converted to pixels.\n            sizeref\n                Has an effect only if `marker.size` is set to a\n                numerical array. Sets the scale factor used to\n                determine the rendered size of marker points.\n                Use with `sizemin` and `sizemode`.\n            sizesrc\n                Sets the source reference on Chart Studio Cloud\n                for  size .\n            symbol\n                Sets the marker symbol type. Adding 100 is\n                equivalent to appending \"-open\" to a symbol\n                name. Adding 200 is equivalent to appending\n                \"-dot\" to a symbol name. Adding 300 is\n                equivalent to appending \"-open-dot\" or \"dot-\n                open\" to a symbol name.\n            symbolsrc\n                Sets the source reference on Chart Studio Cloud\n                for  symbol .\n",
     "output_type": "error",
     "traceback": [
      "\u001b[1;31m---------------------------------------------------------------------------\u001b[0m",
      "\u001b[1;31mValueError\u001b[0m                                Traceback (most recent call last)",
      "\u001b[1;32m<ipython-input-107-56d7d08613b9>\u001b[0m in \u001b[0;36m<module>\u001b[1;34m\u001b[0m\n\u001b[0;32m      2\u001b[0m \u001b[1;32mfor\u001b[0m \u001b[0misland\u001b[0m \u001b[1;32min\u001b[0m \u001b[1;33m[\u001b[0m\u001b[1;34m'Torgersen'\u001b[0m\u001b[1;33m,\u001b[0m \u001b[1;34m'Biscoe'\u001b[0m\u001b[1;33m,\u001b[0m \u001b[1;34m'Dream'\u001b[0m\u001b[1;33m]\u001b[0m\u001b[1;33m:\u001b[0m\u001b[1;33m\u001b[0m\u001b[1;33m\u001b[0m\u001b[0m\n\u001b[0;32m      3\u001b[0m     \u001b[0mdf\u001b[0m \u001b[1;33m=\u001b[0m \u001b[0mpenguins\u001b[0m\u001b[1;33m[\u001b[0m\u001b[0mpenguins\u001b[0m\u001b[1;33m.\u001b[0m\u001b[0mIsland\u001b[0m \u001b[1;33m==\u001b[0m \u001b[0misland\u001b[0m\u001b[1;33m]\u001b[0m\u001b[1;33m\u001b[0m\u001b[1;33m\u001b[0m\u001b[0m\n\u001b[1;32m----> 4\u001b[1;33m     fig.add_trace(go.Scatter(\n\u001b[0m\u001b[0;32m      5\u001b[0m         \u001b[0mx\u001b[0m\u001b[1;33m=\u001b[0m\u001b[0mdf\u001b[0m\u001b[1;33m[\u001b[0m\u001b[1;34m\"Culmen Length (mm)\"\u001b[0m\u001b[1;33m]\u001b[0m\u001b[1;33m,\u001b[0m\u001b[1;33m\u001b[0m\u001b[1;33m\u001b[0m\u001b[0m\n\u001b[0;32m      6\u001b[0m         \u001b[0my\u001b[0m\u001b[1;33m=\u001b[0m\u001b[0mdf\u001b[0m\u001b[1;33m[\u001b[0m\u001b[1;34m\"Culmen Depth (mm)\"\u001b[0m\u001b[1;33m]\u001b[0m\u001b[1;33m,\u001b[0m\u001b[1;33m\u001b[0m\u001b[1;33m\u001b[0m\u001b[0m\n",
      "\u001b[1;32m~\\anaconda3\\lib\\site-packages\\plotly\\graph_objs\\_scatter.py\u001b[0m in \u001b[0;36m__init__\u001b[1;34m(self, arg, cliponaxis, connectgaps, customdata, customdatasrc, dx, dy, error_x, error_y, fill, fillcolor, groupnorm, hoverinfo, hoverinfosrc, hoverlabel, hoveron, hovertemplate, hovertemplatesrc, hovertext, hovertextsrc, ids, idssrc, legendgroup, legendgrouptitle, legendrank, line, marker, meta, metasrc, mode, name, opacity, orientation, selected, selectedpoints, showlegend, stackgaps, stackgroup, stream, text, textfont, textposition, textpositionsrc, textsrc, texttemplate, texttemplatesrc, uid, uirevision, unselected, visible, x, x0, xaxis, xcalendar, xhoverformat, xperiod, xperiod0, xperiodalignment, xsrc, y, y0, yaxis, ycalendar, yhoverformat, yperiod, yperiod0, yperiodalignment, ysrc, **kwargs)\u001b[0m\n\u001b[0;32m   3110\u001b[0m         \u001b[0m_v\u001b[0m \u001b[1;33m=\u001b[0m \u001b[0mmarker\u001b[0m \u001b[1;32mif\u001b[0m \u001b[0mmarker\u001b[0m \u001b[1;32mis\u001b[0m \u001b[1;32mnot\u001b[0m \u001b[1;32mNone\u001b[0m \u001b[1;32melse\u001b[0m \u001b[0m_v\u001b[0m\u001b[1;33m\u001b[0m\u001b[1;33m\u001b[0m\u001b[0m\n\u001b[0;32m   3111\u001b[0m         \u001b[1;32mif\u001b[0m \u001b[0m_v\u001b[0m \u001b[1;32mis\u001b[0m \u001b[1;32mnot\u001b[0m \u001b[1;32mNone\u001b[0m\u001b[1;33m:\u001b[0m\u001b[1;33m\u001b[0m\u001b[1;33m\u001b[0m\u001b[0m\n\u001b[1;32m-> 3112\u001b[1;33m             \u001b[0mself\u001b[0m\u001b[1;33m[\u001b[0m\u001b[1;34m\"marker\"\u001b[0m\u001b[1;33m]\u001b[0m \u001b[1;33m=\u001b[0m \u001b[0m_v\u001b[0m\u001b[1;33m\u001b[0m\u001b[1;33m\u001b[0m\u001b[0m\n\u001b[0m\u001b[0;32m   3113\u001b[0m         \u001b[0m_v\u001b[0m \u001b[1;33m=\u001b[0m \u001b[0marg\u001b[0m\u001b[1;33m.\u001b[0m\u001b[0mpop\u001b[0m\u001b[1;33m(\u001b[0m\u001b[1;34m\"meta\"\u001b[0m\u001b[1;33m,\u001b[0m \u001b[1;32mNone\u001b[0m\u001b[1;33m)\u001b[0m\u001b[1;33m\u001b[0m\u001b[1;33m\u001b[0m\u001b[0m\n\u001b[0;32m   3114\u001b[0m         \u001b[0m_v\u001b[0m \u001b[1;33m=\u001b[0m \u001b[0mmeta\u001b[0m \u001b[1;32mif\u001b[0m \u001b[0mmeta\u001b[0m \u001b[1;32mis\u001b[0m \u001b[1;32mnot\u001b[0m \u001b[1;32mNone\u001b[0m \u001b[1;32melse\u001b[0m \u001b[0m_v\u001b[0m\u001b[1;33m\u001b[0m\u001b[1;33m\u001b[0m\u001b[0m\n",
      "\u001b[1;32m~\\anaconda3\\lib\\site-packages\\plotly\\basedatatypes.py\u001b[0m in \u001b[0;36m__setitem__\u001b[1;34m(self, prop, value)\u001b[0m\n\u001b[0;32m   4809\u001b[0m                 \u001b[1;31m# ### Handle compound property ###\u001b[0m\u001b[1;33m\u001b[0m\u001b[1;33m\u001b[0m\u001b[1;33m\u001b[0m\u001b[0m\n\u001b[0;32m   4810\u001b[0m                 \u001b[1;32mif\u001b[0m \u001b[0misinstance\u001b[0m\u001b[1;33m(\u001b[0m\u001b[0mvalidator\u001b[0m\u001b[1;33m,\u001b[0m \u001b[0mCompoundValidator\u001b[0m\u001b[1;33m)\u001b[0m\u001b[1;33m:\u001b[0m\u001b[1;33m\u001b[0m\u001b[1;33m\u001b[0m\u001b[0m\n\u001b[1;32m-> 4811\u001b[1;33m                     \u001b[0mself\u001b[0m\u001b[1;33m.\u001b[0m\u001b[0m_set_compound_prop\u001b[0m\u001b[1;33m(\u001b[0m\u001b[0mprop\u001b[0m\u001b[1;33m,\u001b[0m \u001b[0mvalue\u001b[0m\u001b[1;33m)\u001b[0m\u001b[1;33m\u001b[0m\u001b[1;33m\u001b[0m\u001b[0m\n\u001b[0m\u001b[0;32m   4812\u001b[0m \u001b[1;33m\u001b[0m\u001b[0m\n\u001b[0;32m   4813\u001b[0m                 \u001b[1;31m# ### Handle compound array property ###\u001b[0m\u001b[1;33m\u001b[0m\u001b[1;33m\u001b[0m\u001b[1;33m\u001b[0m\u001b[0m\n",
      "\u001b[1;32m~\\anaconda3\\lib\\site-packages\\plotly\\basedatatypes.py\u001b[0m in \u001b[0;36m_set_compound_prop\u001b[1;34m(self, prop, val)\u001b[0m\n\u001b[0;32m   5220\u001b[0m         \u001b[1;31m# ------------\u001b[0m\u001b[1;33m\u001b[0m\u001b[1;33m\u001b[0m\u001b[1;33m\u001b[0m\u001b[0m\n\u001b[0;32m   5221\u001b[0m         \u001b[0mvalidator\u001b[0m \u001b[1;33m=\u001b[0m \u001b[0mself\u001b[0m\u001b[1;33m.\u001b[0m\u001b[0m_get_validator\u001b[0m\u001b[1;33m(\u001b[0m\u001b[0mprop\u001b[0m\u001b[1;33m)\u001b[0m\u001b[1;33m\u001b[0m\u001b[1;33m\u001b[0m\u001b[0m\n\u001b[1;32m-> 5222\u001b[1;33m         \u001b[0mval\u001b[0m \u001b[1;33m=\u001b[0m \u001b[0mvalidator\u001b[0m\u001b[1;33m.\u001b[0m\u001b[0mvalidate_coerce\u001b[0m\u001b[1;33m(\u001b[0m\u001b[0mval\u001b[0m\u001b[1;33m,\u001b[0m \u001b[0mskip_invalid\u001b[0m\u001b[1;33m=\u001b[0m\u001b[0mself\u001b[0m\u001b[1;33m.\u001b[0m\u001b[0m_skip_invalid\u001b[0m\u001b[1;33m)\u001b[0m\u001b[1;33m\u001b[0m\u001b[1;33m\u001b[0m\u001b[0m\n\u001b[0m\u001b[0;32m   5223\u001b[0m \u001b[1;33m\u001b[0m\u001b[0m\n\u001b[0;32m   5224\u001b[0m         \u001b[1;31m# Save deep copies of current and new states\u001b[0m\u001b[1;33m\u001b[0m\u001b[1;33m\u001b[0m\u001b[1;33m\u001b[0m\u001b[0m\n",
      "\u001b[1;32m~\\anaconda3\\lib\\site-packages\\_plotly_utils\\basevalidators.py\u001b[0m in \u001b[0;36mvalidate_coerce\u001b[1;34m(self, v, skip_invalid, _validate)\u001b[0m\n\u001b[0;32m   2474\u001b[0m                 \u001b[0mv\u001b[0m \u001b[1;33m=\u001b[0m \u001b[0mself\u001b[0m\u001b[1;33m.\u001b[0m\u001b[0mdata_class\u001b[0m\u001b[1;33m(\u001b[0m\u001b[1;33m)\u001b[0m\u001b[1;33m\u001b[0m\u001b[1;33m\u001b[0m\u001b[0m\n\u001b[0;32m   2475\u001b[0m             \u001b[1;32melse\u001b[0m\u001b[1;33m:\u001b[0m\u001b[1;33m\u001b[0m\u001b[1;33m\u001b[0m\u001b[0m\n\u001b[1;32m-> 2476\u001b[1;33m                 \u001b[0mself\u001b[0m\u001b[1;33m.\u001b[0m\u001b[0mraise_invalid_val\u001b[0m\u001b[1;33m(\u001b[0m\u001b[0mv\u001b[0m\u001b[1;33m)\u001b[0m\u001b[1;33m\u001b[0m\u001b[1;33m\u001b[0m\u001b[0m\n\u001b[0m\u001b[0;32m   2477\u001b[0m \u001b[1;33m\u001b[0m\u001b[0m\n\u001b[0;32m   2478\u001b[0m         \u001b[0mv\u001b[0m\u001b[1;33m.\u001b[0m\u001b[0m_plotly_name\u001b[0m \u001b[1;33m=\u001b[0m \u001b[0mself\u001b[0m\u001b[1;33m.\u001b[0m\u001b[0mplotly_name\u001b[0m\u001b[1;33m\u001b[0m\u001b[1;33m\u001b[0m\u001b[0m\n",
      "\u001b[1;32m~\\anaconda3\\lib\\site-packages\\_plotly_utils\\basevalidators.py\u001b[0m in \u001b[0;36mraise_invalid_val\u001b[1;34m(self, v, inds)\u001b[0m\n\u001b[0;32m    287\u001b[0m                 \u001b[0mname\u001b[0m \u001b[1;33m+=\u001b[0m \u001b[1;34m\"[\"\u001b[0m \u001b[1;33m+\u001b[0m \u001b[0mstr\u001b[0m\u001b[1;33m(\u001b[0m\u001b[0mi\u001b[0m\u001b[1;33m)\u001b[0m \u001b[1;33m+\u001b[0m \u001b[1;34m\"]\"\u001b[0m\u001b[1;33m\u001b[0m\u001b[1;33m\u001b[0m\u001b[0m\n\u001b[0;32m    288\u001b[0m \u001b[1;33m\u001b[0m\u001b[0m\n\u001b[1;32m--> 289\u001b[1;33m         raise ValueError(\n\u001b[0m\u001b[0;32m    290\u001b[0m             \"\"\"\n\u001b[0;32m    291\u001b[0m     \u001b[0mInvalid\u001b[0m \u001b[0mvalue\u001b[0m \u001b[0mof\u001b[0m \u001b[0mtype\u001b[0m \u001b[1;33m{\u001b[0m\u001b[0mtyp\u001b[0m\u001b[1;33m}\u001b[0m \u001b[0mreceived\u001b[0m \u001b[1;32mfor\u001b[0m \u001b[0mthe\u001b[0m \u001b[1;34m'{name}'\u001b[0m \u001b[0mproperty\u001b[0m \u001b[0mof\u001b[0m \u001b[1;33m{\u001b[0m\u001b[0mpname\u001b[0m\u001b[1;33m}\u001b[0m\u001b[1;33m\u001b[0m\u001b[1;33m\u001b[0m\u001b[0m\n",
      "\u001b[1;31mValueError\u001b[0m: \n    Invalid value of type 'builtins.str' received for the 'marker' property of scatter\n        Received value: 'Red'\n\n    The 'marker' property is an instance of Marker\n    that may be specified as:\n      - An instance of :class:`plotly.graph_objs.scatter.Marker`\n      - A dict of string/value properties that will be passed\n        to the Marker constructor\n\n        Supported dict properties:\n            \n            autocolorscale\n                Determines whether the colorscale is a default\n                palette (`autocolorscale: true`) or the palette\n                determined by `marker.colorscale`. Has an\n                effect only if in `marker.color`is set to a\n                numerical array. In case `colorscale` is\n                unspecified or `autocolorscale` is true, the\n                default  palette will be chosen according to\n                whether numbers in the `color` array are all\n                positive, all negative or mixed.\n            cauto\n                Determines whether or not the color domain is\n                computed with respect to the input data (here\n                in `marker.color`) or the bounds set in\n                `marker.cmin` and `marker.cmax`  Has an effect\n                only if in `marker.color`is set to a numerical\n                array. Defaults to `false` when `marker.cmin`\n                and `marker.cmax` are set by the user.\n            cmax\n                Sets the upper bound of the color domain. Has\n                an effect only if in `marker.color`is set to a\n                numerical array. Value should have the same\n                units as in `marker.color` and if set,\n                `marker.cmin` must be set as well.\n            cmid\n                Sets the mid-point of the color domain by\n                scaling `marker.cmin` and/or `marker.cmax` to\n                be equidistant to this point. Has an effect\n                only if in `marker.color`is set to a numerical\n                array. Value should have the same units as in\n                `marker.color`. Has no effect when\n                `marker.cauto` is `false`.\n            cmin\n                Sets the lower bound of the color domain. Has\n                an effect only if in `marker.color`is set to a\n                numerical array. Value should have the same\n                units as in `marker.color` and if set,\n                `marker.cmax` must be set as well.\n            color\n                Sets themarkercolor. It accepts either a\n                specific color or an array of numbers that are\n                mapped to the colorscale relative to the max\n                and min values of the array or relative to\n                `marker.cmin` and `marker.cmax` if set.\n            coloraxis\n                Sets a reference to a shared color axis.\n                References to these shared color axes are\n                \"coloraxis\", \"coloraxis2\", \"coloraxis3\", etc.\n                Settings for these shared color axes are set in\n                the layout, under `layout.coloraxis`,\n                `layout.coloraxis2`, etc. Note that multiple\n                color scales can be linked to the same color\n                axis.\n            colorbar\n                :class:`plotly.graph_objects.scatter.marker.Col\n                orBar` instance or dict with compatible\n                properties\n            colorscale\n                Sets the colorscale. Has an effect only if in\n                `marker.color`is set to a numerical array. The\n                colorscale must be an array containing arrays\n                mapping a normalized value to an rgb, rgba,\n                hex, hsl, hsv, or named color string. At\n                minimum, a mapping for the lowest (0) and\n                highest (1) values are required. For example,\n                `[[0, 'rgb(0,0,255)'], [1, 'rgb(255,0,0)']]`.\n                To control the bounds of the colorscale in\n                color space, use`marker.cmin` and\n                `marker.cmax`. Alternatively, `colorscale` may\n                be a palette name string of the following list:\n                Blackbody,Bluered,Blues,Cividis,Earth,Electric,\n                Greens,Greys,Hot,Jet,Picnic,Portland,Rainbow,Rd\n                Bu,Reds,Viridis,YlGnBu,YlOrRd.\n            colorsrc\n                Sets the source reference on Chart Studio Cloud\n                for  color .\n            gradient\n                :class:`plotly.graph_objects.scatter.marker.Gra\n                dient` instance or dict with compatible\n                properties\n            line\n                :class:`plotly.graph_objects.scatter.marker.Lin\n                e` instance or dict with compatible properties\n            maxdisplayed\n                Sets a maximum number of points to be drawn on\n                the graph. 0 corresponds to no limit.\n            opacity\n                Sets the marker opacity.\n            opacitysrc\n                Sets the source reference on Chart Studio Cloud\n                for  opacity .\n            reversescale\n                Reverses the color mapping if true. Has an\n                effect only if in `marker.color`is set to a\n                numerical array. If true, `marker.cmin` will\n                correspond to the last color in the array and\n                `marker.cmax` will correspond to the first\n                color.\n            showscale\n                Determines whether or not a colorbar is\n                displayed for this trace. Has an effect only if\n                in `marker.color`is set to a numerical array.\n            size\n                Sets the marker size (in px).\n            sizemin\n                Has an effect only if `marker.size` is set to a\n                numerical array. Sets the minimum size (in px)\n                of the rendered marker points.\n            sizemode\n                Has an effect only if `marker.size` is set to a\n                numerical array. Sets the rule for which the\n                data in `size` is converted to pixels.\n            sizeref\n                Has an effect only if `marker.size` is set to a\n                numerical array. Sets the scale factor used to\n                determine the rendered size of marker points.\n                Use with `sizemin` and `sizemode`.\n            sizesrc\n                Sets the source reference on Chart Studio Cloud\n                for  size .\n            symbol\n                Sets the marker symbol type. Adding 100 is\n                equivalent to appending \"-open\" to a symbol\n                name. Adding 200 is equivalent to appending\n                \"-dot\" to a symbol name. Adding 300 is\n                equivalent to appending \"-open-dot\" or \"dot-\n                open\" to a symbol name.\n            symbolsrc\n                Sets the source reference on Chart Studio Cloud\n                for  symbol .\n"
     ]
    }
   ],
   "source": [
    "fig = go.Figure()\n",
    "for island in ['Torgersen', 'Biscoe', 'Dream']:\n",
    "    df = penguins[penguins.Island == island]\n",
    "    fig.add_trace(go.Scatter(\n",
    "        x=df[\"Culmen Length (mm)\"],\n",
    "        y=df[\"Culmen Depth (mm)\"],\n",
    "        mode='markers',\n",
    "        name=island))\n",
    "\n",
    "    \n",
    "sliders = [\n",
    "    {'steps':[\n",
    "    {'method': 'update', 'label': 'Torgensen', 'args': [{'visible': [True, False, False]}]},\n",
    "    {'method': 'update', 'label': 'Biscoe', 'args': [{'visible': [False, True, False]}]},\n",
    "    {'method': 'update', 'label': 'Dream', 'args': [{'visible': [False, False, True]}]}]}]\n",
    "fig.data[0].visible=False\n",
    "fig.data[1].visible=False\n",
    "fig.update_layout({'sliders': sliders},\n",
    "                   xaxis_title='Culmen Length (mm)',\n",
    "                   yaxis_title=\"Culmen Depth (mm)\",\n",
    "                   title = 'Relation between culmen length and depth')\n",
    "fig.show()"
   ]
  },
  {
   "cell_type": "markdown",
   "id": "597f2644",
   "metadata": {},
   "source": [
    "#### Dropdown menu"
   ]
  },
  {
   "cell_type": "code",
   "execution_count": 83,
   "id": "337b8a8f",
   "metadata": {},
   "outputs": [
    {
     "data": {
      "application/vnd.plotly.v1+json": {
       "config": {
        "plotlyServerURL": "https://plot.ly"
       },
       "data": [
        {
         "mode": "markers",
         "name": "Torgensen",
         "type": "scatter",
         "x": [],
         "y": []
        },
        {
         "mode": "markers",
         "name": "Biscoe",
         "type": "scatter",
         "x": [
          37.8,
          37.7,
          35.9,
          38.2,
          38.8,
          35.3,
          40.6,
          40.5,
          37.9,
          40.5,
          39.6,
          40.1,
          35,
          42,
          34.5,
          41.4,
          39,
          40.6,
          36.5,
          37.6,
          35.7,
          41.3,
          37.6,
          41.1,
          36.4,
          41.6,
          35.5,
          41.1,
          35,
          41,
          37.7,
          37.8,
          37.9,
          39.7,
          38.6,
          38.2,
          38.1,
          43.2,
          38.1,
          45.6,
          39.7,
          42.2,
          39.6,
          42.7,
          46.1,
          50,
          48.7,
          50,
          47.6,
          46.5,
          45.4,
          46.7,
          43.3,
          46.8,
          40.9,
          49,
          45.5,
          48.4,
          45.8,
          49.3,
          42,
          49.2,
          46.2,
          48.7,
          50.2,
          45.1,
          46.5,
          46.3,
          42.9,
          46.1,
          44.5,
          47.8,
          48.2,
          50,
          47.3,
          42.8,
          45.1,
          59.6,
          49.1,
          48.4,
          42.6,
          44.4,
          44,
          48.7,
          42.7,
          49.6,
          45.3,
          49.6,
          50.5,
          43.6,
          45.5,
          50.5,
          44.9,
          45.2,
          46.6,
          48.5,
          45.1,
          50.1,
          46.5,
          45,
          43.8,
          45.5,
          43.2,
          50.4,
          45.3,
          46.2,
          45.7,
          54.3,
          45.8,
          49.8,
          46.2,
          49.5,
          43.5,
          50.7,
          47.7,
          46.4,
          48.2,
          46.5,
          46.4,
          48.6,
          47.5,
          51.1,
          45.2,
          45.2,
          49.1,
          52.5,
          47.4,
          50,
          44.9,
          50.8,
          43.4,
          51.3,
          47.5,
          52.1,
          47.5,
          52.2,
          45.5,
          49.5,
          44.5,
          50.8,
          49.4,
          46.9,
          48.4,
          51.1,
          48.5,
          55.9,
          47.2,
          49.1,
          47.3,
          46.8,
          41.7,
          53.4,
          43.3,
          48.1,
          50.5,
          49.8,
          43.5,
          51.5,
          46.2,
          55.1,
          44.5,
          48.8,
          47.2,
          null,
          46.8,
          50.4,
          45.2,
          49.9
         ],
         "y": [
          18.3,
          18.7,
          19.2,
          18.1,
          17.2,
          18.9,
          18.6,
          17.9,
          18.6,
          18.9,
          17.7,
          18.9,
          17.9,
          19.5,
          18.1,
          18.6,
          17.5,
          18.8,
          16.6,
          19.1,
          16.9,
          21.1,
          17,
          18.2,
          17.1,
          18,
          16.2,
          19.1,
          17.9,
          20,
          16,
          20,
          18.6,
          18.9,
          17.2,
          20,
          17,
          19,
          16.5,
          20.3,
          17.7,
          19.5,
          20.7,
          18.3,
          13.2,
          16.3,
          14.1,
          15.2,
          14.5,
          13.5,
          14.6,
          15.3,
          13.4,
          15.4,
          13.7,
          16.1,
          13.7,
          14.6,
          14.6,
          15.7,
          13.5,
          15.2,
          14.5,
          15.1,
          14.3,
          14.5,
          14.5,
          15.8,
          13.1,
          15.1,
          14.3,
          15,
          14.3,
          15.3,
          15.3,
          14.2,
          14.5,
          17,
          14.8,
          16.3,
          13.7,
          17.3,
          13.6,
          15.7,
          13.7,
          16,
          13.7,
          15,
          15.9,
          13.9,
          13.9,
          15.9,
          13.3,
          15.8,
          14.2,
          14.1,
          14.4,
          15,
          14.4,
          15.4,
          13.9,
          15,
          14.5,
          15.3,
          13.8,
          14.9,
          13.9,
          15.7,
          14.2,
          16.8,
          14.4,
          16.2,
          14.2,
          15,
          15,
          15.6,
          15.6,
          14.8,
          15,
          16,
          14.2,
          16.3,
          13.8,
          16.4,
          14.5,
          15.6,
          14.6,
          15.9,
          13.8,
          17.3,
          14.4,
          14.2,
          14,
          17,
          15,
          17.1,
          14.5,
          16.1,
          14.7,
          15.7,
          15.8,
          14.6,
          14.4,
          16.5,
          15,
          17,
          15.5,
          15,
          13.8,
          16.1,
          14.7,
          15.8,
          14,
          15.1,
          15.2,
          15.9,
          15.2,
          16.3,
          14.1,
          16,
          15.7,
          16.2,
          13.7,
          null,
          14.3,
          15.7,
          14.8,
          16.1
         ]
        },
        {
         "mode": "markers",
         "name": "Dream",
         "type": "scatter",
         "x": [
          39.5,
          37.2,
          39.5,
          40.9,
          36.4,
          39.2,
          38.8,
          42.2,
          37.6,
          39.8,
          36.5,
          40.8,
          36,
          44.1,
          37,
          39.6,
          41.1,
          37.5,
          36,
          42.3,
          37.3,
          41.3,
          36.3,
          36.9,
          38.3,
          38.9,
          35.7,
          41.1,
          34,
          39.6,
          36.2,
          40.8,
          38.1,
          40.3,
          33.1,
          43.2,
          36.8,
          37.5,
          38.1,
          41.1,
          35.6,
          40.2,
          37,
          39.7,
          40.2,
          40.6,
          32.1,
          40.7,
          37.3,
          39,
          39.2,
          36.6,
          36,
          37.8,
          36,
          41.5,
          46.5,
          50,
          51.3,
          45.4,
          52.7,
          45.2,
          46.1,
          51.3,
          46,
          51.3,
          46.6,
          51.7,
          47,
          52,
          45.9,
          50.5,
          50.3,
          58,
          46.4,
          49.2,
          42.4,
          48.5,
          43.2,
          50.6,
          46.7,
          52,
          50.5,
          49.5,
          46.4,
          52.8,
          40.9,
          54.2,
          42.5,
          51,
          49.7,
          47.5,
          47.6,
          52,
          46.9,
          53.5,
          49,
          46.2,
          50.9,
          45.5,
          50.9,
          50.8,
          50.1,
          49,
          51.5,
          49.8,
          48.1,
          51.4,
          45.7,
          50.7,
          42.5,
          52.2,
          45.2,
          49.3,
          50.2,
          45.6,
          51.9,
          46.8,
          45.7,
          55.8,
          43.5,
          49.6,
          50.8,
          50.2
         ],
         "y": [
          16.7,
          18.1,
          17.8,
          18.9,
          17,
          21.1,
          20,
          18.5,
          19.3,
          19.1,
          18,
          18.4,
          18.5,
          19.7,
          16.9,
          18.8,
          19,
          18.9,
          17.9,
          21.2,
          17.8,
          20.3,
          19.5,
          18.6,
          19.2,
          18.8,
          18,
          18.1,
          17.1,
          18.1,
          17.3,
          18.9,
          18.6,
          18.5,
          16.1,
          18.5,
          18.5,
          18.5,
          17.6,
          17.5,
          17.5,
          20.1,
          16.5,
          17.9,
          17.1,
          17.2,
          15.5,
          17,
          16.8,
          18.7,
          18.6,
          18.4,
          17.8,
          18.1,
          17.1,
          18.5,
          17.9,
          19.5,
          19.2,
          18.7,
          19.8,
          17.8,
          18.2,
          18.2,
          18.9,
          19.9,
          17.8,
          20.3,
          17.3,
          18.1,
          17.1,
          19.6,
          20,
          17.8,
          18.6,
          18.2,
          17.3,
          17.5,
          16.6,
          19.4,
          17.9,
          19,
          18.4,
          19,
          17.8,
          20,
          16.6,
          20.8,
          16.7,
          18.8,
          18.6,
          16.8,
          18.3,
          20.7,
          16.6,
          19.9,
          19.5,
          17.5,
          19.1,
          17,
          17.9,
          18.5,
          17.9,
          19.6,
          18.7,
          17.3,
          16.4,
          19,
          17.3,
          19.7,
          17.3,
          18.8,
          16.6,
          19.9,
          18.8,
          19.4,
          19.5,
          16.5,
          17,
          19.8,
          18.1,
          18.2,
          19,
          18.7
         ]
        }
       ],
       "layout": {
        "template": {
         "data": {
          "bar": [
           {
            "error_x": {
             "color": "#2a3f5f"
            },
            "error_y": {
             "color": "#2a3f5f"
            },
            "marker": {
             "line": {
              "color": "#E5ECF6",
              "width": 0.5
             },
             "pattern": {
              "fillmode": "overlay",
              "size": 10,
              "solidity": 0.2
             }
            },
            "type": "bar"
           }
          ],
          "barpolar": [
           {
            "marker": {
             "line": {
              "color": "#E5ECF6",
              "width": 0.5
             },
             "pattern": {
              "fillmode": "overlay",
              "size": 10,
              "solidity": 0.2
             }
            },
            "type": "barpolar"
           }
          ],
          "carpet": [
           {
            "aaxis": {
             "endlinecolor": "#2a3f5f",
             "gridcolor": "white",
             "linecolor": "white",
             "minorgridcolor": "white",
             "startlinecolor": "#2a3f5f"
            },
            "baxis": {
             "endlinecolor": "#2a3f5f",
             "gridcolor": "white",
             "linecolor": "white",
             "minorgridcolor": "white",
             "startlinecolor": "#2a3f5f"
            },
            "type": "carpet"
           }
          ],
          "choropleth": [
           {
            "colorbar": {
             "outlinewidth": 0,
             "ticks": ""
            },
            "type": "choropleth"
           }
          ],
          "contour": [
           {
            "colorbar": {
             "outlinewidth": 0,
             "ticks": ""
            },
            "colorscale": [
             [
              0,
              "#0d0887"
             ],
             [
              0.1111111111111111,
              "#46039f"
             ],
             [
              0.2222222222222222,
              "#7201a8"
             ],
             [
              0.3333333333333333,
              "#9c179e"
             ],
             [
              0.4444444444444444,
              "#bd3786"
             ],
             [
              0.5555555555555556,
              "#d8576b"
             ],
             [
              0.6666666666666666,
              "#ed7953"
             ],
             [
              0.7777777777777778,
              "#fb9f3a"
             ],
             [
              0.8888888888888888,
              "#fdca26"
             ],
             [
              1,
              "#f0f921"
             ]
            ],
            "type": "contour"
           }
          ],
          "contourcarpet": [
           {
            "colorbar": {
             "outlinewidth": 0,
             "ticks": ""
            },
            "type": "contourcarpet"
           }
          ],
          "heatmap": [
           {
            "colorbar": {
             "outlinewidth": 0,
             "ticks": ""
            },
            "colorscale": [
             [
              0,
              "#0d0887"
             ],
             [
              0.1111111111111111,
              "#46039f"
             ],
             [
              0.2222222222222222,
              "#7201a8"
             ],
             [
              0.3333333333333333,
              "#9c179e"
             ],
             [
              0.4444444444444444,
              "#bd3786"
             ],
             [
              0.5555555555555556,
              "#d8576b"
             ],
             [
              0.6666666666666666,
              "#ed7953"
             ],
             [
              0.7777777777777778,
              "#fb9f3a"
             ],
             [
              0.8888888888888888,
              "#fdca26"
             ],
             [
              1,
              "#f0f921"
             ]
            ],
            "type": "heatmap"
           }
          ],
          "heatmapgl": [
           {
            "colorbar": {
             "outlinewidth": 0,
             "ticks": ""
            },
            "colorscale": [
             [
              0,
              "#0d0887"
             ],
             [
              0.1111111111111111,
              "#46039f"
             ],
             [
              0.2222222222222222,
              "#7201a8"
             ],
             [
              0.3333333333333333,
              "#9c179e"
             ],
             [
              0.4444444444444444,
              "#bd3786"
             ],
             [
              0.5555555555555556,
              "#d8576b"
             ],
             [
              0.6666666666666666,
              "#ed7953"
             ],
             [
              0.7777777777777778,
              "#fb9f3a"
             ],
             [
              0.8888888888888888,
              "#fdca26"
             ],
             [
              1,
              "#f0f921"
             ]
            ],
            "type": "heatmapgl"
           }
          ],
          "histogram": [
           {
            "marker": {
             "pattern": {
              "fillmode": "overlay",
              "size": 10,
              "solidity": 0.2
             }
            },
            "type": "histogram"
           }
          ],
          "histogram2d": [
           {
            "colorbar": {
             "outlinewidth": 0,
             "ticks": ""
            },
            "colorscale": [
             [
              0,
              "#0d0887"
             ],
             [
              0.1111111111111111,
              "#46039f"
             ],
             [
              0.2222222222222222,
              "#7201a8"
             ],
             [
              0.3333333333333333,
              "#9c179e"
             ],
             [
              0.4444444444444444,
              "#bd3786"
             ],
             [
              0.5555555555555556,
              "#d8576b"
             ],
             [
              0.6666666666666666,
              "#ed7953"
             ],
             [
              0.7777777777777778,
              "#fb9f3a"
             ],
             [
              0.8888888888888888,
              "#fdca26"
             ],
             [
              1,
              "#f0f921"
             ]
            ],
            "type": "histogram2d"
           }
          ],
          "histogram2dcontour": [
           {
            "colorbar": {
             "outlinewidth": 0,
             "ticks": ""
            },
            "colorscale": [
             [
              0,
              "#0d0887"
             ],
             [
              0.1111111111111111,
              "#46039f"
             ],
             [
              0.2222222222222222,
              "#7201a8"
             ],
             [
              0.3333333333333333,
              "#9c179e"
             ],
             [
              0.4444444444444444,
              "#bd3786"
             ],
             [
              0.5555555555555556,
              "#d8576b"
             ],
             [
              0.6666666666666666,
              "#ed7953"
             ],
             [
              0.7777777777777778,
              "#fb9f3a"
             ],
             [
              0.8888888888888888,
              "#fdca26"
             ],
             [
              1,
              "#f0f921"
             ]
            ],
            "type": "histogram2dcontour"
           }
          ],
          "mesh3d": [
           {
            "colorbar": {
             "outlinewidth": 0,
             "ticks": ""
            },
            "type": "mesh3d"
           }
          ],
          "parcoords": [
           {
            "line": {
             "colorbar": {
              "outlinewidth": 0,
              "ticks": ""
             }
            },
            "type": "parcoords"
           }
          ],
          "pie": [
           {
            "automargin": true,
            "type": "pie"
           }
          ],
          "scatter": [
           {
            "marker": {
             "colorbar": {
              "outlinewidth": 0,
              "ticks": ""
             }
            },
            "type": "scatter"
           }
          ],
          "scatter3d": [
           {
            "line": {
             "colorbar": {
              "outlinewidth": 0,
              "ticks": ""
             }
            },
            "marker": {
             "colorbar": {
              "outlinewidth": 0,
              "ticks": ""
             }
            },
            "type": "scatter3d"
           }
          ],
          "scattercarpet": [
           {
            "marker": {
             "colorbar": {
              "outlinewidth": 0,
              "ticks": ""
             }
            },
            "type": "scattercarpet"
           }
          ],
          "scattergeo": [
           {
            "marker": {
             "colorbar": {
              "outlinewidth": 0,
              "ticks": ""
             }
            },
            "type": "scattergeo"
           }
          ],
          "scattergl": [
           {
            "marker": {
             "colorbar": {
              "outlinewidth": 0,
              "ticks": ""
             }
            },
            "type": "scattergl"
           }
          ],
          "scattermapbox": [
           {
            "marker": {
             "colorbar": {
              "outlinewidth": 0,
              "ticks": ""
             }
            },
            "type": "scattermapbox"
           }
          ],
          "scatterpolar": [
           {
            "marker": {
             "colorbar": {
              "outlinewidth": 0,
              "ticks": ""
             }
            },
            "type": "scatterpolar"
           }
          ],
          "scatterpolargl": [
           {
            "marker": {
             "colorbar": {
              "outlinewidth": 0,
              "ticks": ""
             }
            },
            "type": "scatterpolargl"
           }
          ],
          "scatterternary": [
           {
            "marker": {
             "colorbar": {
              "outlinewidth": 0,
              "ticks": ""
             }
            },
            "type": "scatterternary"
           }
          ],
          "surface": [
           {
            "colorbar": {
             "outlinewidth": 0,
             "ticks": ""
            },
            "colorscale": [
             [
              0,
              "#0d0887"
             ],
             [
              0.1111111111111111,
              "#46039f"
             ],
             [
              0.2222222222222222,
              "#7201a8"
             ],
             [
              0.3333333333333333,
              "#9c179e"
             ],
             [
              0.4444444444444444,
              "#bd3786"
             ],
             [
              0.5555555555555556,
              "#d8576b"
             ],
             [
              0.6666666666666666,
              "#ed7953"
             ],
             [
              0.7777777777777778,
              "#fb9f3a"
             ],
             [
              0.8888888888888888,
              "#fdca26"
             ],
             [
              1,
              "#f0f921"
             ]
            ],
            "type": "surface"
           }
          ],
          "table": [
           {
            "cells": {
             "fill": {
              "color": "#EBF0F8"
             },
             "line": {
              "color": "white"
             }
            },
            "header": {
             "fill": {
              "color": "#C8D4E3"
             },
             "line": {
              "color": "white"
             }
            },
            "type": "table"
           }
          ]
         },
         "layout": {
          "annotationdefaults": {
           "arrowcolor": "#2a3f5f",
           "arrowhead": 0,
           "arrowwidth": 1
          },
          "autotypenumbers": "strict",
          "coloraxis": {
           "colorbar": {
            "outlinewidth": 0,
            "ticks": ""
           }
          },
          "colorscale": {
           "diverging": [
            [
             0,
             "#8e0152"
            ],
            [
             0.1,
             "#c51b7d"
            ],
            [
             0.2,
             "#de77ae"
            ],
            [
             0.3,
             "#f1b6da"
            ],
            [
             0.4,
             "#fde0ef"
            ],
            [
             0.5,
             "#f7f7f7"
            ],
            [
             0.6,
             "#e6f5d0"
            ],
            [
             0.7,
             "#b8e186"
            ],
            [
             0.8,
             "#7fbc41"
            ],
            [
             0.9,
             "#4d9221"
            ],
            [
             1,
             "#276419"
            ]
           ],
           "sequential": [
            [
             0,
             "#0d0887"
            ],
            [
             0.1111111111111111,
             "#46039f"
            ],
            [
             0.2222222222222222,
             "#7201a8"
            ],
            [
             0.3333333333333333,
             "#9c179e"
            ],
            [
             0.4444444444444444,
             "#bd3786"
            ],
            [
             0.5555555555555556,
             "#d8576b"
            ],
            [
             0.6666666666666666,
             "#ed7953"
            ],
            [
             0.7777777777777778,
             "#fb9f3a"
            ],
            [
             0.8888888888888888,
             "#fdca26"
            ],
            [
             1,
             "#f0f921"
            ]
           ],
           "sequentialminus": [
            [
             0,
             "#0d0887"
            ],
            [
             0.1111111111111111,
             "#46039f"
            ],
            [
             0.2222222222222222,
             "#7201a8"
            ],
            [
             0.3333333333333333,
             "#9c179e"
            ],
            [
             0.4444444444444444,
             "#bd3786"
            ],
            [
             0.5555555555555556,
             "#d8576b"
            ],
            [
             0.6666666666666666,
             "#ed7953"
            ],
            [
             0.7777777777777778,
             "#fb9f3a"
            ],
            [
             0.8888888888888888,
             "#fdca26"
            ],
            [
             1,
             "#f0f921"
            ]
           ]
          },
          "colorway": [
           "#636efa",
           "#EF553B",
           "#00cc96",
           "#ab63fa",
           "#FFA15A",
           "#19d3f3",
           "#FF6692",
           "#B6E880",
           "#FF97FF",
           "#FECB52"
          ],
          "font": {
           "color": "#2a3f5f"
          },
          "geo": {
           "bgcolor": "white",
           "lakecolor": "white",
           "landcolor": "#E5ECF6",
           "showlakes": true,
           "showland": true,
           "subunitcolor": "white"
          },
          "hoverlabel": {
           "align": "left"
          },
          "hovermode": "closest",
          "mapbox": {
           "style": "light"
          },
          "paper_bgcolor": "white",
          "plot_bgcolor": "#E5ECF6",
          "polar": {
           "angularaxis": {
            "gridcolor": "white",
            "linecolor": "white",
            "ticks": ""
           },
           "bgcolor": "#E5ECF6",
           "radialaxis": {
            "gridcolor": "white",
            "linecolor": "white",
            "ticks": ""
           }
          },
          "scene": {
           "xaxis": {
            "backgroundcolor": "#E5ECF6",
            "gridcolor": "white",
            "gridwidth": 2,
            "linecolor": "white",
            "showbackground": true,
            "ticks": "",
            "zerolinecolor": "white"
           },
           "yaxis": {
            "backgroundcolor": "#E5ECF6",
            "gridcolor": "white",
            "gridwidth": 2,
            "linecolor": "white",
            "showbackground": true,
            "ticks": "",
            "zerolinecolor": "white"
           },
           "zaxis": {
            "backgroundcolor": "#E5ECF6",
            "gridcolor": "white",
            "gridwidth": 2,
            "linecolor": "white",
            "showbackground": true,
            "ticks": "",
            "zerolinecolor": "white"
           }
          },
          "shapedefaults": {
           "line": {
            "color": "#2a3f5f"
           }
          },
          "ternary": {
           "aaxis": {
            "gridcolor": "white",
            "linecolor": "white",
            "ticks": ""
           },
           "baxis": {
            "gridcolor": "white",
            "linecolor": "white",
            "ticks": ""
           },
           "bgcolor": "#E5ECF6",
           "caxis": {
            "gridcolor": "white",
            "linecolor": "white",
            "ticks": ""
           }
          },
          "title": {
           "x": 0.05
          },
          "xaxis": {
           "automargin": true,
           "gridcolor": "white",
           "linecolor": "white",
           "ticks": "",
           "title": {
            "standoff": 15
           },
           "zerolinecolor": "white",
           "zerolinewidth": 2
          },
          "yaxis": {
           "automargin": true,
           "gridcolor": "white",
           "linecolor": "white",
           "ticks": "",
           "title": {
            "standoff": 15
           },
           "zerolinecolor": "white",
           "zerolinewidth": 2
          }
         }
        },
        "updatemenus": [
         {
          "active": 0,
          "buttons": [
           {
            "args": [
             {
              "visible": [
               true,
               false,
               false
              ]
             },
             {
              "title": "Torgensen"
             }
            ],
            "label": "Torgensen",
            "method": "update"
           },
           {
            "args": [
             {
              "visible": [
               false,
               true,
               false
              ]
             },
             {
              "title": "Biscoe"
             }
            ],
            "label": "Biscoe",
            "method": "update"
           },
           {
            "args": [
             {
              "visible": [
               false,
               false,
               true
              ]
             },
             {
              "title": "Dream"
             }
            ],
            "label": "Dream",
            "method": "update"
           }
          ],
          "showactive": true,
          "type": "dropdown",
          "x": 1.3,
          "y": 0.5
         }
        ]
       }
      },
      "text/html": [
       "<div>                            <div id=\"67451b6f-0048-40ea-b9ce-f29648ac6e44\" class=\"plotly-graph-div\" style=\"height:525px; width:100%;\"></div>            <script type=\"text/javascript\">                require([\"plotly\"], function(Plotly) {                    window.PLOTLYENV=window.PLOTLYENV || {};                                    if (document.getElementById(\"67451b6f-0048-40ea-b9ce-f29648ac6e44\")) {                    Plotly.newPlot(                        \"67451b6f-0048-40ea-b9ce-f29648ac6e44\",                        [{\"mode\":\"markers\",\"name\":\"Torgensen\",\"type\":\"scatter\",\"x\":[],\"y\":[]},{\"mode\":\"markers\",\"name\":\"Biscoe\",\"type\":\"scatter\",\"x\":[37.8,37.7,35.9,38.2,38.8,35.3,40.6,40.5,37.9,40.5,39.6,40.1,35.0,42.0,34.5,41.4,39.0,40.6,36.5,37.6,35.7,41.3,37.6,41.1,36.4,41.6,35.5,41.1,35.0,41.0,37.7,37.8,37.9,39.7,38.6,38.2,38.1,43.2,38.1,45.6,39.7,42.2,39.6,42.7,46.1,50.0,48.7,50.0,47.6,46.5,45.4,46.7,43.3,46.8,40.9,49.0,45.5,48.4,45.8,49.3,42.0,49.2,46.2,48.7,50.2,45.1,46.5,46.3,42.9,46.1,44.5,47.8,48.2,50.0,47.3,42.8,45.1,59.6,49.1,48.4,42.6,44.4,44.0,48.7,42.7,49.6,45.3,49.6,50.5,43.6,45.5,50.5,44.9,45.2,46.6,48.5,45.1,50.1,46.5,45.0,43.8,45.5,43.2,50.4,45.3,46.2,45.7,54.3,45.8,49.8,46.2,49.5,43.5,50.7,47.7,46.4,48.2,46.5,46.4,48.6,47.5,51.1,45.2,45.2,49.1,52.5,47.4,50.0,44.9,50.8,43.4,51.3,47.5,52.1,47.5,52.2,45.5,49.5,44.5,50.8,49.4,46.9,48.4,51.1,48.5,55.9,47.2,49.1,47.3,46.8,41.7,53.4,43.3,48.1,50.5,49.8,43.5,51.5,46.2,55.1,44.5,48.8,47.2,null,46.8,50.4,45.2,49.9],\"y\":[18.3,18.7,19.2,18.1,17.2,18.9,18.6,17.9,18.6,18.9,17.7,18.9,17.9,19.5,18.1,18.6,17.5,18.8,16.6,19.1,16.9,21.1,17.0,18.2,17.1,18.0,16.2,19.1,17.9,20.0,16.0,20.0,18.6,18.9,17.2,20.0,17.0,19.0,16.5,20.3,17.7,19.5,20.7,18.3,13.2,16.3,14.1,15.2,14.5,13.5,14.6,15.3,13.4,15.4,13.7,16.1,13.7,14.6,14.6,15.7,13.5,15.2,14.5,15.1,14.3,14.5,14.5,15.8,13.1,15.1,14.3,15.0,14.3,15.3,15.3,14.2,14.5,17.0,14.8,16.3,13.7,17.3,13.6,15.7,13.7,16.0,13.7,15.0,15.9,13.9,13.9,15.9,13.3,15.8,14.2,14.1,14.4,15.0,14.4,15.4,13.9,15.0,14.5,15.3,13.8,14.9,13.9,15.7,14.2,16.8,14.4,16.2,14.2,15.0,15.0,15.6,15.6,14.8,15.0,16.0,14.2,16.3,13.8,16.4,14.5,15.6,14.6,15.9,13.8,17.3,14.4,14.2,14.0,17.0,15.0,17.1,14.5,16.1,14.7,15.7,15.8,14.6,14.4,16.5,15.0,17.0,15.5,15.0,13.8,16.1,14.7,15.8,14.0,15.1,15.2,15.9,15.2,16.3,14.1,16.0,15.7,16.2,13.7,null,14.3,15.7,14.8,16.1]},{\"mode\":\"markers\",\"name\":\"Dream\",\"type\":\"scatter\",\"x\":[39.5,37.2,39.5,40.9,36.4,39.2,38.8,42.2,37.6,39.8,36.5,40.8,36.0,44.1,37.0,39.6,41.1,37.5,36.0,42.3,37.3,41.3,36.3,36.9,38.3,38.9,35.7,41.1,34.0,39.6,36.2,40.8,38.1,40.3,33.1,43.2,36.8,37.5,38.1,41.1,35.6,40.2,37.0,39.7,40.2,40.6,32.1,40.7,37.3,39.0,39.2,36.6,36.0,37.8,36.0,41.5,46.5,50.0,51.3,45.4,52.7,45.2,46.1,51.3,46.0,51.3,46.6,51.7,47.0,52.0,45.9,50.5,50.3,58.0,46.4,49.2,42.4,48.5,43.2,50.6,46.7,52.0,50.5,49.5,46.4,52.8,40.9,54.2,42.5,51.0,49.7,47.5,47.6,52.0,46.9,53.5,49.0,46.2,50.9,45.5,50.9,50.8,50.1,49.0,51.5,49.8,48.1,51.4,45.7,50.7,42.5,52.2,45.2,49.3,50.2,45.6,51.9,46.8,45.7,55.8,43.5,49.6,50.8,50.2],\"y\":[16.7,18.1,17.8,18.9,17.0,21.1,20.0,18.5,19.3,19.1,18.0,18.4,18.5,19.7,16.9,18.8,19.0,18.9,17.9,21.2,17.8,20.3,19.5,18.6,19.2,18.8,18.0,18.1,17.1,18.1,17.3,18.9,18.6,18.5,16.1,18.5,18.5,18.5,17.6,17.5,17.5,20.1,16.5,17.9,17.1,17.2,15.5,17.0,16.8,18.7,18.6,18.4,17.8,18.1,17.1,18.5,17.9,19.5,19.2,18.7,19.8,17.8,18.2,18.2,18.9,19.9,17.8,20.3,17.3,18.1,17.1,19.6,20.0,17.8,18.6,18.2,17.3,17.5,16.6,19.4,17.9,19.0,18.4,19.0,17.8,20.0,16.6,20.8,16.7,18.8,18.6,16.8,18.3,20.7,16.6,19.9,19.5,17.5,19.1,17.0,17.9,18.5,17.9,19.6,18.7,17.3,16.4,19.0,17.3,19.7,17.3,18.8,16.6,19.9,18.8,19.4,19.5,16.5,17.0,19.8,18.1,18.2,19.0,18.7]}],                        {\"template\":{\"data\":{\"bar\":[{\"error_x\":{\"color\":\"#2a3f5f\"},\"error_y\":{\"color\":\"#2a3f5f\"},\"marker\":{\"line\":{\"color\":\"#E5ECF6\",\"width\":0.5},\"pattern\":{\"fillmode\":\"overlay\",\"size\":10,\"solidity\":0.2}},\"type\":\"bar\"}],\"barpolar\":[{\"marker\":{\"line\":{\"color\":\"#E5ECF6\",\"width\":0.5},\"pattern\":{\"fillmode\":\"overlay\",\"size\":10,\"solidity\":0.2}},\"type\":\"barpolar\"}],\"carpet\":[{\"aaxis\":{\"endlinecolor\":\"#2a3f5f\",\"gridcolor\":\"white\",\"linecolor\":\"white\",\"minorgridcolor\":\"white\",\"startlinecolor\":\"#2a3f5f\"},\"baxis\":{\"endlinecolor\":\"#2a3f5f\",\"gridcolor\":\"white\",\"linecolor\":\"white\",\"minorgridcolor\":\"white\",\"startlinecolor\":\"#2a3f5f\"},\"type\":\"carpet\"}],\"choropleth\":[{\"colorbar\":{\"outlinewidth\":0,\"ticks\":\"\"},\"type\":\"choropleth\"}],\"contour\":[{\"colorbar\":{\"outlinewidth\":0,\"ticks\":\"\"},\"colorscale\":[[0.0,\"#0d0887\"],[0.1111111111111111,\"#46039f\"],[0.2222222222222222,\"#7201a8\"],[0.3333333333333333,\"#9c179e\"],[0.4444444444444444,\"#bd3786\"],[0.5555555555555556,\"#d8576b\"],[0.6666666666666666,\"#ed7953\"],[0.7777777777777778,\"#fb9f3a\"],[0.8888888888888888,\"#fdca26\"],[1.0,\"#f0f921\"]],\"type\":\"contour\"}],\"contourcarpet\":[{\"colorbar\":{\"outlinewidth\":0,\"ticks\":\"\"},\"type\":\"contourcarpet\"}],\"heatmap\":[{\"colorbar\":{\"outlinewidth\":0,\"ticks\":\"\"},\"colorscale\":[[0.0,\"#0d0887\"],[0.1111111111111111,\"#46039f\"],[0.2222222222222222,\"#7201a8\"],[0.3333333333333333,\"#9c179e\"],[0.4444444444444444,\"#bd3786\"],[0.5555555555555556,\"#d8576b\"],[0.6666666666666666,\"#ed7953\"],[0.7777777777777778,\"#fb9f3a\"],[0.8888888888888888,\"#fdca26\"],[1.0,\"#f0f921\"]],\"type\":\"heatmap\"}],\"heatmapgl\":[{\"colorbar\":{\"outlinewidth\":0,\"ticks\":\"\"},\"colorscale\":[[0.0,\"#0d0887\"],[0.1111111111111111,\"#46039f\"],[0.2222222222222222,\"#7201a8\"],[0.3333333333333333,\"#9c179e\"],[0.4444444444444444,\"#bd3786\"],[0.5555555555555556,\"#d8576b\"],[0.6666666666666666,\"#ed7953\"],[0.7777777777777778,\"#fb9f3a\"],[0.8888888888888888,\"#fdca26\"],[1.0,\"#f0f921\"]],\"type\":\"heatmapgl\"}],\"histogram\":[{\"marker\":{\"pattern\":{\"fillmode\":\"overlay\",\"size\":10,\"solidity\":0.2}},\"type\":\"histogram\"}],\"histogram2d\":[{\"colorbar\":{\"outlinewidth\":0,\"ticks\":\"\"},\"colorscale\":[[0.0,\"#0d0887\"],[0.1111111111111111,\"#46039f\"],[0.2222222222222222,\"#7201a8\"],[0.3333333333333333,\"#9c179e\"],[0.4444444444444444,\"#bd3786\"],[0.5555555555555556,\"#d8576b\"],[0.6666666666666666,\"#ed7953\"],[0.7777777777777778,\"#fb9f3a\"],[0.8888888888888888,\"#fdca26\"],[1.0,\"#f0f921\"]],\"type\":\"histogram2d\"}],\"histogram2dcontour\":[{\"colorbar\":{\"outlinewidth\":0,\"ticks\":\"\"},\"colorscale\":[[0.0,\"#0d0887\"],[0.1111111111111111,\"#46039f\"],[0.2222222222222222,\"#7201a8\"],[0.3333333333333333,\"#9c179e\"],[0.4444444444444444,\"#bd3786\"],[0.5555555555555556,\"#d8576b\"],[0.6666666666666666,\"#ed7953\"],[0.7777777777777778,\"#fb9f3a\"],[0.8888888888888888,\"#fdca26\"],[1.0,\"#f0f921\"]],\"type\":\"histogram2dcontour\"}],\"mesh3d\":[{\"colorbar\":{\"outlinewidth\":0,\"ticks\":\"\"},\"type\":\"mesh3d\"}],\"parcoords\":[{\"line\":{\"colorbar\":{\"outlinewidth\":0,\"ticks\":\"\"}},\"type\":\"parcoords\"}],\"pie\":[{\"automargin\":true,\"type\":\"pie\"}],\"scatter\":[{\"marker\":{\"colorbar\":{\"outlinewidth\":0,\"ticks\":\"\"}},\"type\":\"scatter\"}],\"scatter3d\":[{\"line\":{\"colorbar\":{\"outlinewidth\":0,\"ticks\":\"\"}},\"marker\":{\"colorbar\":{\"outlinewidth\":0,\"ticks\":\"\"}},\"type\":\"scatter3d\"}],\"scattercarpet\":[{\"marker\":{\"colorbar\":{\"outlinewidth\":0,\"ticks\":\"\"}},\"type\":\"scattercarpet\"}],\"scattergeo\":[{\"marker\":{\"colorbar\":{\"outlinewidth\":0,\"ticks\":\"\"}},\"type\":\"scattergeo\"}],\"scattergl\":[{\"marker\":{\"colorbar\":{\"outlinewidth\":0,\"ticks\":\"\"}},\"type\":\"scattergl\"}],\"scattermapbox\":[{\"marker\":{\"colorbar\":{\"outlinewidth\":0,\"ticks\":\"\"}},\"type\":\"scattermapbox\"}],\"scatterpolar\":[{\"marker\":{\"colorbar\":{\"outlinewidth\":0,\"ticks\":\"\"}},\"type\":\"scatterpolar\"}],\"scatterpolargl\":[{\"marker\":{\"colorbar\":{\"outlinewidth\":0,\"ticks\":\"\"}},\"type\":\"scatterpolargl\"}],\"scatterternary\":[{\"marker\":{\"colorbar\":{\"outlinewidth\":0,\"ticks\":\"\"}},\"type\":\"scatterternary\"}],\"surface\":[{\"colorbar\":{\"outlinewidth\":0,\"ticks\":\"\"},\"colorscale\":[[0.0,\"#0d0887\"],[0.1111111111111111,\"#46039f\"],[0.2222222222222222,\"#7201a8\"],[0.3333333333333333,\"#9c179e\"],[0.4444444444444444,\"#bd3786\"],[0.5555555555555556,\"#d8576b\"],[0.6666666666666666,\"#ed7953\"],[0.7777777777777778,\"#fb9f3a\"],[0.8888888888888888,\"#fdca26\"],[1.0,\"#f0f921\"]],\"type\":\"surface\"}],\"table\":[{\"cells\":{\"fill\":{\"color\":\"#EBF0F8\"},\"line\":{\"color\":\"white\"}},\"header\":{\"fill\":{\"color\":\"#C8D4E3\"},\"line\":{\"color\":\"white\"}},\"type\":\"table\"}]},\"layout\":{\"annotationdefaults\":{\"arrowcolor\":\"#2a3f5f\",\"arrowhead\":0,\"arrowwidth\":1},\"autotypenumbers\":\"strict\",\"coloraxis\":{\"colorbar\":{\"outlinewidth\":0,\"ticks\":\"\"}},\"colorscale\":{\"diverging\":[[0,\"#8e0152\"],[0.1,\"#c51b7d\"],[0.2,\"#de77ae\"],[0.3,\"#f1b6da\"],[0.4,\"#fde0ef\"],[0.5,\"#f7f7f7\"],[0.6,\"#e6f5d0\"],[0.7,\"#b8e186\"],[0.8,\"#7fbc41\"],[0.9,\"#4d9221\"],[1,\"#276419\"]],\"sequential\":[[0.0,\"#0d0887\"],[0.1111111111111111,\"#46039f\"],[0.2222222222222222,\"#7201a8\"],[0.3333333333333333,\"#9c179e\"],[0.4444444444444444,\"#bd3786\"],[0.5555555555555556,\"#d8576b\"],[0.6666666666666666,\"#ed7953\"],[0.7777777777777778,\"#fb9f3a\"],[0.8888888888888888,\"#fdca26\"],[1.0,\"#f0f921\"]],\"sequentialminus\":[[0.0,\"#0d0887\"],[0.1111111111111111,\"#46039f\"],[0.2222222222222222,\"#7201a8\"],[0.3333333333333333,\"#9c179e\"],[0.4444444444444444,\"#bd3786\"],[0.5555555555555556,\"#d8576b\"],[0.6666666666666666,\"#ed7953\"],[0.7777777777777778,\"#fb9f3a\"],[0.8888888888888888,\"#fdca26\"],[1.0,\"#f0f921\"]]},\"colorway\":[\"#636efa\",\"#EF553B\",\"#00cc96\",\"#ab63fa\",\"#FFA15A\",\"#19d3f3\",\"#FF6692\",\"#B6E880\",\"#FF97FF\",\"#FECB52\"],\"font\":{\"color\":\"#2a3f5f\"},\"geo\":{\"bgcolor\":\"white\",\"lakecolor\":\"white\",\"landcolor\":\"#E5ECF6\",\"showlakes\":true,\"showland\":true,\"subunitcolor\":\"white\"},\"hoverlabel\":{\"align\":\"left\"},\"hovermode\":\"closest\",\"mapbox\":{\"style\":\"light\"},\"paper_bgcolor\":\"white\",\"plot_bgcolor\":\"#E5ECF6\",\"polar\":{\"angularaxis\":{\"gridcolor\":\"white\",\"linecolor\":\"white\",\"ticks\":\"\"},\"bgcolor\":\"#E5ECF6\",\"radialaxis\":{\"gridcolor\":\"white\",\"linecolor\":\"white\",\"ticks\":\"\"}},\"scene\":{\"xaxis\":{\"backgroundcolor\":\"#E5ECF6\",\"gridcolor\":\"white\",\"gridwidth\":2,\"linecolor\":\"white\",\"showbackground\":true,\"ticks\":\"\",\"zerolinecolor\":\"white\"},\"yaxis\":{\"backgroundcolor\":\"#E5ECF6\",\"gridcolor\":\"white\",\"gridwidth\":2,\"linecolor\":\"white\",\"showbackground\":true,\"ticks\":\"\",\"zerolinecolor\":\"white\"},\"zaxis\":{\"backgroundcolor\":\"#E5ECF6\",\"gridcolor\":\"white\",\"gridwidth\":2,\"linecolor\":\"white\",\"showbackground\":true,\"ticks\":\"\",\"zerolinecolor\":\"white\"}},\"shapedefaults\":{\"line\":{\"color\":\"#2a3f5f\"}},\"ternary\":{\"aaxis\":{\"gridcolor\":\"white\",\"linecolor\":\"white\",\"ticks\":\"\"},\"baxis\":{\"gridcolor\":\"white\",\"linecolor\":\"white\",\"ticks\":\"\"},\"bgcolor\":\"#E5ECF6\",\"caxis\":{\"gridcolor\":\"white\",\"linecolor\":\"white\",\"ticks\":\"\"}},\"title\":{\"x\":0.05},\"xaxis\":{\"automargin\":true,\"gridcolor\":\"white\",\"linecolor\":\"white\",\"ticks\":\"\",\"title\":{\"standoff\":15},\"zerolinecolor\":\"white\",\"zerolinewidth\":2},\"yaxis\":{\"automargin\":true,\"gridcolor\":\"white\",\"linecolor\":\"white\",\"ticks\":\"\",\"title\":{\"standoff\":15},\"zerolinecolor\":\"white\",\"zerolinewidth\":2}}},\"updatemenus\":[{\"active\":0,\"buttons\":[{\"args\":[{\"visible\":[true,false,false]},{\"title\":\"Torgensen\"}],\"label\":\"Torgensen\",\"method\":\"update\"},{\"args\":[{\"visible\":[false,true,false]},{\"title\":\"Biscoe\"}],\"label\":\"Biscoe\",\"method\":\"update\"},{\"args\":[{\"visible\":[false,false,true]},{\"title\":\"Dream\"}],\"label\":\"Dream\",\"method\":\"update\"}],\"showactive\":true,\"type\":\"dropdown\",\"x\":1.3,\"y\":0.5}]},                        {\"responsive\": true}                    ).then(function(){\n",
       "                            \n",
       "var gd = document.getElementById('67451b6f-0048-40ea-b9ce-f29648ac6e44');\n",
       "var x = new MutationObserver(function (mutations, observer) {{\n",
       "        var display = window.getComputedStyle(gd).display;\n",
       "        if (!display || display === 'none') {{\n",
       "            console.log([gd, 'removed!']);\n",
       "            Plotly.purge(gd);\n",
       "            observer.disconnect();\n",
       "        }}\n",
       "}});\n",
       "\n",
       "// Listen for the removal of the full notebook cells\n",
       "var notebookContainer = gd.closest('#notebook-container');\n",
       "if (notebookContainer) {{\n",
       "    x.observe(notebookContainer, {childList: true});\n",
       "}}\n",
       "\n",
       "// Listen for the clearing of the current output cell\n",
       "var outputEl = gd.closest('.output');\n",
       "if (outputEl) {{\n",
       "    x.observe(outputEl, {childList: true});\n",
       "}}\n",
       "\n",
       "                        })                };                });            </script>        </div>"
      ]
     },
     "metadata": {},
     "output_type": "display_data"
    }
   ],
   "source": [
    "fig = go.Figure()\n",
    "for island in ['Torgensen', 'Biscoe', 'Dream']:    \n",
    "    df = penguins[penguins.Island == island]    \n",
    "    fig.add_trace(go.Scatter(\n",
    "        x=df[\"Culmen Length (mm)\"], \n",
    "        y=df[\"Culmen Depth (mm)\"],\n",
    "        mode='markers',\n",
    "        name=island))\n",
    "    \n",
    "dropdown_buttons = [  \n",
    "    {'label': 'Torgensen', 'method': 'update',\n",
    "     'args': [{'visible': [True, False, False]},           \n",
    "        {'title': 'Torgensen'}]},  \n",
    "    {'label': 'Biscoe', 'method': 'update',\n",
    "     'args': [{'visible': [False, True, False]},          \n",
    "        {'title': 'Biscoe'}]},  \n",
    "    {'label': \"Dream\", 'method': \"update\",\n",
    "     'args': [{\"visible\": [False, False, True]},          \n",
    "        {'title': 'Dream'}]}]\n",
    "\n",
    "\n",
    "fig.update_layout({\n",
    "    'updatemenus':[{\n",
    "        'type': \"dropdown\",\n",
    "        'x': 1.3,'y': 0.5,\n",
    "        'showactive': True,\n",
    "        'active': 0,\n",
    "        'buttons': dropdown_buttons}]})\n",
    "\n",
    "fig.show()"
   ]
  },
  {
   "cell_type": "markdown",
   "id": "13240b96",
   "metadata": {},
   "source": [
    "#### Checkboxes"
   ]
  },
  {
   "cell_type": "code",
   "execution_count": 84,
   "id": "5be14969",
   "metadata": {},
   "outputs": [
    {
     "data": {
      "application/vnd.plotly.v1+json": {
       "config": {
        "plotlyServerURL": "https://plot.ly"
       },
       "data": [
        {
         "hovertemplate": "Species=%{x}<br>Flipper Length (mm)=%{y}<extra></extra>",
         "legendgroup": "Adelie Penguin (Pygoscelis adeliae)",
         "marker": {
          "color": "#636efa",
          "symbol": "circle"
         },
         "mode": "markers",
         "name": "Adelie Penguin (Pygoscelis adeliae)",
         "orientation": "v",
         "showlegend": true,
         "type": "scatter",
         "x": [
          "Adelie Penguin (Pygoscelis adeliae)",
          "Adelie Penguin (Pygoscelis adeliae)",
          "Adelie Penguin (Pygoscelis adeliae)",
          "Adelie Penguin (Pygoscelis adeliae)",
          "Adelie Penguin (Pygoscelis adeliae)",
          "Adelie Penguin (Pygoscelis adeliae)",
          "Adelie Penguin (Pygoscelis adeliae)",
          "Adelie Penguin (Pygoscelis adeliae)",
          "Adelie Penguin (Pygoscelis adeliae)",
          "Adelie Penguin (Pygoscelis adeliae)",
          "Adelie Penguin (Pygoscelis adeliae)",
          "Adelie Penguin (Pygoscelis adeliae)",
          "Adelie Penguin (Pygoscelis adeliae)",
          "Adelie Penguin (Pygoscelis adeliae)",
          "Adelie Penguin (Pygoscelis adeliae)",
          "Adelie Penguin (Pygoscelis adeliae)",
          "Adelie Penguin (Pygoscelis adeliae)",
          "Adelie Penguin (Pygoscelis adeliae)",
          "Adelie Penguin (Pygoscelis adeliae)",
          "Adelie Penguin (Pygoscelis adeliae)",
          "Adelie Penguin (Pygoscelis adeliae)",
          "Adelie Penguin (Pygoscelis adeliae)",
          "Adelie Penguin (Pygoscelis adeliae)",
          "Adelie Penguin (Pygoscelis adeliae)",
          "Adelie Penguin (Pygoscelis adeliae)",
          "Adelie Penguin (Pygoscelis adeliae)",
          "Adelie Penguin (Pygoscelis adeliae)",
          "Adelie Penguin (Pygoscelis adeliae)",
          "Adelie Penguin (Pygoscelis adeliae)",
          "Adelie Penguin (Pygoscelis adeliae)",
          "Adelie Penguin (Pygoscelis adeliae)",
          "Adelie Penguin (Pygoscelis adeliae)",
          "Adelie Penguin (Pygoscelis adeliae)",
          "Adelie Penguin (Pygoscelis adeliae)",
          "Adelie Penguin (Pygoscelis adeliae)",
          "Adelie Penguin (Pygoscelis adeliae)",
          "Adelie Penguin (Pygoscelis adeliae)",
          "Adelie Penguin (Pygoscelis adeliae)",
          "Adelie Penguin (Pygoscelis adeliae)",
          "Adelie Penguin (Pygoscelis adeliae)",
          "Adelie Penguin (Pygoscelis adeliae)",
          "Adelie Penguin (Pygoscelis adeliae)",
          "Adelie Penguin (Pygoscelis adeliae)",
          "Adelie Penguin (Pygoscelis adeliae)",
          "Adelie Penguin (Pygoscelis adeliae)",
          "Adelie Penguin (Pygoscelis adeliae)",
          "Adelie Penguin (Pygoscelis adeliae)",
          "Adelie Penguin (Pygoscelis adeliae)",
          "Adelie Penguin (Pygoscelis adeliae)",
          "Adelie Penguin (Pygoscelis adeliae)",
          "Adelie Penguin (Pygoscelis adeliae)",
          "Adelie Penguin (Pygoscelis adeliae)",
          "Adelie Penguin (Pygoscelis adeliae)",
          "Adelie Penguin (Pygoscelis adeliae)",
          "Adelie Penguin (Pygoscelis adeliae)",
          "Adelie Penguin (Pygoscelis adeliae)",
          "Adelie Penguin (Pygoscelis adeliae)",
          "Adelie Penguin (Pygoscelis adeliae)",
          "Adelie Penguin (Pygoscelis adeliae)",
          "Adelie Penguin (Pygoscelis adeliae)",
          "Adelie Penguin (Pygoscelis adeliae)",
          "Adelie Penguin (Pygoscelis adeliae)",
          "Adelie Penguin (Pygoscelis adeliae)",
          "Adelie Penguin (Pygoscelis adeliae)",
          "Adelie Penguin (Pygoscelis adeliae)",
          "Adelie Penguin (Pygoscelis adeliae)",
          "Adelie Penguin (Pygoscelis adeliae)",
          "Adelie Penguin (Pygoscelis adeliae)",
          "Adelie Penguin (Pygoscelis adeliae)",
          "Adelie Penguin (Pygoscelis adeliae)",
          "Adelie Penguin (Pygoscelis adeliae)",
          "Adelie Penguin (Pygoscelis adeliae)",
          "Adelie Penguin (Pygoscelis adeliae)",
          "Adelie Penguin (Pygoscelis adeliae)",
          "Adelie Penguin (Pygoscelis adeliae)",
          "Adelie Penguin (Pygoscelis adeliae)",
          "Adelie Penguin (Pygoscelis adeliae)",
          "Adelie Penguin (Pygoscelis adeliae)",
          "Adelie Penguin (Pygoscelis adeliae)",
          "Adelie Penguin (Pygoscelis adeliae)",
          "Adelie Penguin (Pygoscelis adeliae)",
          "Adelie Penguin (Pygoscelis adeliae)",
          "Adelie Penguin (Pygoscelis adeliae)",
          "Adelie Penguin (Pygoscelis adeliae)",
          "Adelie Penguin (Pygoscelis adeliae)",
          "Adelie Penguin (Pygoscelis adeliae)",
          "Adelie Penguin (Pygoscelis adeliae)",
          "Adelie Penguin (Pygoscelis adeliae)",
          "Adelie Penguin (Pygoscelis adeliae)",
          "Adelie Penguin (Pygoscelis adeliae)",
          "Adelie Penguin (Pygoscelis adeliae)",
          "Adelie Penguin (Pygoscelis adeliae)",
          "Adelie Penguin (Pygoscelis adeliae)",
          "Adelie Penguin (Pygoscelis adeliae)",
          "Adelie Penguin (Pygoscelis adeliae)",
          "Adelie Penguin (Pygoscelis adeliae)",
          "Adelie Penguin (Pygoscelis adeliae)",
          "Adelie Penguin (Pygoscelis adeliae)",
          "Adelie Penguin (Pygoscelis adeliae)",
          "Adelie Penguin (Pygoscelis adeliae)",
          "Adelie Penguin (Pygoscelis adeliae)",
          "Adelie Penguin (Pygoscelis adeliae)",
          "Adelie Penguin (Pygoscelis adeliae)",
          "Adelie Penguin (Pygoscelis adeliae)",
          "Adelie Penguin (Pygoscelis adeliae)",
          "Adelie Penguin (Pygoscelis adeliae)",
          "Adelie Penguin (Pygoscelis adeliae)",
          "Adelie Penguin (Pygoscelis adeliae)",
          "Adelie Penguin (Pygoscelis adeliae)",
          "Adelie Penguin (Pygoscelis adeliae)",
          "Adelie Penguin (Pygoscelis adeliae)",
          "Adelie Penguin (Pygoscelis adeliae)",
          "Adelie Penguin (Pygoscelis adeliae)",
          "Adelie Penguin (Pygoscelis adeliae)",
          "Adelie Penguin (Pygoscelis adeliae)",
          "Adelie Penguin (Pygoscelis adeliae)",
          "Adelie Penguin (Pygoscelis adeliae)",
          "Adelie Penguin (Pygoscelis adeliae)",
          "Adelie Penguin (Pygoscelis adeliae)",
          "Adelie Penguin (Pygoscelis adeliae)",
          "Adelie Penguin (Pygoscelis adeliae)",
          "Adelie Penguin (Pygoscelis adeliae)",
          "Adelie Penguin (Pygoscelis adeliae)",
          "Adelie Penguin (Pygoscelis adeliae)",
          "Adelie Penguin (Pygoscelis adeliae)",
          "Adelie Penguin (Pygoscelis adeliae)",
          "Adelie Penguin (Pygoscelis adeliae)",
          "Adelie Penguin (Pygoscelis adeliae)",
          "Adelie Penguin (Pygoscelis adeliae)",
          "Adelie Penguin (Pygoscelis adeliae)",
          "Adelie Penguin (Pygoscelis adeliae)",
          "Adelie Penguin (Pygoscelis adeliae)",
          "Adelie Penguin (Pygoscelis adeliae)",
          "Adelie Penguin (Pygoscelis adeliae)",
          "Adelie Penguin (Pygoscelis adeliae)",
          "Adelie Penguin (Pygoscelis adeliae)",
          "Adelie Penguin (Pygoscelis adeliae)",
          "Adelie Penguin (Pygoscelis adeliae)",
          "Adelie Penguin (Pygoscelis adeliae)",
          "Adelie Penguin (Pygoscelis adeliae)",
          "Adelie Penguin (Pygoscelis adeliae)",
          "Adelie Penguin (Pygoscelis adeliae)",
          "Adelie Penguin (Pygoscelis adeliae)",
          "Adelie Penguin (Pygoscelis adeliae)",
          "Adelie Penguin (Pygoscelis adeliae)",
          "Adelie Penguin (Pygoscelis adeliae)",
          "Adelie Penguin (Pygoscelis adeliae)",
          "Adelie Penguin (Pygoscelis adeliae)",
          "Adelie Penguin (Pygoscelis adeliae)",
          "Adelie Penguin (Pygoscelis adeliae)",
          "Adelie Penguin (Pygoscelis adeliae)",
          "Adelie Penguin (Pygoscelis adeliae)"
         ],
         "xaxis": "x",
         "y": [
          181,
          186,
          195,
          null,
          193,
          190,
          181,
          195,
          193,
          190,
          186,
          180,
          182,
          191,
          198,
          185,
          195,
          197,
          184,
          194,
          174,
          180,
          189,
          185,
          180,
          187,
          183,
          187,
          172,
          180,
          178,
          178,
          188,
          184,
          195,
          196,
          190,
          180,
          181,
          184,
          182,
          195,
          186,
          196,
          185,
          190,
          182,
          179,
          190,
          191,
          186,
          188,
          190,
          200,
          187,
          191,
          186,
          193,
          181,
          194,
          185,
          195,
          185,
          192,
          184,
          192,
          195,
          188,
          190,
          198,
          190,
          190,
          196,
          197,
          190,
          195,
          191,
          184,
          187,
          195,
          189,
          196,
          187,
          193,
          191,
          194,
          190,
          189,
          189,
          190,
          202,
          205,
          185,
          186,
          187,
          208,
          190,
          196,
          178,
          192,
          192,
          203,
          183,
          190,
          193,
          184,
          199,
          190,
          181,
          197,
          198,
          191,
          193,
          197,
          191,
          196,
          188,
          199,
          189,
          189,
          187,
          198,
          176,
          202,
          186,
          199,
          191,
          195,
          191,
          210,
          190,
          197,
          193,
          199,
          187,
          190,
          191,
          200,
          185,
          193,
          193,
          187,
          188,
          190,
          192,
          185,
          190,
          184,
          195,
          193,
          187,
          201
         ],
         "yaxis": "y"
        },
        {
         "hovertemplate": "Species=%{x}<br>Flipper Length (mm)=%{y}<extra></extra>",
         "legendgroup": "Gentoo penguin (Pygoscelis papua)",
         "marker": {
          "color": "#EF553B",
          "symbol": "circle"
         },
         "mode": "markers",
         "name": "Gentoo penguin (Pygoscelis papua)",
         "orientation": "v",
         "showlegend": true,
         "type": "scatter",
         "x": [
          "Gentoo penguin (Pygoscelis papua)",
          "Gentoo penguin (Pygoscelis papua)",
          "Gentoo penguin (Pygoscelis papua)",
          "Gentoo penguin (Pygoscelis papua)",
          "Gentoo penguin (Pygoscelis papua)",
          "Gentoo penguin (Pygoscelis papua)",
          "Gentoo penguin (Pygoscelis papua)",
          "Gentoo penguin (Pygoscelis papua)",
          "Gentoo penguin (Pygoscelis papua)",
          "Gentoo penguin (Pygoscelis papua)",
          "Gentoo penguin (Pygoscelis papua)",
          "Gentoo penguin (Pygoscelis papua)",
          "Gentoo penguin (Pygoscelis papua)",
          "Gentoo penguin (Pygoscelis papua)",
          "Gentoo penguin (Pygoscelis papua)",
          "Gentoo penguin (Pygoscelis papua)",
          "Gentoo penguin (Pygoscelis papua)",
          "Gentoo penguin (Pygoscelis papua)",
          "Gentoo penguin (Pygoscelis papua)",
          "Gentoo penguin (Pygoscelis papua)",
          "Gentoo penguin (Pygoscelis papua)",
          "Gentoo penguin (Pygoscelis papua)",
          "Gentoo penguin (Pygoscelis papua)",
          "Gentoo penguin (Pygoscelis papua)",
          "Gentoo penguin (Pygoscelis papua)",
          "Gentoo penguin (Pygoscelis papua)",
          "Gentoo penguin (Pygoscelis papua)",
          "Gentoo penguin (Pygoscelis papua)",
          "Gentoo penguin (Pygoscelis papua)",
          "Gentoo penguin (Pygoscelis papua)",
          "Gentoo penguin (Pygoscelis papua)",
          "Gentoo penguin (Pygoscelis papua)",
          "Gentoo penguin (Pygoscelis papua)",
          "Gentoo penguin (Pygoscelis papua)",
          "Gentoo penguin (Pygoscelis papua)",
          "Gentoo penguin (Pygoscelis papua)",
          "Gentoo penguin (Pygoscelis papua)",
          "Gentoo penguin (Pygoscelis papua)",
          "Gentoo penguin (Pygoscelis papua)",
          "Gentoo penguin (Pygoscelis papua)",
          "Gentoo penguin (Pygoscelis papua)",
          "Gentoo penguin (Pygoscelis papua)",
          "Gentoo penguin (Pygoscelis papua)",
          "Gentoo penguin (Pygoscelis papua)",
          "Gentoo penguin (Pygoscelis papua)",
          "Gentoo penguin (Pygoscelis papua)",
          "Gentoo penguin (Pygoscelis papua)",
          "Gentoo penguin (Pygoscelis papua)",
          "Gentoo penguin (Pygoscelis papua)",
          "Gentoo penguin (Pygoscelis papua)",
          "Gentoo penguin (Pygoscelis papua)",
          "Gentoo penguin (Pygoscelis papua)",
          "Gentoo penguin (Pygoscelis papua)",
          "Gentoo penguin (Pygoscelis papua)",
          "Gentoo penguin (Pygoscelis papua)",
          "Gentoo penguin (Pygoscelis papua)",
          "Gentoo penguin (Pygoscelis papua)",
          "Gentoo penguin (Pygoscelis papua)",
          "Gentoo penguin (Pygoscelis papua)",
          "Gentoo penguin (Pygoscelis papua)",
          "Gentoo penguin (Pygoscelis papua)",
          "Gentoo penguin (Pygoscelis papua)",
          "Gentoo penguin (Pygoscelis papua)",
          "Gentoo penguin (Pygoscelis papua)",
          "Gentoo penguin (Pygoscelis papua)",
          "Gentoo penguin (Pygoscelis papua)",
          "Gentoo penguin (Pygoscelis papua)",
          "Gentoo penguin (Pygoscelis papua)",
          "Gentoo penguin (Pygoscelis papua)",
          "Gentoo penguin (Pygoscelis papua)",
          "Gentoo penguin (Pygoscelis papua)",
          "Gentoo penguin (Pygoscelis papua)",
          "Gentoo penguin (Pygoscelis papua)",
          "Gentoo penguin (Pygoscelis papua)",
          "Gentoo penguin (Pygoscelis papua)",
          "Gentoo penguin (Pygoscelis papua)",
          "Gentoo penguin (Pygoscelis papua)",
          "Gentoo penguin (Pygoscelis papua)",
          "Gentoo penguin (Pygoscelis papua)",
          "Gentoo penguin (Pygoscelis papua)",
          "Gentoo penguin (Pygoscelis papua)",
          "Gentoo penguin (Pygoscelis papua)",
          "Gentoo penguin (Pygoscelis papua)",
          "Gentoo penguin (Pygoscelis papua)",
          "Gentoo penguin (Pygoscelis papua)",
          "Gentoo penguin (Pygoscelis papua)",
          "Gentoo penguin (Pygoscelis papua)",
          "Gentoo penguin (Pygoscelis papua)",
          "Gentoo penguin (Pygoscelis papua)",
          "Gentoo penguin (Pygoscelis papua)",
          "Gentoo penguin (Pygoscelis papua)",
          "Gentoo penguin (Pygoscelis papua)",
          "Gentoo penguin (Pygoscelis papua)",
          "Gentoo penguin (Pygoscelis papua)",
          "Gentoo penguin (Pygoscelis papua)",
          "Gentoo penguin (Pygoscelis papua)",
          "Gentoo penguin (Pygoscelis papua)",
          "Gentoo penguin (Pygoscelis papua)",
          "Gentoo penguin (Pygoscelis papua)",
          "Gentoo penguin (Pygoscelis papua)",
          "Gentoo penguin (Pygoscelis papua)",
          "Gentoo penguin (Pygoscelis papua)",
          "Gentoo penguin (Pygoscelis papua)",
          "Gentoo penguin (Pygoscelis papua)",
          "Gentoo penguin (Pygoscelis papua)",
          "Gentoo penguin (Pygoscelis papua)",
          "Gentoo penguin (Pygoscelis papua)",
          "Gentoo penguin (Pygoscelis papua)",
          "Gentoo penguin (Pygoscelis papua)",
          "Gentoo penguin (Pygoscelis papua)",
          "Gentoo penguin (Pygoscelis papua)",
          "Gentoo penguin (Pygoscelis papua)",
          "Gentoo penguin (Pygoscelis papua)",
          "Gentoo penguin (Pygoscelis papua)",
          "Gentoo penguin (Pygoscelis papua)",
          "Gentoo penguin (Pygoscelis papua)",
          "Gentoo penguin (Pygoscelis papua)",
          "Gentoo penguin (Pygoscelis papua)",
          "Gentoo penguin (Pygoscelis papua)",
          "Gentoo penguin (Pygoscelis papua)",
          "Gentoo penguin (Pygoscelis papua)",
          "Gentoo penguin (Pygoscelis papua)",
          "Gentoo penguin (Pygoscelis papua)",
          "Gentoo penguin (Pygoscelis papua)"
         ],
         "xaxis": "x",
         "y": [
          211,
          230,
          210,
          218,
          215,
          210,
          211,
          219,
          209,
          215,
          214,
          216,
          214,
          213,
          210,
          217,
          210,
          221,
          209,
          222,
          218,
          215,
          213,
          215,
          215,
          215,
          216,
          215,
          210,
          220,
          222,
          209,
          207,
          230,
          220,
          220,
          213,
          219,
          208,
          208,
          208,
          225,
          210,
          216,
          222,
          217,
          210,
          225,
          213,
          215,
          210,
          220,
          210,
          225,
          217,
          220,
          208,
          220,
          208,
          224,
          208,
          221,
          214,
          231,
          219,
          230,
          214,
          229,
          220,
          223,
          216,
          221,
          221,
          217,
          216,
          230,
          209,
          220,
          215,
          223,
          212,
          221,
          212,
          224,
          212,
          228,
          218,
          218,
          212,
          230,
          218,
          228,
          212,
          224,
          214,
          226,
          216,
          222,
          203,
          225,
          219,
          228,
          215,
          228,
          216,
          215,
          210,
          219,
          208,
          209,
          216,
          229,
          213,
          230,
          217,
          230,
          217,
          222,
          214,
          null,
          215,
          222,
          212,
          213
         ],
         "yaxis": "y"
        },
        {
         "hovertemplate": "Species=%{x}<br>Flipper Length (mm)=%{y}<extra></extra>",
         "legendgroup": "Chinstrap penguin (Pygoscelis antarctica)",
         "marker": {
          "color": "#00cc96",
          "symbol": "circle"
         },
         "mode": "markers",
         "name": "Chinstrap penguin (Pygoscelis antarctica)",
         "orientation": "v",
         "showlegend": true,
         "type": "scatter",
         "x": [
          "Chinstrap penguin (Pygoscelis antarctica)",
          "Chinstrap penguin (Pygoscelis antarctica)",
          "Chinstrap penguin (Pygoscelis antarctica)",
          "Chinstrap penguin (Pygoscelis antarctica)",
          "Chinstrap penguin (Pygoscelis antarctica)",
          "Chinstrap penguin (Pygoscelis antarctica)",
          "Chinstrap penguin (Pygoscelis antarctica)",
          "Chinstrap penguin (Pygoscelis antarctica)",
          "Chinstrap penguin (Pygoscelis antarctica)",
          "Chinstrap penguin (Pygoscelis antarctica)",
          "Chinstrap penguin (Pygoscelis antarctica)",
          "Chinstrap penguin (Pygoscelis antarctica)",
          "Chinstrap penguin (Pygoscelis antarctica)",
          "Chinstrap penguin (Pygoscelis antarctica)",
          "Chinstrap penguin (Pygoscelis antarctica)",
          "Chinstrap penguin (Pygoscelis antarctica)",
          "Chinstrap penguin (Pygoscelis antarctica)",
          "Chinstrap penguin (Pygoscelis antarctica)",
          "Chinstrap penguin (Pygoscelis antarctica)",
          "Chinstrap penguin (Pygoscelis antarctica)",
          "Chinstrap penguin (Pygoscelis antarctica)",
          "Chinstrap penguin (Pygoscelis antarctica)",
          "Chinstrap penguin (Pygoscelis antarctica)",
          "Chinstrap penguin (Pygoscelis antarctica)",
          "Chinstrap penguin (Pygoscelis antarctica)",
          "Chinstrap penguin (Pygoscelis antarctica)",
          "Chinstrap penguin (Pygoscelis antarctica)",
          "Chinstrap penguin (Pygoscelis antarctica)",
          "Chinstrap penguin (Pygoscelis antarctica)",
          "Chinstrap penguin (Pygoscelis antarctica)",
          "Chinstrap penguin (Pygoscelis antarctica)",
          "Chinstrap penguin (Pygoscelis antarctica)",
          "Chinstrap penguin (Pygoscelis antarctica)",
          "Chinstrap penguin (Pygoscelis antarctica)",
          "Chinstrap penguin (Pygoscelis antarctica)",
          "Chinstrap penguin (Pygoscelis antarctica)",
          "Chinstrap penguin (Pygoscelis antarctica)",
          "Chinstrap penguin (Pygoscelis antarctica)",
          "Chinstrap penguin (Pygoscelis antarctica)",
          "Chinstrap penguin (Pygoscelis antarctica)",
          "Chinstrap penguin (Pygoscelis antarctica)",
          "Chinstrap penguin (Pygoscelis antarctica)",
          "Chinstrap penguin (Pygoscelis antarctica)",
          "Chinstrap penguin (Pygoscelis antarctica)",
          "Chinstrap penguin (Pygoscelis antarctica)",
          "Chinstrap penguin (Pygoscelis antarctica)",
          "Chinstrap penguin (Pygoscelis antarctica)",
          "Chinstrap penguin (Pygoscelis antarctica)",
          "Chinstrap penguin (Pygoscelis antarctica)",
          "Chinstrap penguin (Pygoscelis antarctica)",
          "Chinstrap penguin (Pygoscelis antarctica)",
          "Chinstrap penguin (Pygoscelis antarctica)",
          "Chinstrap penguin (Pygoscelis antarctica)",
          "Chinstrap penguin (Pygoscelis antarctica)",
          "Chinstrap penguin (Pygoscelis antarctica)",
          "Chinstrap penguin (Pygoscelis antarctica)",
          "Chinstrap penguin (Pygoscelis antarctica)",
          "Chinstrap penguin (Pygoscelis antarctica)",
          "Chinstrap penguin (Pygoscelis antarctica)",
          "Chinstrap penguin (Pygoscelis antarctica)",
          "Chinstrap penguin (Pygoscelis antarctica)",
          "Chinstrap penguin (Pygoscelis antarctica)",
          "Chinstrap penguin (Pygoscelis antarctica)",
          "Chinstrap penguin (Pygoscelis antarctica)",
          "Chinstrap penguin (Pygoscelis antarctica)",
          "Chinstrap penguin (Pygoscelis antarctica)",
          "Chinstrap penguin (Pygoscelis antarctica)",
          "Chinstrap penguin (Pygoscelis antarctica)"
         ],
         "xaxis": "x",
         "y": [
          192,
          196,
          193,
          188,
          197,
          198,
          178,
          197,
          195,
          198,
          193,
          194,
          185,
          201,
          190,
          201,
          197,
          181,
          190,
          195,
          181,
          191,
          187,
          193,
          195,
          197,
          200,
          200,
          191,
          205,
          187,
          201,
          187,
          203,
          195,
          199,
          195,
          210,
          192,
          205,
          210,
          187,
          196,
          196,
          196,
          201,
          190,
          212,
          187,
          198,
          199,
          201,
          193,
          203,
          187,
          197,
          191,
          203,
          202,
          194,
          206,
          189,
          195,
          207,
          202,
          193,
          210,
          198
         ],
         "yaxis": "y"
        }
       ],
       "layout": {
        "legend": {
         "title": {
          "text": "Species"
         },
         "tracegroupgap": 0
        },
        "margin": {
         "t": 60
        },
        "template": {
         "data": {
          "bar": [
           {
            "error_x": {
             "color": "#2a3f5f"
            },
            "error_y": {
             "color": "#2a3f5f"
            },
            "marker": {
             "line": {
              "color": "#E5ECF6",
              "width": 0.5
             },
             "pattern": {
              "fillmode": "overlay",
              "size": 10,
              "solidity": 0.2
             }
            },
            "type": "bar"
           }
          ],
          "barpolar": [
           {
            "marker": {
             "line": {
              "color": "#E5ECF6",
              "width": 0.5
             },
             "pattern": {
              "fillmode": "overlay",
              "size": 10,
              "solidity": 0.2
             }
            },
            "type": "barpolar"
           }
          ],
          "carpet": [
           {
            "aaxis": {
             "endlinecolor": "#2a3f5f",
             "gridcolor": "white",
             "linecolor": "white",
             "minorgridcolor": "white",
             "startlinecolor": "#2a3f5f"
            },
            "baxis": {
             "endlinecolor": "#2a3f5f",
             "gridcolor": "white",
             "linecolor": "white",
             "minorgridcolor": "white",
             "startlinecolor": "#2a3f5f"
            },
            "type": "carpet"
           }
          ],
          "choropleth": [
           {
            "colorbar": {
             "outlinewidth": 0,
             "ticks": ""
            },
            "type": "choropleth"
           }
          ],
          "contour": [
           {
            "colorbar": {
             "outlinewidth": 0,
             "ticks": ""
            },
            "colorscale": [
             [
              0,
              "#0d0887"
             ],
             [
              0.1111111111111111,
              "#46039f"
             ],
             [
              0.2222222222222222,
              "#7201a8"
             ],
             [
              0.3333333333333333,
              "#9c179e"
             ],
             [
              0.4444444444444444,
              "#bd3786"
             ],
             [
              0.5555555555555556,
              "#d8576b"
             ],
             [
              0.6666666666666666,
              "#ed7953"
             ],
             [
              0.7777777777777778,
              "#fb9f3a"
             ],
             [
              0.8888888888888888,
              "#fdca26"
             ],
             [
              1,
              "#f0f921"
             ]
            ],
            "type": "contour"
           }
          ],
          "contourcarpet": [
           {
            "colorbar": {
             "outlinewidth": 0,
             "ticks": ""
            },
            "type": "contourcarpet"
           }
          ],
          "heatmap": [
           {
            "colorbar": {
             "outlinewidth": 0,
             "ticks": ""
            },
            "colorscale": [
             [
              0,
              "#0d0887"
             ],
             [
              0.1111111111111111,
              "#46039f"
             ],
             [
              0.2222222222222222,
              "#7201a8"
             ],
             [
              0.3333333333333333,
              "#9c179e"
             ],
             [
              0.4444444444444444,
              "#bd3786"
             ],
             [
              0.5555555555555556,
              "#d8576b"
             ],
             [
              0.6666666666666666,
              "#ed7953"
             ],
             [
              0.7777777777777778,
              "#fb9f3a"
             ],
             [
              0.8888888888888888,
              "#fdca26"
             ],
             [
              1,
              "#f0f921"
             ]
            ],
            "type": "heatmap"
           }
          ],
          "heatmapgl": [
           {
            "colorbar": {
             "outlinewidth": 0,
             "ticks": ""
            },
            "colorscale": [
             [
              0,
              "#0d0887"
             ],
             [
              0.1111111111111111,
              "#46039f"
             ],
             [
              0.2222222222222222,
              "#7201a8"
             ],
             [
              0.3333333333333333,
              "#9c179e"
             ],
             [
              0.4444444444444444,
              "#bd3786"
             ],
             [
              0.5555555555555556,
              "#d8576b"
             ],
             [
              0.6666666666666666,
              "#ed7953"
             ],
             [
              0.7777777777777778,
              "#fb9f3a"
             ],
             [
              0.8888888888888888,
              "#fdca26"
             ],
             [
              1,
              "#f0f921"
             ]
            ],
            "type": "heatmapgl"
           }
          ],
          "histogram": [
           {
            "marker": {
             "pattern": {
              "fillmode": "overlay",
              "size": 10,
              "solidity": 0.2
             }
            },
            "type": "histogram"
           }
          ],
          "histogram2d": [
           {
            "colorbar": {
             "outlinewidth": 0,
             "ticks": ""
            },
            "colorscale": [
             [
              0,
              "#0d0887"
             ],
             [
              0.1111111111111111,
              "#46039f"
             ],
             [
              0.2222222222222222,
              "#7201a8"
             ],
             [
              0.3333333333333333,
              "#9c179e"
             ],
             [
              0.4444444444444444,
              "#bd3786"
             ],
             [
              0.5555555555555556,
              "#d8576b"
             ],
             [
              0.6666666666666666,
              "#ed7953"
             ],
             [
              0.7777777777777778,
              "#fb9f3a"
             ],
             [
              0.8888888888888888,
              "#fdca26"
             ],
             [
              1,
              "#f0f921"
             ]
            ],
            "type": "histogram2d"
           }
          ],
          "histogram2dcontour": [
           {
            "colorbar": {
             "outlinewidth": 0,
             "ticks": ""
            },
            "colorscale": [
             [
              0,
              "#0d0887"
             ],
             [
              0.1111111111111111,
              "#46039f"
             ],
             [
              0.2222222222222222,
              "#7201a8"
             ],
             [
              0.3333333333333333,
              "#9c179e"
             ],
             [
              0.4444444444444444,
              "#bd3786"
             ],
             [
              0.5555555555555556,
              "#d8576b"
             ],
             [
              0.6666666666666666,
              "#ed7953"
             ],
             [
              0.7777777777777778,
              "#fb9f3a"
             ],
             [
              0.8888888888888888,
              "#fdca26"
             ],
             [
              1,
              "#f0f921"
             ]
            ],
            "type": "histogram2dcontour"
           }
          ],
          "mesh3d": [
           {
            "colorbar": {
             "outlinewidth": 0,
             "ticks": ""
            },
            "type": "mesh3d"
           }
          ],
          "parcoords": [
           {
            "line": {
             "colorbar": {
              "outlinewidth": 0,
              "ticks": ""
             }
            },
            "type": "parcoords"
           }
          ],
          "pie": [
           {
            "automargin": true,
            "type": "pie"
           }
          ],
          "scatter": [
           {
            "marker": {
             "colorbar": {
              "outlinewidth": 0,
              "ticks": ""
             }
            },
            "type": "scatter"
           }
          ],
          "scatter3d": [
           {
            "line": {
             "colorbar": {
              "outlinewidth": 0,
              "ticks": ""
             }
            },
            "marker": {
             "colorbar": {
              "outlinewidth": 0,
              "ticks": ""
             }
            },
            "type": "scatter3d"
           }
          ],
          "scattercarpet": [
           {
            "marker": {
             "colorbar": {
              "outlinewidth": 0,
              "ticks": ""
             }
            },
            "type": "scattercarpet"
           }
          ],
          "scattergeo": [
           {
            "marker": {
             "colorbar": {
              "outlinewidth": 0,
              "ticks": ""
             }
            },
            "type": "scattergeo"
           }
          ],
          "scattergl": [
           {
            "marker": {
             "colorbar": {
              "outlinewidth": 0,
              "ticks": ""
             }
            },
            "type": "scattergl"
           }
          ],
          "scattermapbox": [
           {
            "marker": {
             "colorbar": {
              "outlinewidth": 0,
              "ticks": ""
             }
            },
            "type": "scattermapbox"
           }
          ],
          "scatterpolar": [
           {
            "marker": {
             "colorbar": {
              "outlinewidth": 0,
              "ticks": ""
             }
            },
            "type": "scatterpolar"
           }
          ],
          "scatterpolargl": [
           {
            "marker": {
             "colorbar": {
              "outlinewidth": 0,
              "ticks": ""
             }
            },
            "type": "scatterpolargl"
           }
          ],
          "scatterternary": [
           {
            "marker": {
             "colorbar": {
              "outlinewidth": 0,
              "ticks": ""
             }
            },
            "type": "scatterternary"
           }
          ],
          "surface": [
           {
            "colorbar": {
             "outlinewidth": 0,
             "ticks": ""
            },
            "colorscale": [
             [
              0,
              "#0d0887"
             ],
             [
              0.1111111111111111,
              "#46039f"
             ],
             [
              0.2222222222222222,
              "#7201a8"
             ],
             [
              0.3333333333333333,
              "#9c179e"
             ],
             [
              0.4444444444444444,
              "#bd3786"
             ],
             [
              0.5555555555555556,
              "#d8576b"
             ],
             [
              0.6666666666666666,
              "#ed7953"
             ],
             [
              0.7777777777777778,
              "#fb9f3a"
             ],
             [
              0.8888888888888888,
              "#fdca26"
             ],
             [
              1,
              "#f0f921"
             ]
            ],
            "type": "surface"
           }
          ],
          "table": [
           {
            "cells": {
             "fill": {
              "color": "#EBF0F8"
             },
             "line": {
              "color": "white"
             }
            },
            "header": {
             "fill": {
              "color": "#C8D4E3"
             },
             "line": {
              "color": "white"
             }
            },
            "type": "table"
           }
          ]
         },
         "layout": {
          "annotationdefaults": {
           "arrowcolor": "#2a3f5f",
           "arrowhead": 0,
           "arrowwidth": 1
          },
          "autotypenumbers": "strict",
          "coloraxis": {
           "colorbar": {
            "outlinewidth": 0,
            "ticks": ""
           }
          },
          "colorscale": {
           "diverging": [
            [
             0,
             "#8e0152"
            ],
            [
             0.1,
             "#c51b7d"
            ],
            [
             0.2,
             "#de77ae"
            ],
            [
             0.3,
             "#f1b6da"
            ],
            [
             0.4,
             "#fde0ef"
            ],
            [
             0.5,
             "#f7f7f7"
            ],
            [
             0.6,
             "#e6f5d0"
            ],
            [
             0.7,
             "#b8e186"
            ],
            [
             0.8,
             "#7fbc41"
            ],
            [
             0.9,
             "#4d9221"
            ],
            [
             1,
             "#276419"
            ]
           ],
           "sequential": [
            [
             0,
             "#0d0887"
            ],
            [
             0.1111111111111111,
             "#46039f"
            ],
            [
             0.2222222222222222,
             "#7201a8"
            ],
            [
             0.3333333333333333,
             "#9c179e"
            ],
            [
             0.4444444444444444,
             "#bd3786"
            ],
            [
             0.5555555555555556,
             "#d8576b"
            ],
            [
             0.6666666666666666,
             "#ed7953"
            ],
            [
             0.7777777777777778,
             "#fb9f3a"
            ],
            [
             0.8888888888888888,
             "#fdca26"
            ],
            [
             1,
             "#f0f921"
            ]
           ],
           "sequentialminus": [
            [
             0,
             "#0d0887"
            ],
            [
             0.1111111111111111,
             "#46039f"
            ],
            [
             0.2222222222222222,
             "#7201a8"
            ],
            [
             0.3333333333333333,
             "#9c179e"
            ],
            [
             0.4444444444444444,
             "#bd3786"
            ],
            [
             0.5555555555555556,
             "#d8576b"
            ],
            [
             0.6666666666666666,
             "#ed7953"
            ],
            [
             0.7777777777777778,
             "#fb9f3a"
            ],
            [
             0.8888888888888888,
             "#fdca26"
            ],
            [
             1,
             "#f0f921"
            ]
           ]
          },
          "colorway": [
           "#636efa",
           "#EF553B",
           "#00cc96",
           "#ab63fa",
           "#FFA15A",
           "#19d3f3",
           "#FF6692",
           "#B6E880",
           "#FF97FF",
           "#FECB52"
          ],
          "font": {
           "color": "#2a3f5f"
          },
          "geo": {
           "bgcolor": "white",
           "lakecolor": "white",
           "landcolor": "#E5ECF6",
           "showlakes": true,
           "showland": true,
           "subunitcolor": "white"
          },
          "hoverlabel": {
           "align": "left"
          },
          "hovermode": "closest",
          "mapbox": {
           "style": "light"
          },
          "paper_bgcolor": "white",
          "plot_bgcolor": "#E5ECF6",
          "polar": {
           "angularaxis": {
            "gridcolor": "white",
            "linecolor": "white",
            "ticks": ""
           },
           "bgcolor": "#E5ECF6",
           "radialaxis": {
            "gridcolor": "white",
            "linecolor": "white",
            "ticks": ""
           }
          },
          "scene": {
           "xaxis": {
            "backgroundcolor": "#E5ECF6",
            "gridcolor": "white",
            "gridwidth": 2,
            "linecolor": "white",
            "showbackground": true,
            "ticks": "",
            "zerolinecolor": "white"
           },
           "yaxis": {
            "backgroundcolor": "#E5ECF6",
            "gridcolor": "white",
            "gridwidth": 2,
            "linecolor": "white",
            "showbackground": true,
            "ticks": "",
            "zerolinecolor": "white"
           },
           "zaxis": {
            "backgroundcolor": "#E5ECF6",
            "gridcolor": "white",
            "gridwidth": 2,
            "linecolor": "white",
            "showbackground": true,
            "ticks": "",
            "zerolinecolor": "white"
           }
          },
          "shapedefaults": {
           "line": {
            "color": "#2a3f5f"
           }
          },
          "ternary": {
           "aaxis": {
            "gridcolor": "white",
            "linecolor": "white",
            "ticks": ""
           },
           "baxis": {
            "gridcolor": "white",
            "linecolor": "white",
            "ticks": ""
           },
           "bgcolor": "#E5ECF6",
           "caxis": {
            "gridcolor": "white",
            "linecolor": "white",
            "ticks": ""
           }
          },
          "title": {
           "x": 0.05
          },
          "xaxis": {
           "automargin": true,
           "gridcolor": "white",
           "linecolor": "white",
           "ticks": "",
           "title": {
            "standoff": 15
           },
           "zerolinecolor": "white",
           "zerolinewidth": 2
          },
          "yaxis": {
           "automargin": true,
           "gridcolor": "white",
           "linecolor": "white",
           "ticks": "",
           "title": {
            "standoff": 15
           },
           "zerolinecolor": "white",
           "zerolinewidth": 2
          }
         }
        },
        "updatemenus": [
         {
          "active": 0,
          "buttons": [
           {
            "args": [
             {
              "type": "scatter"
             }
            ],
            "label": "Scatterplot",
            "method": "update"
           },
           {
            "args": [
             {
              "mode": "markers",
              "type": "box"
             }
            ],
            "label": "Boxplot",
            "method": "update"
           }
          ],
          "direction": "down",
          "showactive": true,
          "type": "buttons",
          "x": 1.3,
          "y": 0.5
         }
        ],
        "xaxis": {
         "anchor": "y",
         "categoryarray": [
          "Adelie Penguin (Pygoscelis adeliae)",
          "Gentoo penguin (Pygoscelis papua)",
          "Chinstrap penguin (Pygoscelis antarctica)"
         ],
         "categoryorder": "array",
         "domain": [
          0,
          1
         ],
         "title": {
          "text": "Species"
         }
        },
        "yaxis": {
         "anchor": "x",
         "domain": [
          0,
          1
         ],
         "title": {
          "text": "Flipper Length (mm)"
         }
        }
       }
      },
      "text/html": [
       "<div>                            <div id=\"f3289645-0fb1-4a91-8bf5-d22754a18ba5\" class=\"plotly-graph-div\" style=\"height:525px; width:100%;\"></div>            <script type=\"text/javascript\">                require([\"plotly\"], function(Plotly) {                    window.PLOTLYENV=window.PLOTLYENV || {};                                    if (document.getElementById(\"f3289645-0fb1-4a91-8bf5-d22754a18ba5\")) {                    Plotly.newPlot(                        \"f3289645-0fb1-4a91-8bf5-d22754a18ba5\",                        [{\"hovertemplate\":\"Species=%{x}<br>Flipper Length (mm)=%{y}<extra></extra>\",\"legendgroup\":\"Adelie Penguin (Pygoscelis adeliae)\",\"marker\":{\"color\":\"#636efa\",\"symbol\":\"circle\"},\"mode\":\"markers\",\"name\":\"Adelie Penguin (Pygoscelis adeliae)\",\"orientation\":\"v\",\"showlegend\":true,\"type\":\"scatter\",\"x\":[\"Adelie Penguin (Pygoscelis adeliae)\",\"Adelie Penguin (Pygoscelis adeliae)\",\"Adelie Penguin (Pygoscelis adeliae)\",\"Adelie Penguin (Pygoscelis adeliae)\",\"Adelie Penguin (Pygoscelis adeliae)\",\"Adelie Penguin (Pygoscelis adeliae)\",\"Adelie Penguin (Pygoscelis adeliae)\",\"Adelie Penguin (Pygoscelis adeliae)\",\"Adelie Penguin (Pygoscelis adeliae)\",\"Adelie Penguin (Pygoscelis adeliae)\",\"Adelie Penguin (Pygoscelis adeliae)\",\"Adelie Penguin (Pygoscelis adeliae)\",\"Adelie Penguin (Pygoscelis adeliae)\",\"Adelie Penguin (Pygoscelis adeliae)\",\"Adelie Penguin (Pygoscelis adeliae)\",\"Adelie Penguin (Pygoscelis adeliae)\",\"Adelie Penguin (Pygoscelis adeliae)\",\"Adelie Penguin (Pygoscelis adeliae)\",\"Adelie Penguin (Pygoscelis adeliae)\",\"Adelie Penguin (Pygoscelis adeliae)\",\"Adelie Penguin (Pygoscelis adeliae)\",\"Adelie Penguin (Pygoscelis adeliae)\",\"Adelie Penguin (Pygoscelis adeliae)\",\"Adelie Penguin (Pygoscelis adeliae)\",\"Adelie Penguin (Pygoscelis adeliae)\",\"Adelie Penguin (Pygoscelis adeliae)\",\"Adelie Penguin (Pygoscelis adeliae)\",\"Adelie Penguin (Pygoscelis adeliae)\",\"Adelie Penguin (Pygoscelis adeliae)\",\"Adelie Penguin (Pygoscelis adeliae)\",\"Adelie Penguin (Pygoscelis adeliae)\",\"Adelie Penguin (Pygoscelis adeliae)\",\"Adelie Penguin (Pygoscelis adeliae)\",\"Adelie Penguin (Pygoscelis adeliae)\",\"Adelie Penguin (Pygoscelis adeliae)\",\"Adelie Penguin (Pygoscelis adeliae)\",\"Adelie Penguin (Pygoscelis adeliae)\",\"Adelie Penguin (Pygoscelis adeliae)\",\"Adelie Penguin (Pygoscelis adeliae)\",\"Adelie Penguin (Pygoscelis adeliae)\",\"Adelie Penguin (Pygoscelis adeliae)\",\"Adelie Penguin (Pygoscelis adeliae)\",\"Adelie Penguin (Pygoscelis adeliae)\",\"Adelie Penguin (Pygoscelis adeliae)\",\"Adelie Penguin (Pygoscelis adeliae)\",\"Adelie Penguin (Pygoscelis adeliae)\",\"Adelie Penguin (Pygoscelis adeliae)\",\"Adelie Penguin (Pygoscelis adeliae)\",\"Adelie Penguin (Pygoscelis adeliae)\",\"Adelie Penguin (Pygoscelis adeliae)\",\"Adelie Penguin (Pygoscelis adeliae)\",\"Adelie Penguin (Pygoscelis adeliae)\",\"Adelie Penguin (Pygoscelis adeliae)\",\"Adelie Penguin (Pygoscelis adeliae)\",\"Adelie Penguin (Pygoscelis adeliae)\",\"Adelie Penguin (Pygoscelis adeliae)\",\"Adelie Penguin (Pygoscelis adeliae)\",\"Adelie Penguin (Pygoscelis adeliae)\",\"Adelie Penguin (Pygoscelis adeliae)\",\"Adelie Penguin (Pygoscelis adeliae)\",\"Adelie Penguin (Pygoscelis adeliae)\",\"Adelie Penguin (Pygoscelis adeliae)\",\"Adelie Penguin (Pygoscelis adeliae)\",\"Adelie Penguin (Pygoscelis adeliae)\",\"Adelie Penguin (Pygoscelis adeliae)\",\"Adelie Penguin (Pygoscelis adeliae)\",\"Adelie Penguin (Pygoscelis adeliae)\",\"Adelie Penguin (Pygoscelis adeliae)\",\"Adelie Penguin (Pygoscelis adeliae)\",\"Adelie Penguin (Pygoscelis adeliae)\",\"Adelie Penguin (Pygoscelis adeliae)\",\"Adelie Penguin (Pygoscelis adeliae)\",\"Adelie Penguin (Pygoscelis adeliae)\",\"Adelie Penguin (Pygoscelis adeliae)\",\"Adelie Penguin (Pygoscelis adeliae)\",\"Adelie Penguin (Pygoscelis adeliae)\",\"Adelie Penguin (Pygoscelis adeliae)\",\"Adelie Penguin (Pygoscelis adeliae)\",\"Adelie Penguin (Pygoscelis adeliae)\",\"Adelie Penguin (Pygoscelis adeliae)\",\"Adelie Penguin (Pygoscelis adeliae)\",\"Adelie Penguin (Pygoscelis adeliae)\",\"Adelie Penguin (Pygoscelis adeliae)\",\"Adelie Penguin (Pygoscelis adeliae)\",\"Adelie Penguin (Pygoscelis adeliae)\",\"Adelie Penguin (Pygoscelis adeliae)\",\"Adelie Penguin (Pygoscelis adeliae)\",\"Adelie Penguin (Pygoscelis adeliae)\",\"Adelie Penguin (Pygoscelis adeliae)\",\"Adelie Penguin (Pygoscelis adeliae)\",\"Adelie Penguin (Pygoscelis adeliae)\",\"Adelie Penguin (Pygoscelis adeliae)\",\"Adelie Penguin (Pygoscelis adeliae)\",\"Adelie Penguin (Pygoscelis adeliae)\",\"Adelie Penguin (Pygoscelis adeliae)\",\"Adelie Penguin (Pygoscelis adeliae)\",\"Adelie Penguin (Pygoscelis adeliae)\",\"Adelie Penguin (Pygoscelis adeliae)\",\"Adelie Penguin (Pygoscelis adeliae)\",\"Adelie Penguin (Pygoscelis adeliae)\",\"Adelie Penguin (Pygoscelis adeliae)\",\"Adelie Penguin (Pygoscelis adeliae)\",\"Adelie Penguin (Pygoscelis adeliae)\",\"Adelie Penguin (Pygoscelis adeliae)\",\"Adelie Penguin (Pygoscelis adeliae)\",\"Adelie Penguin (Pygoscelis adeliae)\",\"Adelie Penguin (Pygoscelis adeliae)\",\"Adelie Penguin (Pygoscelis adeliae)\",\"Adelie Penguin (Pygoscelis adeliae)\",\"Adelie Penguin (Pygoscelis adeliae)\",\"Adelie Penguin (Pygoscelis adeliae)\",\"Adelie Penguin (Pygoscelis adeliae)\",\"Adelie Penguin (Pygoscelis adeliae)\",\"Adelie Penguin (Pygoscelis adeliae)\",\"Adelie Penguin (Pygoscelis adeliae)\",\"Adelie Penguin (Pygoscelis adeliae)\",\"Adelie Penguin (Pygoscelis adeliae)\",\"Adelie Penguin (Pygoscelis adeliae)\",\"Adelie Penguin (Pygoscelis adeliae)\",\"Adelie Penguin (Pygoscelis adeliae)\",\"Adelie Penguin (Pygoscelis adeliae)\",\"Adelie Penguin (Pygoscelis adeliae)\",\"Adelie Penguin (Pygoscelis adeliae)\",\"Adelie Penguin (Pygoscelis adeliae)\",\"Adelie Penguin (Pygoscelis adeliae)\",\"Adelie Penguin (Pygoscelis adeliae)\",\"Adelie Penguin (Pygoscelis adeliae)\",\"Adelie Penguin (Pygoscelis adeliae)\",\"Adelie Penguin (Pygoscelis adeliae)\",\"Adelie Penguin (Pygoscelis adeliae)\",\"Adelie Penguin (Pygoscelis adeliae)\",\"Adelie Penguin (Pygoscelis adeliae)\",\"Adelie Penguin (Pygoscelis adeliae)\",\"Adelie Penguin (Pygoscelis adeliae)\",\"Adelie Penguin (Pygoscelis adeliae)\",\"Adelie Penguin (Pygoscelis adeliae)\",\"Adelie Penguin (Pygoscelis adeliae)\",\"Adelie Penguin (Pygoscelis adeliae)\",\"Adelie Penguin (Pygoscelis adeliae)\",\"Adelie Penguin (Pygoscelis adeliae)\",\"Adelie Penguin (Pygoscelis adeliae)\",\"Adelie Penguin (Pygoscelis adeliae)\",\"Adelie Penguin (Pygoscelis adeliae)\",\"Adelie Penguin (Pygoscelis adeliae)\",\"Adelie Penguin (Pygoscelis adeliae)\",\"Adelie Penguin (Pygoscelis adeliae)\",\"Adelie Penguin (Pygoscelis adeliae)\",\"Adelie Penguin (Pygoscelis adeliae)\",\"Adelie Penguin (Pygoscelis adeliae)\",\"Adelie Penguin (Pygoscelis adeliae)\",\"Adelie Penguin (Pygoscelis adeliae)\",\"Adelie Penguin (Pygoscelis adeliae)\"],\"xaxis\":\"x\",\"y\":[181.0,186.0,195.0,null,193.0,190.0,181.0,195.0,193.0,190.0,186.0,180.0,182.0,191.0,198.0,185.0,195.0,197.0,184.0,194.0,174.0,180.0,189.0,185.0,180.0,187.0,183.0,187.0,172.0,180.0,178.0,178.0,188.0,184.0,195.0,196.0,190.0,180.0,181.0,184.0,182.0,195.0,186.0,196.0,185.0,190.0,182.0,179.0,190.0,191.0,186.0,188.0,190.0,200.0,187.0,191.0,186.0,193.0,181.0,194.0,185.0,195.0,185.0,192.0,184.0,192.0,195.0,188.0,190.0,198.0,190.0,190.0,196.0,197.0,190.0,195.0,191.0,184.0,187.0,195.0,189.0,196.0,187.0,193.0,191.0,194.0,190.0,189.0,189.0,190.0,202.0,205.0,185.0,186.0,187.0,208.0,190.0,196.0,178.0,192.0,192.0,203.0,183.0,190.0,193.0,184.0,199.0,190.0,181.0,197.0,198.0,191.0,193.0,197.0,191.0,196.0,188.0,199.0,189.0,189.0,187.0,198.0,176.0,202.0,186.0,199.0,191.0,195.0,191.0,210.0,190.0,197.0,193.0,199.0,187.0,190.0,191.0,200.0,185.0,193.0,193.0,187.0,188.0,190.0,192.0,185.0,190.0,184.0,195.0,193.0,187.0,201.0],\"yaxis\":\"y\"},{\"hovertemplate\":\"Species=%{x}<br>Flipper Length (mm)=%{y}<extra></extra>\",\"legendgroup\":\"Gentoo penguin (Pygoscelis papua)\",\"marker\":{\"color\":\"#EF553B\",\"symbol\":\"circle\"},\"mode\":\"markers\",\"name\":\"Gentoo penguin (Pygoscelis papua)\",\"orientation\":\"v\",\"showlegend\":true,\"type\":\"scatter\",\"x\":[\"Gentoo penguin (Pygoscelis papua)\",\"Gentoo penguin (Pygoscelis papua)\",\"Gentoo penguin (Pygoscelis papua)\",\"Gentoo penguin (Pygoscelis papua)\",\"Gentoo penguin (Pygoscelis papua)\",\"Gentoo penguin (Pygoscelis papua)\",\"Gentoo penguin (Pygoscelis papua)\",\"Gentoo penguin (Pygoscelis papua)\",\"Gentoo penguin (Pygoscelis papua)\",\"Gentoo penguin (Pygoscelis papua)\",\"Gentoo penguin (Pygoscelis papua)\",\"Gentoo penguin (Pygoscelis papua)\",\"Gentoo penguin (Pygoscelis papua)\",\"Gentoo penguin (Pygoscelis papua)\",\"Gentoo penguin (Pygoscelis papua)\",\"Gentoo penguin (Pygoscelis papua)\",\"Gentoo penguin (Pygoscelis papua)\",\"Gentoo penguin (Pygoscelis papua)\",\"Gentoo penguin (Pygoscelis papua)\",\"Gentoo penguin (Pygoscelis papua)\",\"Gentoo penguin (Pygoscelis papua)\",\"Gentoo penguin (Pygoscelis papua)\",\"Gentoo penguin (Pygoscelis papua)\",\"Gentoo penguin (Pygoscelis papua)\",\"Gentoo penguin (Pygoscelis papua)\",\"Gentoo penguin (Pygoscelis papua)\",\"Gentoo penguin (Pygoscelis papua)\",\"Gentoo penguin (Pygoscelis papua)\",\"Gentoo penguin (Pygoscelis papua)\",\"Gentoo penguin (Pygoscelis papua)\",\"Gentoo penguin (Pygoscelis papua)\",\"Gentoo penguin (Pygoscelis papua)\",\"Gentoo penguin (Pygoscelis papua)\",\"Gentoo penguin (Pygoscelis papua)\",\"Gentoo penguin (Pygoscelis papua)\",\"Gentoo penguin (Pygoscelis papua)\",\"Gentoo penguin (Pygoscelis papua)\",\"Gentoo penguin (Pygoscelis papua)\",\"Gentoo penguin (Pygoscelis papua)\",\"Gentoo penguin (Pygoscelis papua)\",\"Gentoo penguin (Pygoscelis papua)\",\"Gentoo penguin (Pygoscelis papua)\",\"Gentoo penguin (Pygoscelis papua)\",\"Gentoo penguin (Pygoscelis papua)\",\"Gentoo penguin (Pygoscelis papua)\",\"Gentoo penguin (Pygoscelis papua)\",\"Gentoo penguin (Pygoscelis papua)\",\"Gentoo penguin (Pygoscelis papua)\",\"Gentoo penguin (Pygoscelis papua)\",\"Gentoo penguin (Pygoscelis papua)\",\"Gentoo penguin (Pygoscelis papua)\",\"Gentoo penguin (Pygoscelis papua)\",\"Gentoo penguin (Pygoscelis papua)\",\"Gentoo penguin (Pygoscelis papua)\",\"Gentoo penguin (Pygoscelis papua)\",\"Gentoo penguin (Pygoscelis papua)\",\"Gentoo penguin (Pygoscelis papua)\",\"Gentoo penguin (Pygoscelis papua)\",\"Gentoo penguin (Pygoscelis papua)\",\"Gentoo penguin (Pygoscelis papua)\",\"Gentoo penguin (Pygoscelis papua)\",\"Gentoo penguin (Pygoscelis papua)\",\"Gentoo penguin (Pygoscelis papua)\",\"Gentoo penguin (Pygoscelis papua)\",\"Gentoo penguin (Pygoscelis papua)\",\"Gentoo penguin (Pygoscelis papua)\",\"Gentoo penguin (Pygoscelis papua)\",\"Gentoo penguin (Pygoscelis papua)\",\"Gentoo penguin (Pygoscelis papua)\",\"Gentoo penguin (Pygoscelis papua)\",\"Gentoo penguin (Pygoscelis papua)\",\"Gentoo penguin (Pygoscelis papua)\",\"Gentoo penguin (Pygoscelis papua)\",\"Gentoo penguin (Pygoscelis papua)\",\"Gentoo penguin (Pygoscelis papua)\",\"Gentoo penguin (Pygoscelis papua)\",\"Gentoo penguin (Pygoscelis papua)\",\"Gentoo penguin (Pygoscelis papua)\",\"Gentoo penguin (Pygoscelis papua)\",\"Gentoo penguin (Pygoscelis papua)\",\"Gentoo penguin (Pygoscelis papua)\",\"Gentoo penguin (Pygoscelis papua)\",\"Gentoo penguin (Pygoscelis papua)\",\"Gentoo penguin (Pygoscelis papua)\",\"Gentoo penguin (Pygoscelis papua)\",\"Gentoo penguin (Pygoscelis papua)\",\"Gentoo penguin (Pygoscelis papua)\",\"Gentoo penguin (Pygoscelis papua)\",\"Gentoo penguin (Pygoscelis papua)\",\"Gentoo penguin (Pygoscelis papua)\",\"Gentoo penguin (Pygoscelis papua)\",\"Gentoo penguin (Pygoscelis papua)\",\"Gentoo penguin (Pygoscelis papua)\",\"Gentoo penguin (Pygoscelis papua)\",\"Gentoo penguin (Pygoscelis papua)\",\"Gentoo penguin (Pygoscelis papua)\",\"Gentoo penguin (Pygoscelis papua)\",\"Gentoo penguin (Pygoscelis papua)\",\"Gentoo penguin (Pygoscelis papua)\",\"Gentoo penguin (Pygoscelis papua)\",\"Gentoo penguin (Pygoscelis papua)\",\"Gentoo penguin (Pygoscelis papua)\",\"Gentoo penguin (Pygoscelis papua)\",\"Gentoo penguin (Pygoscelis papua)\",\"Gentoo penguin (Pygoscelis papua)\",\"Gentoo penguin (Pygoscelis papua)\",\"Gentoo penguin (Pygoscelis papua)\",\"Gentoo penguin (Pygoscelis papua)\",\"Gentoo penguin (Pygoscelis papua)\",\"Gentoo penguin (Pygoscelis papua)\",\"Gentoo penguin (Pygoscelis papua)\",\"Gentoo penguin (Pygoscelis papua)\",\"Gentoo penguin (Pygoscelis papua)\",\"Gentoo penguin (Pygoscelis papua)\",\"Gentoo penguin (Pygoscelis papua)\",\"Gentoo penguin (Pygoscelis papua)\",\"Gentoo penguin (Pygoscelis papua)\",\"Gentoo penguin (Pygoscelis papua)\",\"Gentoo penguin (Pygoscelis papua)\",\"Gentoo penguin (Pygoscelis papua)\",\"Gentoo penguin (Pygoscelis papua)\",\"Gentoo penguin (Pygoscelis papua)\",\"Gentoo penguin (Pygoscelis papua)\",\"Gentoo penguin (Pygoscelis papua)\"],\"xaxis\":\"x\",\"y\":[211.0,230.0,210.0,218.0,215.0,210.0,211.0,219.0,209.0,215.0,214.0,216.0,214.0,213.0,210.0,217.0,210.0,221.0,209.0,222.0,218.0,215.0,213.0,215.0,215.0,215.0,216.0,215.0,210.0,220.0,222.0,209.0,207.0,230.0,220.0,220.0,213.0,219.0,208.0,208.0,208.0,225.0,210.0,216.0,222.0,217.0,210.0,225.0,213.0,215.0,210.0,220.0,210.0,225.0,217.0,220.0,208.0,220.0,208.0,224.0,208.0,221.0,214.0,231.0,219.0,230.0,214.0,229.0,220.0,223.0,216.0,221.0,221.0,217.0,216.0,230.0,209.0,220.0,215.0,223.0,212.0,221.0,212.0,224.0,212.0,228.0,218.0,218.0,212.0,230.0,218.0,228.0,212.0,224.0,214.0,226.0,216.0,222.0,203.0,225.0,219.0,228.0,215.0,228.0,216.0,215.0,210.0,219.0,208.0,209.0,216.0,229.0,213.0,230.0,217.0,230.0,217.0,222.0,214.0,null,215.0,222.0,212.0,213.0],\"yaxis\":\"y\"},{\"hovertemplate\":\"Species=%{x}<br>Flipper Length (mm)=%{y}<extra></extra>\",\"legendgroup\":\"Chinstrap penguin (Pygoscelis antarctica)\",\"marker\":{\"color\":\"#00cc96\",\"symbol\":\"circle\"},\"mode\":\"markers\",\"name\":\"Chinstrap penguin (Pygoscelis antarctica)\",\"orientation\":\"v\",\"showlegend\":true,\"type\":\"scatter\",\"x\":[\"Chinstrap penguin (Pygoscelis antarctica)\",\"Chinstrap penguin (Pygoscelis antarctica)\",\"Chinstrap penguin (Pygoscelis antarctica)\",\"Chinstrap penguin (Pygoscelis antarctica)\",\"Chinstrap penguin (Pygoscelis antarctica)\",\"Chinstrap penguin (Pygoscelis antarctica)\",\"Chinstrap penguin (Pygoscelis antarctica)\",\"Chinstrap penguin (Pygoscelis antarctica)\",\"Chinstrap penguin (Pygoscelis antarctica)\",\"Chinstrap penguin (Pygoscelis antarctica)\",\"Chinstrap penguin (Pygoscelis antarctica)\",\"Chinstrap penguin (Pygoscelis antarctica)\",\"Chinstrap penguin (Pygoscelis antarctica)\",\"Chinstrap penguin (Pygoscelis antarctica)\",\"Chinstrap penguin (Pygoscelis antarctica)\",\"Chinstrap penguin (Pygoscelis antarctica)\",\"Chinstrap penguin (Pygoscelis antarctica)\",\"Chinstrap penguin (Pygoscelis antarctica)\",\"Chinstrap penguin (Pygoscelis antarctica)\",\"Chinstrap penguin (Pygoscelis antarctica)\",\"Chinstrap penguin (Pygoscelis antarctica)\",\"Chinstrap penguin (Pygoscelis antarctica)\",\"Chinstrap penguin (Pygoscelis antarctica)\",\"Chinstrap penguin (Pygoscelis antarctica)\",\"Chinstrap penguin (Pygoscelis antarctica)\",\"Chinstrap penguin (Pygoscelis antarctica)\",\"Chinstrap penguin (Pygoscelis antarctica)\",\"Chinstrap penguin (Pygoscelis antarctica)\",\"Chinstrap penguin (Pygoscelis antarctica)\",\"Chinstrap penguin (Pygoscelis antarctica)\",\"Chinstrap penguin (Pygoscelis antarctica)\",\"Chinstrap penguin (Pygoscelis antarctica)\",\"Chinstrap penguin (Pygoscelis antarctica)\",\"Chinstrap penguin (Pygoscelis antarctica)\",\"Chinstrap penguin (Pygoscelis antarctica)\",\"Chinstrap penguin (Pygoscelis antarctica)\",\"Chinstrap penguin (Pygoscelis antarctica)\",\"Chinstrap penguin (Pygoscelis antarctica)\",\"Chinstrap penguin (Pygoscelis antarctica)\",\"Chinstrap penguin (Pygoscelis antarctica)\",\"Chinstrap penguin (Pygoscelis antarctica)\",\"Chinstrap penguin (Pygoscelis antarctica)\",\"Chinstrap penguin (Pygoscelis antarctica)\",\"Chinstrap penguin (Pygoscelis antarctica)\",\"Chinstrap penguin (Pygoscelis antarctica)\",\"Chinstrap penguin (Pygoscelis antarctica)\",\"Chinstrap penguin (Pygoscelis antarctica)\",\"Chinstrap penguin (Pygoscelis antarctica)\",\"Chinstrap penguin (Pygoscelis antarctica)\",\"Chinstrap penguin (Pygoscelis antarctica)\",\"Chinstrap penguin (Pygoscelis antarctica)\",\"Chinstrap penguin (Pygoscelis antarctica)\",\"Chinstrap penguin (Pygoscelis antarctica)\",\"Chinstrap penguin (Pygoscelis antarctica)\",\"Chinstrap penguin (Pygoscelis antarctica)\",\"Chinstrap penguin (Pygoscelis antarctica)\",\"Chinstrap penguin (Pygoscelis antarctica)\",\"Chinstrap penguin (Pygoscelis antarctica)\",\"Chinstrap penguin (Pygoscelis antarctica)\",\"Chinstrap penguin (Pygoscelis antarctica)\",\"Chinstrap penguin (Pygoscelis antarctica)\",\"Chinstrap penguin (Pygoscelis antarctica)\",\"Chinstrap penguin (Pygoscelis antarctica)\",\"Chinstrap penguin (Pygoscelis antarctica)\",\"Chinstrap penguin (Pygoscelis antarctica)\",\"Chinstrap penguin (Pygoscelis antarctica)\",\"Chinstrap penguin (Pygoscelis antarctica)\",\"Chinstrap penguin (Pygoscelis antarctica)\"],\"xaxis\":\"x\",\"y\":[192.0,196.0,193.0,188.0,197.0,198.0,178.0,197.0,195.0,198.0,193.0,194.0,185.0,201.0,190.0,201.0,197.0,181.0,190.0,195.0,181.0,191.0,187.0,193.0,195.0,197.0,200.0,200.0,191.0,205.0,187.0,201.0,187.0,203.0,195.0,199.0,195.0,210.0,192.0,205.0,210.0,187.0,196.0,196.0,196.0,201.0,190.0,212.0,187.0,198.0,199.0,201.0,193.0,203.0,187.0,197.0,191.0,203.0,202.0,194.0,206.0,189.0,195.0,207.0,202.0,193.0,210.0,198.0],\"yaxis\":\"y\"}],                        {\"legend\":{\"title\":{\"text\":\"Species\"},\"tracegroupgap\":0},\"margin\":{\"t\":60},\"template\":{\"data\":{\"bar\":[{\"error_x\":{\"color\":\"#2a3f5f\"},\"error_y\":{\"color\":\"#2a3f5f\"},\"marker\":{\"line\":{\"color\":\"#E5ECF6\",\"width\":0.5},\"pattern\":{\"fillmode\":\"overlay\",\"size\":10,\"solidity\":0.2}},\"type\":\"bar\"}],\"barpolar\":[{\"marker\":{\"line\":{\"color\":\"#E5ECF6\",\"width\":0.5},\"pattern\":{\"fillmode\":\"overlay\",\"size\":10,\"solidity\":0.2}},\"type\":\"barpolar\"}],\"carpet\":[{\"aaxis\":{\"endlinecolor\":\"#2a3f5f\",\"gridcolor\":\"white\",\"linecolor\":\"white\",\"minorgridcolor\":\"white\",\"startlinecolor\":\"#2a3f5f\"},\"baxis\":{\"endlinecolor\":\"#2a3f5f\",\"gridcolor\":\"white\",\"linecolor\":\"white\",\"minorgridcolor\":\"white\",\"startlinecolor\":\"#2a3f5f\"},\"type\":\"carpet\"}],\"choropleth\":[{\"colorbar\":{\"outlinewidth\":0,\"ticks\":\"\"},\"type\":\"choropleth\"}],\"contour\":[{\"colorbar\":{\"outlinewidth\":0,\"ticks\":\"\"},\"colorscale\":[[0.0,\"#0d0887\"],[0.1111111111111111,\"#46039f\"],[0.2222222222222222,\"#7201a8\"],[0.3333333333333333,\"#9c179e\"],[0.4444444444444444,\"#bd3786\"],[0.5555555555555556,\"#d8576b\"],[0.6666666666666666,\"#ed7953\"],[0.7777777777777778,\"#fb9f3a\"],[0.8888888888888888,\"#fdca26\"],[1.0,\"#f0f921\"]],\"type\":\"contour\"}],\"contourcarpet\":[{\"colorbar\":{\"outlinewidth\":0,\"ticks\":\"\"},\"type\":\"contourcarpet\"}],\"heatmap\":[{\"colorbar\":{\"outlinewidth\":0,\"ticks\":\"\"},\"colorscale\":[[0.0,\"#0d0887\"],[0.1111111111111111,\"#46039f\"],[0.2222222222222222,\"#7201a8\"],[0.3333333333333333,\"#9c179e\"],[0.4444444444444444,\"#bd3786\"],[0.5555555555555556,\"#d8576b\"],[0.6666666666666666,\"#ed7953\"],[0.7777777777777778,\"#fb9f3a\"],[0.8888888888888888,\"#fdca26\"],[1.0,\"#f0f921\"]],\"type\":\"heatmap\"}],\"heatmapgl\":[{\"colorbar\":{\"outlinewidth\":0,\"ticks\":\"\"},\"colorscale\":[[0.0,\"#0d0887\"],[0.1111111111111111,\"#46039f\"],[0.2222222222222222,\"#7201a8\"],[0.3333333333333333,\"#9c179e\"],[0.4444444444444444,\"#bd3786\"],[0.5555555555555556,\"#d8576b\"],[0.6666666666666666,\"#ed7953\"],[0.7777777777777778,\"#fb9f3a\"],[0.8888888888888888,\"#fdca26\"],[1.0,\"#f0f921\"]],\"type\":\"heatmapgl\"}],\"histogram\":[{\"marker\":{\"pattern\":{\"fillmode\":\"overlay\",\"size\":10,\"solidity\":0.2}},\"type\":\"histogram\"}],\"histogram2d\":[{\"colorbar\":{\"outlinewidth\":0,\"ticks\":\"\"},\"colorscale\":[[0.0,\"#0d0887\"],[0.1111111111111111,\"#46039f\"],[0.2222222222222222,\"#7201a8\"],[0.3333333333333333,\"#9c179e\"],[0.4444444444444444,\"#bd3786\"],[0.5555555555555556,\"#d8576b\"],[0.6666666666666666,\"#ed7953\"],[0.7777777777777778,\"#fb9f3a\"],[0.8888888888888888,\"#fdca26\"],[1.0,\"#f0f921\"]],\"type\":\"histogram2d\"}],\"histogram2dcontour\":[{\"colorbar\":{\"outlinewidth\":0,\"ticks\":\"\"},\"colorscale\":[[0.0,\"#0d0887\"],[0.1111111111111111,\"#46039f\"],[0.2222222222222222,\"#7201a8\"],[0.3333333333333333,\"#9c179e\"],[0.4444444444444444,\"#bd3786\"],[0.5555555555555556,\"#d8576b\"],[0.6666666666666666,\"#ed7953\"],[0.7777777777777778,\"#fb9f3a\"],[0.8888888888888888,\"#fdca26\"],[1.0,\"#f0f921\"]],\"type\":\"histogram2dcontour\"}],\"mesh3d\":[{\"colorbar\":{\"outlinewidth\":0,\"ticks\":\"\"},\"type\":\"mesh3d\"}],\"parcoords\":[{\"line\":{\"colorbar\":{\"outlinewidth\":0,\"ticks\":\"\"}},\"type\":\"parcoords\"}],\"pie\":[{\"automargin\":true,\"type\":\"pie\"}],\"scatter\":[{\"marker\":{\"colorbar\":{\"outlinewidth\":0,\"ticks\":\"\"}},\"type\":\"scatter\"}],\"scatter3d\":[{\"line\":{\"colorbar\":{\"outlinewidth\":0,\"ticks\":\"\"}},\"marker\":{\"colorbar\":{\"outlinewidth\":0,\"ticks\":\"\"}},\"type\":\"scatter3d\"}],\"scattercarpet\":[{\"marker\":{\"colorbar\":{\"outlinewidth\":0,\"ticks\":\"\"}},\"type\":\"scattercarpet\"}],\"scattergeo\":[{\"marker\":{\"colorbar\":{\"outlinewidth\":0,\"ticks\":\"\"}},\"type\":\"scattergeo\"}],\"scattergl\":[{\"marker\":{\"colorbar\":{\"outlinewidth\":0,\"ticks\":\"\"}},\"type\":\"scattergl\"}],\"scattermapbox\":[{\"marker\":{\"colorbar\":{\"outlinewidth\":0,\"ticks\":\"\"}},\"type\":\"scattermapbox\"}],\"scatterpolar\":[{\"marker\":{\"colorbar\":{\"outlinewidth\":0,\"ticks\":\"\"}},\"type\":\"scatterpolar\"}],\"scatterpolargl\":[{\"marker\":{\"colorbar\":{\"outlinewidth\":0,\"ticks\":\"\"}},\"type\":\"scatterpolargl\"}],\"scatterternary\":[{\"marker\":{\"colorbar\":{\"outlinewidth\":0,\"ticks\":\"\"}},\"type\":\"scatterternary\"}],\"surface\":[{\"colorbar\":{\"outlinewidth\":0,\"ticks\":\"\"},\"colorscale\":[[0.0,\"#0d0887\"],[0.1111111111111111,\"#46039f\"],[0.2222222222222222,\"#7201a8\"],[0.3333333333333333,\"#9c179e\"],[0.4444444444444444,\"#bd3786\"],[0.5555555555555556,\"#d8576b\"],[0.6666666666666666,\"#ed7953\"],[0.7777777777777778,\"#fb9f3a\"],[0.8888888888888888,\"#fdca26\"],[1.0,\"#f0f921\"]],\"type\":\"surface\"}],\"table\":[{\"cells\":{\"fill\":{\"color\":\"#EBF0F8\"},\"line\":{\"color\":\"white\"}},\"header\":{\"fill\":{\"color\":\"#C8D4E3\"},\"line\":{\"color\":\"white\"}},\"type\":\"table\"}]},\"layout\":{\"annotationdefaults\":{\"arrowcolor\":\"#2a3f5f\",\"arrowhead\":0,\"arrowwidth\":1},\"autotypenumbers\":\"strict\",\"coloraxis\":{\"colorbar\":{\"outlinewidth\":0,\"ticks\":\"\"}},\"colorscale\":{\"diverging\":[[0,\"#8e0152\"],[0.1,\"#c51b7d\"],[0.2,\"#de77ae\"],[0.3,\"#f1b6da\"],[0.4,\"#fde0ef\"],[0.5,\"#f7f7f7\"],[0.6,\"#e6f5d0\"],[0.7,\"#b8e186\"],[0.8,\"#7fbc41\"],[0.9,\"#4d9221\"],[1,\"#276419\"]],\"sequential\":[[0.0,\"#0d0887\"],[0.1111111111111111,\"#46039f\"],[0.2222222222222222,\"#7201a8\"],[0.3333333333333333,\"#9c179e\"],[0.4444444444444444,\"#bd3786\"],[0.5555555555555556,\"#d8576b\"],[0.6666666666666666,\"#ed7953\"],[0.7777777777777778,\"#fb9f3a\"],[0.8888888888888888,\"#fdca26\"],[1.0,\"#f0f921\"]],\"sequentialminus\":[[0.0,\"#0d0887\"],[0.1111111111111111,\"#46039f\"],[0.2222222222222222,\"#7201a8\"],[0.3333333333333333,\"#9c179e\"],[0.4444444444444444,\"#bd3786\"],[0.5555555555555556,\"#d8576b\"],[0.6666666666666666,\"#ed7953\"],[0.7777777777777778,\"#fb9f3a\"],[0.8888888888888888,\"#fdca26\"],[1.0,\"#f0f921\"]]},\"colorway\":[\"#636efa\",\"#EF553B\",\"#00cc96\",\"#ab63fa\",\"#FFA15A\",\"#19d3f3\",\"#FF6692\",\"#B6E880\",\"#FF97FF\",\"#FECB52\"],\"font\":{\"color\":\"#2a3f5f\"},\"geo\":{\"bgcolor\":\"white\",\"lakecolor\":\"white\",\"landcolor\":\"#E5ECF6\",\"showlakes\":true,\"showland\":true,\"subunitcolor\":\"white\"},\"hoverlabel\":{\"align\":\"left\"},\"hovermode\":\"closest\",\"mapbox\":{\"style\":\"light\"},\"paper_bgcolor\":\"white\",\"plot_bgcolor\":\"#E5ECF6\",\"polar\":{\"angularaxis\":{\"gridcolor\":\"white\",\"linecolor\":\"white\",\"ticks\":\"\"},\"bgcolor\":\"#E5ECF6\",\"radialaxis\":{\"gridcolor\":\"white\",\"linecolor\":\"white\",\"ticks\":\"\"}},\"scene\":{\"xaxis\":{\"backgroundcolor\":\"#E5ECF6\",\"gridcolor\":\"white\",\"gridwidth\":2,\"linecolor\":\"white\",\"showbackground\":true,\"ticks\":\"\",\"zerolinecolor\":\"white\"},\"yaxis\":{\"backgroundcolor\":\"#E5ECF6\",\"gridcolor\":\"white\",\"gridwidth\":2,\"linecolor\":\"white\",\"showbackground\":true,\"ticks\":\"\",\"zerolinecolor\":\"white\"},\"zaxis\":{\"backgroundcolor\":\"#E5ECF6\",\"gridcolor\":\"white\",\"gridwidth\":2,\"linecolor\":\"white\",\"showbackground\":true,\"ticks\":\"\",\"zerolinecolor\":\"white\"}},\"shapedefaults\":{\"line\":{\"color\":\"#2a3f5f\"}},\"ternary\":{\"aaxis\":{\"gridcolor\":\"white\",\"linecolor\":\"white\",\"ticks\":\"\"},\"baxis\":{\"gridcolor\":\"white\",\"linecolor\":\"white\",\"ticks\":\"\"},\"bgcolor\":\"#E5ECF6\",\"caxis\":{\"gridcolor\":\"white\",\"linecolor\":\"white\",\"ticks\":\"\"}},\"title\":{\"x\":0.05},\"xaxis\":{\"automargin\":true,\"gridcolor\":\"white\",\"linecolor\":\"white\",\"ticks\":\"\",\"title\":{\"standoff\":15},\"zerolinecolor\":\"white\",\"zerolinewidth\":2},\"yaxis\":{\"automargin\":true,\"gridcolor\":\"white\",\"linecolor\":\"white\",\"ticks\":\"\",\"title\":{\"standoff\":15},\"zerolinecolor\":\"white\",\"zerolinewidth\":2}}},\"updatemenus\":[{\"active\":0,\"buttons\":[{\"args\":[{\"type\":\"scatter\"}],\"label\":\"Scatterplot\",\"method\":\"update\"},{\"args\":[{\"mode\":\"markers\",\"type\":\"box\"}],\"label\":\"Boxplot\",\"method\":\"update\"}],\"direction\":\"down\",\"showactive\":true,\"type\":\"buttons\",\"x\":1.3,\"y\":0.5}],\"xaxis\":{\"anchor\":\"y\",\"categoryarray\":[\"Adelie Penguin (Pygoscelis adeliae)\",\"Gentoo penguin (Pygoscelis papua)\",\"Chinstrap penguin (Pygoscelis antarctica)\"],\"categoryorder\":\"array\",\"domain\":[0.0,1.0],\"title\":{\"text\":\"Species\"}},\"yaxis\":{\"anchor\":\"x\",\"domain\":[0.0,1.0],\"title\":{\"text\":\"Flipper Length (mm)\"}}},                        {\"responsive\": true}                    ).then(function(){\n",
       "                            \n",
       "var gd = document.getElementById('f3289645-0fb1-4a91-8bf5-d22754a18ba5');\n",
       "var x = new MutationObserver(function (mutations, observer) {{\n",
       "        var display = window.getComputedStyle(gd).display;\n",
       "        if (!display || display === 'none') {{\n",
       "            console.log([gd, 'removed!']);\n",
       "            Plotly.purge(gd);\n",
       "            observer.disconnect();\n",
       "        }}\n",
       "}});\n",
       "\n",
       "// Listen for the removal of the full notebook cells\n",
       "var notebookContainer = gd.closest('#notebook-container');\n",
       "if (notebookContainer) {{\n",
       "    x.observe(notebookContainer, {childList: true});\n",
       "}}\n",
       "\n",
       "// Listen for the clearing of the current output cell\n",
       "var outputEl = gd.closest('.output');\n",
       "if (outputEl) {{\n",
       "    x.observe(outputEl, {childList: true});\n",
       "}}\n",
       "\n",
       "                        })                };                });            </script>        </div>"
      ]
     },
     "metadata": {},
     "output_type": "display_data"
    }
   ],
   "source": [
    "fig = px.scatter(data_frame=penguins, x='Species', y='Flipper Length (mm)', color='Species')\n",
    "\n",
    "my_buttons = [{'label': \"Scatterplot\", 'method': \"update\", 'args': [{\"type\": 'scatter'}]},\n",
    "  {'label': \"Boxplot\", 'method': \"update\", 'args': [{\"type\": 'box', 'mode': 'markers'}]}]\n",
    "\n",
    "fig.update_layout({\n",
    "    'updatemenus': [{\n",
    "      'type':'buttons','direction': 'down',\n",
    "      'x': 1.3,'y': 0.5,\n",
    "      'showactive': True, 'active': 0,\n",
    "      'buttons': my_buttons}]})\n",
    "fig.show()"
   ]
  },
  {
   "cell_type": "markdown",
   "id": "92336d85",
   "metadata": {},
   "source": [
    "#### Relation between weight and flipperlength"
   ]
  },
  {
   "cell_type": "code",
   "execution_count": 85,
   "id": "d90bc3db",
   "metadata": {},
   "outputs": [
    {
     "data": {
      "application/vnd.plotly.v1+json": {
       "config": {
        "plotlyServerURL": "https://plot.ly"
       },
       "data": [
        {
         "hovertemplate": "Species=Adelie Penguin (Pygoscelis adeliae)<br>Body Mass (g)=%{x}<br>Flipper Length (mm)=%{y}<extra></extra>",
         "legendgroup": "Adelie Penguin (Pygoscelis adeliae)",
         "marker": {
          "color": "#636efa",
          "symbol": "circle"
         },
         "mode": "markers",
         "name": "Adelie Penguin (Pygoscelis adeliae)",
         "orientation": "v",
         "showlegend": true,
         "type": "scatter",
         "x": [
          3750,
          3800,
          3250,
          null,
          3450,
          3650,
          3625,
          4675,
          3475,
          4250,
          3300,
          3700,
          3200,
          3800,
          4400,
          3700,
          3450,
          4500,
          3325,
          4200,
          3400,
          3600,
          3800,
          3950,
          3800,
          3800,
          3550,
          3200,
          3150,
          3950,
          3250,
          3900,
          3300,
          3900,
          3325,
          4150,
          3950,
          3550,
          3300,
          4650,
          3150,
          3900,
          3100,
          4400,
          3000,
          4600,
          3425,
          2975,
          3450,
          4150,
          3500,
          4300,
          3450,
          4050,
          2900,
          3700,
          3550,
          3800,
          2850,
          3750,
          3150,
          4400,
          3600,
          4050,
          2850,
          3950,
          3350,
          4100,
          3050,
          4450,
          3600,
          3900,
          3550,
          4150,
          3700,
          4250,
          3700,
          3900,
          3550,
          4000,
          3200,
          4700,
          3800,
          4200,
          3350,
          3550,
          3800,
          3500,
          3950,
          3600,
          3550,
          4300,
          3400,
          4450,
          3300,
          4300,
          3700,
          4350,
          2900,
          4100,
          3725,
          4725,
          3075,
          4250,
          2925,
          3550,
          3750,
          3900,
          3175,
          4775,
          3825,
          4600,
          3200,
          4275,
          3900,
          4075,
          2900,
          3775,
          3350,
          3325,
          3150,
          3500,
          3450,
          3875,
          3050,
          4000,
          3275,
          4300,
          3050,
          4000,
          3325,
          3500,
          3500,
          4475,
          3425,
          3900,
          3175,
          3975,
          3400,
          4250,
          3400,
          3475,
          3050,
          3725,
          3000,
          3650,
          4250,
          3475,
          3450,
          3750,
          3700,
          4000
         ],
         "xaxis": "x",
         "y": [
          181,
          186,
          195,
          null,
          193,
          190,
          181,
          195,
          193,
          190,
          186,
          180,
          182,
          191,
          198,
          185,
          195,
          197,
          184,
          194,
          174,
          180,
          189,
          185,
          180,
          187,
          183,
          187,
          172,
          180,
          178,
          178,
          188,
          184,
          195,
          196,
          190,
          180,
          181,
          184,
          182,
          195,
          186,
          196,
          185,
          190,
          182,
          179,
          190,
          191,
          186,
          188,
          190,
          200,
          187,
          191,
          186,
          193,
          181,
          194,
          185,
          195,
          185,
          192,
          184,
          192,
          195,
          188,
          190,
          198,
          190,
          190,
          196,
          197,
          190,
          195,
          191,
          184,
          187,
          195,
          189,
          196,
          187,
          193,
          191,
          194,
          190,
          189,
          189,
          190,
          202,
          205,
          185,
          186,
          187,
          208,
          190,
          196,
          178,
          192,
          192,
          203,
          183,
          190,
          193,
          184,
          199,
          190,
          181,
          197,
          198,
          191,
          193,
          197,
          191,
          196,
          188,
          199,
          189,
          189,
          187,
          198,
          176,
          202,
          186,
          199,
          191,
          195,
          191,
          210,
          190,
          197,
          193,
          199,
          187,
          190,
          191,
          200,
          185,
          193,
          193,
          187,
          188,
          190,
          192,
          185,
          190,
          184,
          195,
          193,
          187,
          201
         ],
         "yaxis": "y"
        },
        {
         "hovertemplate": "<b>OLS trendline</b><br>Flipper Length (mm) = 0.00667687 * Body Mass (g) + 165.245<br>R<sup>2</sup>=0.219213<br><br>Species=Adelie Penguin (Pygoscelis adeliae)<br>Body Mass (g)=%{x}<br>Flipper Length (mm)=%{y} <b>(trend)</b><extra></extra>",
         "legendgroup": "Adelie Penguin (Pygoscelis adeliae)",
         "marker": {
          "color": "#636efa",
          "symbol": "circle"
         },
         "mode": "lines",
         "name": "Adelie Penguin (Pygoscelis adeliae)",
         "showlegend": false,
         "type": "scatter",
         "x": [
          2850,
          2850,
          2900,
          2900,
          2900,
          2925,
          2975,
          3000,
          3000,
          3050,
          3050,
          3050,
          3050,
          3075,
          3100,
          3150,
          3150,
          3150,
          3150,
          3175,
          3175,
          3200,
          3200,
          3200,
          3200,
          3250,
          3250,
          3275,
          3300,
          3300,
          3300,
          3300,
          3325,
          3325,
          3325,
          3325,
          3350,
          3350,
          3350,
          3400,
          3400,
          3400,
          3400,
          3425,
          3425,
          3450,
          3450,
          3450,
          3450,
          3450,
          3450,
          3475,
          3475,
          3475,
          3500,
          3500,
          3500,
          3500,
          3500,
          3550,
          3550,
          3550,
          3550,
          3550,
          3550,
          3550,
          3550,
          3600,
          3600,
          3600,
          3600,
          3625,
          3650,
          3650,
          3700,
          3700,
          3700,
          3700,
          3700,
          3700,
          3700,
          3725,
          3725,
          3750,
          3750,
          3750,
          3750,
          3775,
          3800,
          3800,
          3800,
          3800,
          3800,
          3800,
          3800,
          3800,
          3825,
          3875,
          3900,
          3900,
          3900,
          3900,
          3900,
          3900,
          3900,
          3900,
          3950,
          3950,
          3950,
          3950,
          3950,
          3975,
          4000,
          4000,
          4000,
          4000,
          4050,
          4050,
          4075,
          4100,
          4100,
          4150,
          4150,
          4150,
          4200,
          4200,
          4250,
          4250,
          4250,
          4250,
          4250,
          4275,
          4300,
          4300,
          4300,
          4300,
          4350,
          4400,
          4400,
          4400,
          4450,
          4450,
          4475,
          4500,
          4600,
          4600,
          4650,
          4675,
          4700,
          4725,
          4775
         ],
         "xaxis": "x",
         "y": [
          184.27388365194997,
          184.27388365194997,
          184.60772700288635,
          184.60772700288635,
          184.60772700288635,
          184.77464867835454,
          185.10849202929091,
          185.2754137047591,
          185.2754137047591,
          185.60925705569545,
          185.60925705569545,
          185.60925705569545,
          185.60925705569545,
          185.77617873116364,
          185.94310040663183,
          186.2769437575682,
          186.2769437575682,
          186.2769437575682,
          186.2769437575682,
          186.4438654330364,
          186.4438654330364,
          186.61078710850458,
          186.61078710850458,
          186.61078710850458,
          186.61078710850458,
          186.94463045944096,
          186.94463045944096,
          187.11155213490915,
          187.27847381037733,
          187.27847381037733,
          187.27847381037733,
          187.27847381037733,
          187.44539548584552,
          187.44539548584552,
          187.44539548584552,
          187.44539548584552,
          187.6123171613137,
          187.6123171613137,
          187.6123171613137,
          187.9461605122501,
          187.9461605122501,
          187.9461605122501,
          187.9461605122501,
          188.11308218771828,
          188.11308218771828,
          188.28000386318647,
          188.28000386318647,
          188.28000386318647,
          188.28000386318647,
          188.28000386318647,
          188.28000386318647,
          188.44692553865465,
          188.44692553865465,
          188.44692553865465,
          188.61384721412284,
          188.61384721412284,
          188.61384721412284,
          188.61384721412284,
          188.61384721412284,
          188.94769056505922,
          188.94769056505922,
          188.94769056505922,
          188.94769056505922,
          188.94769056505922,
          188.94769056505922,
          188.94769056505922,
          188.94769056505922,
          189.2815339159956,
          189.2815339159956,
          189.2815339159956,
          189.2815339159956,
          189.44845559146378,
          189.61537726693197,
          189.61537726693197,
          189.94922061786835,
          189.94922061786835,
          189.94922061786835,
          189.94922061786835,
          189.94922061786835,
          189.94922061786835,
          189.94922061786835,
          190.11614229333654,
          190.11614229333654,
          190.28306396880473,
          190.28306396880473,
          190.28306396880473,
          190.28306396880473,
          190.4499856442729,
          190.6169073197411,
          190.6169073197411,
          190.6169073197411,
          190.6169073197411,
          190.6169073197411,
          190.6169073197411,
          190.6169073197411,
          190.6169073197411,
          190.7838289952093,
          191.11767234614567,
          191.28459402161386,
          191.28459402161386,
          191.28459402161386,
          191.28459402161386,
          191.28459402161386,
          191.28459402161386,
          191.28459402161386,
          191.28459402161386,
          191.61843737255023,
          191.61843737255023,
          191.61843737255023,
          191.61843737255023,
          191.61843737255023,
          191.78535904801842,
          191.9522807234866,
          191.9522807234866,
          191.9522807234866,
          191.9522807234866,
          192.286124074423,
          192.286124074423,
          192.45304574989117,
          192.61996742535936,
          192.61996742535936,
          192.95381077629574,
          192.95381077629574,
          192.95381077629574,
          193.28765412723212,
          193.28765412723212,
          193.6214974781685,
          193.6214974781685,
          193.6214974781685,
          193.6214974781685,
          193.6214974781685,
          193.78841915363668,
          193.95534082910487,
          193.95534082910487,
          193.95534082910487,
          193.95534082910487,
          194.28918418004125,
          194.62302753097762,
          194.62302753097762,
          194.62302753097762,
          194.956870881914,
          194.956870881914,
          195.1237925573822,
          195.29071423285038,
          195.95840093472313,
          195.95840093472313,
          196.2922442856595,
          196.4591659611277,
          196.62608763659588,
          196.79300931206407,
          197.12685266300045
         ],
         "yaxis": "y"
        },
        {
         "hovertemplate": "Species=Gentoo penguin (Pygoscelis papua)<br>Body Mass (g)=%{x}<br>Flipper Length (mm)=%{y}<extra></extra>",
         "legendgroup": "Gentoo penguin (Pygoscelis papua)",
         "marker": {
          "color": "#EF553B",
          "symbol": "circle"
         },
         "mode": "markers",
         "name": "Gentoo penguin (Pygoscelis papua)",
         "orientation": "v",
         "showlegend": true,
         "type": "scatter",
         "x": [
          4500,
          5700,
          4450,
          5700,
          5400,
          4550,
          4800,
          5200,
          4400,
          5150,
          4650,
          5550,
          4650,
          5850,
          4200,
          5850,
          4150,
          6300,
          4800,
          5350,
          5700,
          5000,
          4400,
          5050,
          5000,
          5100,
          4100,
          5650,
          4600,
          5550,
          5250,
          4700,
          5050,
          6050,
          5150,
          5400,
          4950,
          5250,
          4350,
          5350,
          3950,
          5700,
          4300,
          4750,
          5550,
          4900,
          4200,
          5400,
          5100,
          5300,
          4850,
          5300,
          4400,
          5000,
          4900,
          5050,
          4300,
          5000,
          4450,
          5550,
          4200,
          5300,
          4400,
          5650,
          4700,
          5700,
          4650,
          5800,
          4700,
          5550,
          4750,
          5000,
          5100,
          5200,
          4700,
          5800,
          4600,
          6000,
          4750,
          5950,
          4625,
          5450,
          4725,
          5350,
          4750,
          5600,
          4600,
          5300,
          4875,
          5550,
          4950,
          5400,
          4750,
          5650,
          4850,
          5200,
          4925,
          4875,
          4625,
          5250,
          4850,
          5600,
          4975,
          5500,
          4725,
          5500,
          4700,
          5500,
          4575,
          5500,
          5000,
          5950,
          4650,
          5500,
          4375,
          5850,
          4875,
          6000,
          4925,
          null,
          4850,
          5750,
          5200,
          5400
         ],
         "xaxis": "x",
         "y": [
          211,
          230,
          210,
          218,
          215,
          210,
          211,
          219,
          209,
          215,
          214,
          216,
          214,
          213,
          210,
          217,
          210,
          221,
          209,
          222,
          218,
          215,
          213,
          215,
          215,
          215,
          216,
          215,
          210,
          220,
          222,
          209,
          207,
          230,
          220,
          220,
          213,
          219,
          208,
          208,
          208,
          225,
          210,
          216,
          222,
          217,
          210,
          225,
          213,
          215,
          210,
          220,
          210,
          225,
          217,
          220,
          208,
          220,
          208,
          224,
          208,
          221,
          214,
          231,
          219,
          230,
          214,
          229,
          220,
          223,
          216,
          221,
          221,
          217,
          216,
          230,
          209,
          220,
          215,
          223,
          212,
          221,
          212,
          224,
          212,
          228,
          218,
          218,
          212,
          230,
          218,
          228,
          212,
          224,
          214,
          226,
          216,
          222,
          203,
          225,
          219,
          228,
          215,
          228,
          216,
          215,
          210,
          219,
          208,
          209,
          216,
          229,
          213,
          230,
          217,
          230,
          217,
          222,
          214,
          null,
          215,
          222,
          212,
          213
         ],
         "yaxis": "y"
        },
        {
         "hovertemplate": "<b>OLS trendline</b><br>Flipper Length (mm) = 0.00903914 * Body Mass (g) + 171.304<br>R<sup>2</sup>=0.493740<br><br>Species=Gentoo penguin (Pygoscelis papua)<br>Body Mass (g)=%{x}<br>Flipper Length (mm)=%{y} <b>(trend)</b><extra></extra>",
         "legendgroup": "Gentoo penguin (Pygoscelis papua)",
         "marker": {
          "color": "#EF553B",
          "symbol": "circle"
         },
         "mode": "lines",
         "name": "Gentoo penguin (Pygoscelis papua)",
         "showlegend": false,
         "type": "scatter",
         "x": [
          3950,
          4100,
          4150,
          4200,
          4200,
          4200,
          4300,
          4300,
          4350,
          4375,
          4400,
          4400,
          4400,
          4400,
          4450,
          4450,
          4500,
          4550,
          4575,
          4600,
          4600,
          4600,
          4625,
          4625,
          4650,
          4650,
          4650,
          4650,
          4700,
          4700,
          4700,
          4700,
          4700,
          4725,
          4725,
          4750,
          4750,
          4750,
          4750,
          4750,
          4800,
          4800,
          4850,
          4850,
          4850,
          4850,
          4875,
          4875,
          4875,
          4900,
          4900,
          4925,
          4925,
          4950,
          4950,
          4975,
          5000,
          5000,
          5000,
          5000,
          5000,
          5000,
          5050,
          5050,
          5050,
          5100,
          5100,
          5100,
          5150,
          5150,
          5200,
          5200,
          5200,
          5200,
          5250,
          5250,
          5250,
          5300,
          5300,
          5300,
          5300,
          5350,
          5350,
          5350,
          5400,
          5400,
          5400,
          5400,
          5400,
          5450,
          5500,
          5500,
          5500,
          5500,
          5500,
          5550,
          5550,
          5550,
          5550,
          5550,
          5550,
          5600,
          5600,
          5650,
          5650,
          5650,
          5700,
          5700,
          5700,
          5700,
          5700,
          5750,
          5800,
          5800,
          5850,
          5850,
          5850,
          5950,
          5950,
          6000,
          6000,
          6050,
          6300
         ],
         "xaxis": "x",
         "y": [
          207.00877731808347,
          208.3646477764327,
          208.81660459588244,
          209.26856141533216,
          209.26856141533216,
          209.26856141533216,
          210.17247505423163,
          210.17247505423163,
          210.62443187368137,
          210.85041028340623,
          211.0763886931311,
          211.0763886931311,
          211.0763886931311,
          211.0763886931311,
          211.5283455125808,
          211.5283455125808,
          211.98030233203056,
          212.4322591514803,
          212.65823756120517,
          212.88421597093003,
          212.88421597093003,
          212.88421597093003,
          213.1101943806549,
          213.1101943806549,
          213.33617279037978,
          213.33617279037978,
          213.33617279037978,
          213.33617279037978,
          213.7881296098295,
          213.7881296098295,
          213.7881296098295,
          213.7881296098295,
          213.7881296098295,
          214.01410801955439,
          214.01410801955439,
          214.24008642927924,
          214.24008642927924,
          214.24008642927924,
          214.24008642927924,
          214.24008642927924,
          214.69204324872896,
          214.69204324872896,
          215.1440000681787,
          215.1440000681787,
          215.1440000681787,
          215.1440000681787,
          215.36997847790357,
          215.36997847790357,
          215.36997847790357,
          215.59595688762846,
          215.59595688762846,
          215.82193529735332,
          215.82193529735332,
          216.04791370707818,
          216.04791370707818,
          216.27389211680304,
          216.4998705265279,
          216.4998705265279,
          216.4998705265279,
          216.4998705265279,
          216.4998705265279,
          216.4998705265279,
          216.95182734597765,
          216.95182734597765,
          216.95182734597765,
          217.4037841654274,
          217.4037841654274,
          217.4037841654274,
          217.85574098487712,
          217.85574098487712,
          218.30769780432686,
          218.30769780432686,
          218.30769780432686,
          218.30769780432686,
          218.75965462377658,
          218.75965462377658,
          218.75965462377658,
          219.21161144322633,
          219.21161144322633,
          219.21161144322633,
          219.21161144322633,
          219.66356826267605,
          219.66356826267605,
          219.66356826267605,
          220.1155250821258,
          220.1155250821258,
          220.1155250821258,
          220.1155250821258,
          220.1155250821258,
          220.56748190157552,
          221.01943872102527,
          221.01943872102527,
          221.01943872102527,
          221.01943872102527,
          221.01943872102527,
          221.471395540475,
          221.471395540475,
          221.471395540475,
          221.471395540475,
          221.471395540475,
          221.471395540475,
          221.92335235992473,
          221.92335235992473,
          222.37530917937448,
          222.37530917937448,
          222.37530917937448,
          222.8272659988242,
          222.8272659988242,
          222.8272659988242,
          222.8272659988242,
          222.8272659988242,
          223.27922281827392,
          223.73117963772367,
          223.73117963772367,
          224.18313645717342,
          224.18313645717342,
          224.18313645717342,
          225.0870500960729,
          225.0870500960729,
          225.5390069155226,
          225.5390069155226,
          225.99096373497235,
          228.250747832221
         ],
         "yaxis": "y"
        },
        {
         "hovertemplate": "Species=Chinstrap penguin (Pygoscelis antarctica)<br>Body Mass (g)=%{x}<br>Flipper Length (mm)=%{y}<extra></extra>",
         "legendgroup": "Chinstrap penguin (Pygoscelis antarctica)",
         "marker": {
          "color": "#00cc96",
          "symbol": "circle"
         },
         "mode": "markers",
         "name": "Chinstrap penguin (Pygoscelis antarctica)",
         "orientation": "v",
         "showlegend": true,
         "type": "scatter",
         "x": [
          3500,
          3900,
          3650,
          3525,
          3725,
          3950,
          3250,
          3750,
          4150,
          3700,
          3800,
          3775,
          3700,
          4050,
          3575,
          4050,
          3300,
          3700,
          3450,
          4400,
          3600,
          3400,
          2900,
          3800,
          3300,
          4150,
          3400,
          3800,
          3700,
          4550,
          3200,
          4300,
          3350,
          4100,
          3600,
          3900,
          3850,
          4800,
          2700,
          4500,
          3950,
          3650,
          3550,
          3500,
          3675,
          4450,
          3400,
          4300,
          3250,
          3675,
          3325,
          3950,
          3600,
          4050,
          3350,
          3450,
          3250,
          4050,
          3800,
          3525,
          3950,
          3650,
          3650,
          4000,
          3400,
          3775,
          4100,
          3775
         ],
         "xaxis": "x",
         "y": [
          192,
          196,
          193,
          188,
          197,
          198,
          178,
          197,
          195,
          198,
          193,
          194,
          185,
          201,
          190,
          201,
          197,
          181,
          190,
          195,
          181,
          191,
          187,
          193,
          195,
          197,
          200,
          200,
          191,
          205,
          187,
          201,
          187,
          203,
          195,
          199,
          195,
          210,
          192,
          205,
          210,
          187,
          196,
          196,
          196,
          201,
          190,
          212,
          187,
          198,
          199,
          201,
          193,
          203,
          187,
          197,
          191,
          203,
          202,
          194,
          206,
          189,
          195,
          207,
          202,
          193,
          210,
          198
         ],
         "yaxis": "y"
        },
        {
         "hovertemplate": "<b>OLS trendline</b><br>Flipper Length (mm) = 0.0119051 * Body Mass (g) + 151.381<br>R<sup>2</sup>=0.411598<br><br>Species=Chinstrap penguin (Pygoscelis antarctica)<br>Body Mass (g)=%{x}<br>Flipper Length (mm)=%{y} <b>(trend)</b><extra></extra>",
         "legendgroup": "Chinstrap penguin (Pygoscelis antarctica)",
         "marker": {
          "color": "#00cc96",
          "symbol": "circle"
         },
         "mode": "lines",
         "name": "Chinstrap penguin (Pygoscelis antarctica)",
         "showlegend": false,
         "type": "scatter",
         "x": [
          2700,
          2900,
          3200,
          3250,
          3250,
          3250,
          3300,
          3300,
          3325,
          3350,
          3350,
          3400,
          3400,
          3400,
          3400,
          3450,
          3450,
          3500,
          3500,
          3525,
          3525,
          3550,
          3575,
          3600,
          3600,
          3600,
          3650,
          3650,
          3650,
          3650,
          3675,
          3675,
          3700,
          3700,
          3700,
          3700,
          3725,
          3750,
          3775,
          3775,
          3775,
          3800,
          3800,
          3800,
          3800,
          3850,
          3900,
          3900,
          3950,
          3950,
          3950,
          3950,
          4000,
          4050,
          4050,
          4050,
          4050,
          4100,
          4100,
          4150,
          4150,
          4300,
          4300,
          4400,
          4450,
          4500,
          4550,
          4800
         ],
         "xaxis": "x",
         "y": [
          183.52454744365565,
          185.90556032289098,
          189.47707964174398,
          190.0723328615528,
          190.0723328615528,
          190.0723328615528,
          190.66758608136166,
          190.66758608136166,
          190.96521269126606,
          191.2628393011705,
          191.2628393011705,
          191.8580925209793,
          191.8580925209793,
          191.8580925209793,
          191.8580925209793,
          192.45334574078817,
          192.45334574078817,
          193.048598960597,
          193.048598960597,
          193.34622557050142,
          193.34622557050142,
          193.64385218040582,
          193.94147879031024,
          194.23910540021467,
          194.23910540021467,
          194.23910540021467,
          194.8343586200235,
          194.8343586200235,
          194.8343586200235,
          194.8343586200235,
          195.1319852299279,
          195.1319852299279,
          195.42961183983232,
          195.42961183983232,
          195.42961183983232,
          195.42961183983232,
          195.72723844973672,
          196.02486505964114,
          196.32249166954557,
          196.32249166954557,
          196.32249166954557,
          196.62011827944997,
          196.62011827944997,
          196.62011827944997,
          196.62011827944997,
          197.21537149925882,
          197.81062471906765,
          197.81062471906765,
          198.40587793887647,
          198.40587793887647,
          198.40587793887647,
          198.40587793887647,
          199.00113115868533,
          199.59638437849415,
          199.59638437849415,
          199.59638437849415,
          199.59638437849415,
          200.19163759830298,
          200.19163759830298,
          200.78689081811183,
          200.78689081811183,
          202.57265047753833,
          202.57265047753833,
          203.76315691715598,
          204.35841013696484,
          204.95366335677366,
          205.54891657658249,
          208.52518267562664
         ],
         "yaxis": "y"
        }
       ],
       "layout": {
        "height": 600,
        "legend": {
         "title": {
          "text": "Species"
         },
         "tracegroupgap": 0
        },
        "template": {
         "data": {
          "bar": [
           {
            "error_x": {
             "color": "#2a3f5f"
            },
            "error_y": {
             "color": "#2a3f5f"
            },
            "marker": {
             "line": {
              "color": "#E5ECF6",
              "width": 0.5
             },
             "pattern": {
              "fillmode": "overlay",
              "size": 10,
              "solidity": 0.2
             }
            },
            "type": "bar"
           }
          ],
          "barpolar": [
           {
            "marker": {
             "line": {
              "color": "#E5ECF6",
              "width": 0.5
             },
             "pattern": {
              "fillmode": "overlay",
              "size": 10,
              "solidity": 0.2
             }
            },
            "type": "barpolar"
           }
          ],
          "carpet": [
           {
            "aaxis": {
             "endlinecolor": "#2a3f5f",
             "gridcolor": "white",
             "linecolor": "white",
             "minorgridcolor": "white",
             "startlinecolor": "#2a3f5f"
            },
            "baxis": {
             "endlinecolor": "#2a3f5f",
             "gridcolor": "white",
             "linecolor": "white",
             "minorgridcolor": "white",
             "startlinecolor": "#2a3f5f"
            },
            "type": "carpet"
           }
          ],
          "choropleth": [
           {
            "colorbar": {
             "outlinewidth": 0,
             "ticks": ""
            },
            "type": "choropleth"
           }
          ],
          "contour": [
           {
            "colorbar": {
             "outlinewidth": 0,
             "ticks": ""
            },
            "colorscale": [
             [
              0,
              "#0d0887"
             ],
             [
              0.1111111111111111,
              "#46039f"
             ],
             [
              0.2222222222222222,
              "#7201a8"
             ],
             [
              0.3333333333333333,
              "#9c179e"
             ],
             [
              0.4444444444444444,
              "#bd3786"
             ],
             [
              0.5555555555555556,
              "#d8576b"
             ],
             [
              0.6666666666666666,
              "#ed7953"
             ],
             [
              0.7777777777777778,
              "#fb9f3a"
             ],
             [
              0.8888888888888888,
              "#fdca26"
             ],
             [
              1,
              "#f0f921"
             ]
            ],
            "type": "contour"
           }
          ],
          "contourcarpet": [
           {
            "colorbar": {
             "outlinewidth": 0,
             "ticks": ""
            },
            "type": "contourcarpet"
           }
          ],
          "heatmap": [
           {
            "colorbar": {
             "outlinewidth": 0,
             "ticks": ""
            },
            "colorscale": [
             [
              0,
              "#0d0887"
             ],
             [
              0.1111111111111111,
              "#46039f"
             ],
             [
              0.2222222222222222,
              "#7201a8"
             ],
             [
              0.3333333333333333,
              "#9c179e"
             ],
             [
              0.4444444444444444,
              "#bd3786"
             ],
             [
              0.5555555555555556,
              "#d8576b"
             ],
             [
              0.6666666666666666,
              "#ed7953"
             ],
             [
              0.7777777777777778,
              "#fb9f3a"
             ],
             [
              0.8888888888888888,
              "#fdca26"
             ],
             [
              1,
              "#f0f921"
             ]
            ],
            "type": "heatmap"
           }
          ],
          "heatmapgl": [
           {
            "colorbar": {
             "outlinewidth": 0,
             "ticks": ""
            },
            "colorscale": [
             [
              0,
              "#0d0887"
             ],
             [
              0.1111111111111111,
              "#46039f"
             ],
             [
              0.2222222222222222,
              "#7201a8"
             ],
             [
              0.3333333333333333,
              "#9c179e"
             ],
             [
              0.4444444444444444,
              "#bd3786"
             ],
             [
              0.5555555555555556,
              "#d8576b"
             ],
             [
              0.6666666666666666,
              "#ed7953"
             ],
             [
              0.7777777777777778,
              "#fb9f3a"
             ],
             [
              0.8888888888888888,
              "#fdca26"
             ],
             [
              1,
              "#f0f921"
             ]
            ],
            "type": "heatmapgl"
           }
          ],
          "histogram": [
           {
            "marker": {
             "pattern": {
              "fillmode": "overlay",
              "size": 10,
              "solidity": 0.2
             }
            },
            "type": "histogram"
           }
          ],
          "histogram2d": [
           {
            "colorbar": {
             "outlinewidth": 0,
             "ticks": ""
            },
            "colorscale": [
             [
              0,
              "#0d0887"
             ],
             [
              0.1111111111111111,
              "#46039f"
             ],
             [
              0.2222222222222222,
              "#7201a8"
             ],
             [
              0.3333333333333333,
              "#9c179e"
             ],
             [
              0.4444444444444444,
              "#bd3786"
             ],
             [
              0.5555555555555556,
              "#d8576b"
             ],
             [
              0.6666666666666666,
              "#ed7953"
             ],
             [
              0.7777777777777778,
              "#fb9f3a"
             ],
             [
              0.8888888888888888,
              "#fdca26"
             ],
             [
              1,
              "#f0f921"
             ]
            ],
            "type": "histogram2d"
           }
          ],
          "histogram2dcontour": [
           {
            "colorbar": {
             "outlinewidth": 0,
             "ticks": ""
            },
            "colorscale": [
             [
              0,
              "#0d0887"
             ],
             [
              0.1111111111111111,
              "#46039f"
             ],
             [
              0.2222222222222222,
              "#7201a8"
             ],
             [
              0.3333333333333333,
              "#9c179e"
             ],
             [
              0.4444444444444444,
              "#bd3786"
             ],
             [
              0.5555555555555556,
              "#d8576b"
             ],
             [
              0.6666666666666666,
              "#ed7953"
             ],
             [
              0.7777777777777778,
              "#fb9f3a"
             ],
             [
              0.8888888888888888,
              "#fdca26"
             ],
             [
              1,
              "#f0f921"
             ]
            ],
            "type": "histogram2dcontour"
           }
          ],
          "mesh3d": [
           {
            "colorbar": {
             "outlinewidth": 0,
             "ticks": ""
            },
            "type": "mesh3d"
           }
          ],
          "parcoords": [
           {
            "line": {
             "colorbar": {
              "outlinewidth": 0,
              "ticks": ""
             }
            },
            "type": "parcoords"
           }
          ],
          "pie": [
           {
            "automargin": true,
            "type": "pie"
           }
          ],
          "scatter": [
           {
            "marker": {
             "colorbar": {
              "outlinewidth": 0,
              "ticks": ""
             }
            },
            "type": "scatter"
           }
          ],
          "scatter3d": [
           {
            "line": {
             "colorbar": {
              "outlinewidth": 0,
              "ticks": ""
             }
            },
            "marker": {
             "colorbar": {
              "outlinewidth": 0,
              "ticks": ""
             }
            },
            "type": "scatter3d"
           }
          ],
          "scattercarpet": [
           {
            "marker": {
             "colorbar": {
              "outlinewidth": 0,
              "ticks": ""
             }
            },
            "type": "scattercarpet"
           }
          ],
          "scattergeo": [
           {
            "marker": {
             "colorbar": {
              "outlinewidth": 0,
              "ticks": ""
             }
            },
            "type": "scattergeo"
           }
          ],
          "scattergl": [
           {
            "marker": {
             "colorbar": {
              "outlinewidth": 0,
              "ticks": ""
             }
            },
            "type": "scattergl"
           }
          ],
          "scattermapbox": [
           {
            "marker": {
             "colorbar": {
              "outlinewidth": 0,
              "ticks": ""
             }
            },
            "type": "scattermapbox"
           }
          ],
          "scatterpolar": [
           {
            "marker": {
             "colorbar": {
              "outlinewidth": 0,
              "ticks": ""
             }
            },
            "type": "scatterpolar"
           }
          ],
          "scatterpolargl": [
           {
            "marker": {
             "colorbar": {
              "outlinewidth": 0,
              "ticks": ""
             }
            },
            "type": "scatterpolargl"
           }
          ],
          "scatterternary": [
           {
            "marker": {
             "colorbar": {
              "outlinewidth": 0,
              "ticks": ""
             }
            },
            "type": "scatterternary"
           }
          ],
          "surface": [
           {
            "colorbar": {
             "outlinewidth": 0,
             "ticks": ""
            },
            "colorscale": [
             [
              0,
              "#0d0887"
             ],
             [
              0.1111111111111111,
              "#46039f"
             ],
             [
              0.2222222222222222,
              "#7201a8"
             ],
             [
              0.3333333333333333,
              "#9c179e"
             ],
             [
              0.4444444444444444,
              "#bd3786"
             ],
             [
              0.5555555555555556,
              "#d8576b"
             ],
             [
              0.6666666666666666,
              "#ed7953"
             ],
             [
              0.7777777777777778,
              "#fb9f3a"
             ],
             [
              0.8888888888888888,
              "#fdca26"
             ],
             [
              1,
              "#f0f921"
             ]
            ],
            "type": "surface"
           }
          ],
          "table": [
           {
            "cells": {
             "fill": {
              "color": "#EBF0F8"
             },
             "line": {
              "color": "white"
             }
            },
            "header": {
             "fill": {
              "color": "#C8D4E3"
             },
             "line": {
              "color": "white"
             }
            },
            "type": "table"
           }
          ]
         },
         "layout": {
          "annotationdefaults": {
           "arrowcolor": "#2a3f5f",
           "arrowhead": 0,
           "arrowwidth": 1
          },
          "autotypenumbers": "strict",
          "coloraxis": {
           "colorbar": {
            "outlinewidth": 0,
            "ticks": ""
           }
          },
          "colorscale": {
           "diverging": [
            [
             0,
             "#8e0152"
            ],
            [
             0.1,
             "#c51b7d"
            ],
            [
             0.2,
             "#de77ae"
            ],
            [
             0.3,
             "#f1b6da"
            ],
            [
             0.4,
             "#fde0ef"
            ],
            [
             0.5,
             "#f7f7f7"
            ],
            [
             0.6,
             "#e6f5d0"
            ],
            [
             0.7,
             "#b8e186"
            ],
            [
             0.8,
             "#7fbc41"
            ],
            [
             0.9,
             "#4d9221"
            ],
            [
             1,
             "#276419"
            ]
           ],
           "sequential": [
            [
             0,
             "#0d0887"
            ],
            [
             0.1111111111111111,
             "#46039f"
            ],
            [
             0.2222222222222222,
             "#7201a8"
            ],
            [
             0.3333333333333333,
             "#9c179e"
            ],
            [
             0.4444444444444444,
             "#bd3786"
            ],
            [
             0.5555555555555556,
             "#d8576b"
            ],
            [
             0.6666666666666666,
             "#ed7953"
            ],
            [
             0.7777777777777778,
             "#fb9f3a"
            ],
            [
             0.8888888888888888,
             "#fdca26"
            ],
            [
             1,
             "#f0f921"
            ]
           ],
           "sequentialminus": [
            [
             0,
             "#0d0887"
            ],
            [
             0.1111111111111111,
             "#46039f"
            ],
            [
             0.2222222222222222,
             "#7201a8"
            ],
            [
             0.3333333333333333,
             "#9c179e"
            ],
            [
             0.4444444444444444,
             "#bd3786"
            ],
            [
             0.5555555555555556,
             "#d8576b"
            ],
            [
             0.6666666666666666,
             "#ed7953"
            ],
            [
             0.7777777777777778,
             "#fb9f3a"
            ],
            [
             0.8888888888888888,
             "#fdca26"
            ],
            [
             1,
             "#f0f921"
            ]
           ]
          },
          "colorway": [
           "#636efa",
           "#EF553B",
           "#00cc96",
           "#ab63fa",
           "#FFA15A",
           "#19d3f3",
           "#FF6692",
           "#B6E880",
           "#FF97FF",
           "#FECB52"
          ],
          "font": {
           "color": "#2a3f5f"
          },
          "geo": {
           "bgcolor": "white",
           "lakecolor": "white",
           "landcolor": "#E5ECF6",
           "showlakes": true,
           "showland": true,
           "subunitcolor": "white"
          },
          "hoverlabel": {
           "align": "left"
          },
          "hovermode": "closest",
          "mapbox": {
           "style": "light"
          },
          "paper_bgcolor": "white",
          "plot_bgcolor": "#E5ECF6",
          "polar": {
           "angularaxis": {
            "gridcolor": "white",
            "linecolor": "white",
            "ticks": ""
           },
           "bgcolor": "#E5ECF6",
           "radialaxis": {
            "gridcolor": "white",
            "linecolor": "white",
            "ticks": ""
           }
          },
          "scene": {
           "xaxis": {
            "backgroundcolor": "#E5ECF6",
            "gridcolor": "white",
            "gridwidth": 2,
            "linecolor": "white",
            "showbackground": true,
            "ticks": "",
            "zerolinecolor": "white"
           },
           "yaxis": {
            "backgroundcolor": "#E5ECF6",
            "gridcolor": "white",
            "gridwidth": 2,
            "linecolor": "white",
            "showbackground": true,
            "ticks": "",
            "zerolinecolor": "white"
           },
           "zaxis": {
            "backgroundcolor": "#E5ECF6",
            "gridcolor": "white",
            "gridwidth": 2,
            "linecolor": "white",
            "showbackground": true,
            "ticks": "",
            "zerolinecolor": "white"
           }
          },
          "shapedefaults": {
           "line": {
            "color": "#2a3f5f"
           }
          },
          "ternary": {
           "aaxis": {
            "gridcolor": "white",
            "linecolor": "white",
            "ticks": ""
           },
           "baxis": {
            "gridcolor": "white",
            "linecolor": "white",
            "ticks": ""
           },
           "bgcolor": "#E5ECF6",
           "caxis": {
            "gridcolor": "white",
            "linecolor": "white",
            "ticks": ""
           }
          },
          "title": {
           "x": 0.05
          },
          "xaxis": {
           "automargin": true,
           "gridcolor": "white",
           "linecolor": "white",
           "ticks": "",
           "title": {
            "standoff": 15
           },
           "zerolinecolor": "white",
           "zerolinewidth": 2
          },
          "yaxis": {
           "automargin": true,
           "gridcolor": "white",
           "linecolor": "white",
           "ticks": "",
           "title": {
            "standoff": 15
           },
           "zerolinecolor": "white",
           "zerolinewidth": 2
          }
         }
        },
        "title": {
         "text": "Relatie tussen gewicht en vleugel grootte per pinguïnsoort"
        },
        "width": 1000,
        "xaxis": {
         "anchor": "y",
         "domain": [
          0,
          1
         ],
         "title": {
          "text": "Body Mass (g)"
         }
        },
        "yaxis": {
         "anchor": "x",
         "domain": [
          0,
          1
         ],
         "title": {
          "text": "Flipper Length (mm)"
         }
        }
       }
      },
      "text/html": [
       "<div>                            <div id=\"5b0dd370-1863-49e1-8188-11c51659513d\" class=\"plotly-graph-div\" style=\"height:600px; width:1000px;\"></div>            <script type=\"text/javascript\">                require([\"plotly\"], function(Plotly) {                    window.PLOTLYENV=window.PLOTLYENV || {};                                    if (document.getElementById(\"5b0dd370-1863-49e1-8188-11c51659513d\")) {                    Plotly.newPlot(                        \"5b0dd370-1863-49e1-8188-11c51659513d\",                        [{\"hovertemplate\":\"Species=Adelie Penguin (Pygoscelis adeliae)<br>Body Mass (g)=%{x}<br>Flipper Length (mm)=%{y}<extra></extra>\",\"legendgroup\":\"Adelie Penguin (Pygoscelis adeliae)\",\"marker\":{\"color\":\"#636efa\",\"symbol\":\"circle\"},\"mode\":\"markers\",\"name\":\"Adelie Penguin (Pygoscelis adeliae)\",\"orientation\":\"v\",\"showlegend\":true,\"type\":\"scatter\",\"x\":[3750.0,3800.0,3250.0,null,3450.0,3650.0,3625.0,4675.0,3475.0,4250.0,3300.0,3700.0,3200.0,3800.0,4400.0,3700.0,3450.0,4500.0,3325.0,4200.0,3400.0,3600.0,3800.0,3950.0,3800.0,3800.0,3550.0,3200.0,3150.0,3950.0,3250.0,3900.0,3300.0,3900.0,3325.0,4150.0,3950.0,3550.0,3300.0,4650.0,3150.0,3900.0,3100.0,4400.0,3000.0,4600.0,3425.0,2975.0,3450.0,4150.0,3500.0,4300.0,3450.0,4050.0,2900.0,3700.0,3550.0,3800.0,2850.0,3750.0,3150.0,4400.0,3600.0,4050.0,2850.0,3950.0,3350.0,4100.0,3050.0,4450.0,3600.0,3900.0,3550.0,4150.0,3700.0,4250.0,3700.0,3900.0,3550.0,4000.0,3200.0,4700.0,3800.0,4200.0,3350.0,3550.0,3800.0,3500.0,3950.0,3600.0,3550.0,4300.0,3400.0,4450.0,3300.0,4300.0,3700.0,4350.0,2900.0,4100.0,3725.0,4725.0,3075.0,4250.0,2925.0,3550.0,3750.0,3900.0,3175.0,4775.0,3825.0,4600.0,3200.0,4275.0,3900.0,4075.0,2900.0,3775.0,3350.0,3325.0,3150.0,3500.0,3450.0,3875.0,3050.0,4000.0,3275.0,4300.0,3050.0,4000.0,3325.0,3500.0,3500.0,4475.0,3425.0,3900.0,3175.0,3975.0,3400.0,4250.0,3400.0,3475.0,3050.0,3725.0,3000.0,3650.0,4250.0,3475.0,3450.0,3750.0,3700.0,4000.0],\"xaxis\":\"x\",\"y\":[181.0,186.0,195.0,null,193.0,190.0,181.0,195.0,193.0,190.0,186.0,180.0,182.0,191.0,198.0,185.0,195.0,197.0,184.0,194.0,174.0,180.0,189.0,185.0,180.0,187.0,183.0,187.0,172.0,180.0,178.0,178.0,188.0,184.0,195.0,196.0,190.0,180.0,181.0,184.0,182.0,195.0,186.0,196.0,185.0,190.0,182.0,179.0,190.0,191.0,186.0,188.0,190.0,200.0,187.0,191.0,186.0,193.0,181.0,194.0,185.0,195.0,185.0,192.0,184.0,192.0,195.0,188.0,190.0,198.0,190.0,190.0,196.0,197.0,190.0,195.0,191.0,184.0,187.0,195.0,189.0,196.0,187.0,193.0,191.0,194.0,190.0,189.0,189.0,190.0,202.0,205.0,185.0,186.0,187.0,208.0,190.0,196.0,178.0,192.0,192.0,203.0,183.0,190.0,193.0,184.0,199.0,190.0,181.0,197.0,198.0,191.0,193.0,197.0,191.0,196.0,188.0,199.0,189.0,189.0,187.0,198.0,176.0,202.0,186.0,199.0,191.0,195.0,191.0,210.0,190.0,197.0,193.0,199.0,187.0,190.0,191.0,200.0,185.0,193.0,193.0,187.0,188.0,190.0,192.0,185.0,190.0,184.0,195.0,193.0,187.0,201.0],\"yaxis\":\"y\"},{\"hovertemplate\":\"<b>OLS trendline</b><br>Flipper Length (mm) = 0.00667687 * Body Mass (g) + 165.245<br>R<sup>2</sup>=0.219213<br><br>Species=Adelie Penguin (Pygoscelis adeliae)<br>Body Mass (g)=%{x}<br>Flipper Length (mm)=%{y} <b>(trend)</b><extra></extra>\",\"legendgroup\":\"Adelie Penguin (Pygoscelis adeliae)\",\"marker\":{\"color\":\"#636efa\",\"symbol\":\"circle\"},\"mode\":\"lines\",\"name\":\"Adelie Penguin (Pygoscelis adeliae)\",\"showlegend\":false,\"type\":\"scatter\",\"x\":[2850.0,2850.0,2900.0,2900.0,2900.0,2925.0,2975.0,3000.0,3000.0,3050.0,3050.0,3050.0,3050.0,3075.0,3100.0,3150.0,3150.0,3150.0,3150.0,3175.0,3175.0,3200.0,3200.0,3200.0,3200.0,3250.0,3250.0,3275.0,3300.0,3300.0,3300.0,3300.0,3325.0,3325.0,3325.0,3325.0,3350.0,3350.0,3350.0,3400.0,3400.0,3400.0,3400.0,3425.0,3425.0,3450.0,3450.0,3450.0,3450.0,3450.0,3450.0,3475.0,3475.0,3475.0,3500.0,3500.0,3500.0,3500.0,3500.0,3550.0,3550.0,3550.0,3550.0,3550.0,3550.0,3550.0,3550.0,3600.0,3600.0,3600.0,3600.0,3625.0,3650.0,3650.0,3700.0,3700.0,3700.0,3700.0,3700.0,3700.0,3700.0,3725.0,3725.0,3750.0,3750.0,3750.0,3750.0,3775.0,3800.0,3800.0,3800.0,3800.0,3800.0,3800.0,3800.0,3800.0,3825.0,3875.0,3900.0,3900.0,3900.0,3900.0,3900.0,3900.0,3900.0,3900.0,3950.0,3950.0,3950.0,3950.0,3950.0,3975.0,4000.0,4000.0,4000.0,4000.0,4050.0,4050.0,4075.0,4100.0,4100.0,4150.0,4150.0,4150.0,4200.0,4200.0,4250.0,4250.0,4250.0,4250.0,4250.0,4275.0,4300.0,4300.0,4300.0,4300.0,4350.0,4400.0,4400.0,4400.0,4450.0,4450.0,4475.0,4500.0,4600.0,4600.0,4650.0,4675.0,4700.0,4725.0,4775.0],\"xaxis\":\"x\",\"y\":[184.27388365194997,184.27388365194997,184.60772700288635,184.60772700288635,184.60772700288635,184.77464867835454,185.10849202929091,185.2754137047591,185.2754137047591,185.60925705569545,185.60925705569545,185.60925705569545,185.60925705569545,185.77617873116364,185.94310040663183,186.2769437575682,186.2769437575682,186.2769437575682,186.2769437575682,186.4438654330364,186.4438654330364,186.61078710850458,186.61078710850458,186.61078710850458,186.61078710850458,186.94463045944096,186.94463045944096,187.11155213490915,187.27847381037733,187.27847381037733,187.27847381037733,187.27847381037733,187.44539548584552,187.44539548584552,187.44539548584552,187.44539548584552,187.6123171613137,187.6123171613137,187.6123171613137,187.9461605122501,187.9461605122501,187.9461605122501,187.9461605122501,188.11308218771828,188.11308218771828,188.28000386318647,188.28000386318647,188.28000386318647,188.28000386318647,188.28000386318647,188.28000386318647,188.44692553865465,188.44692553865465,188.44692553865465,188.61384721412284,188.61384721412284,188.61384721412284,188.61384721412284,188.61384721412284,188.94769056505922,188.94769056505922,188.94769056505922,188.94769056505922,188.94769056505922,188.94769056505922,188.94769056505922,188.94769056505922,189.2815339159956,189.2815339159956,189.2815339159956,189.2815339159956,189.44845559146378,189.61537726693197,189.61537726693197,189.94922061786835,189.94922061786835,189.94922061786835,189.94922061786835,189.94922061786835,189.94922061786835,189.94922061786835,190.11614229333654,190.11614229333654,190.28306396880473,190.28306396880473,190.28306396880473,190.28306396880473,190.4499856442729,190.6169073197411,190.6169073197411,190.6169073197411,190.6169073197411,190.6169073197411,190.6169073197411,190.6169073197411,190.6169073197411,190.7838289952093,191.11767234614567,191.28459402161386,191.28459402161386,191.28459402161386,191.28459402161386,191.28459402161386,191.28459402161386,191.28459402161386,191.28459402161386,191.61843737255023,191.61843737255023,191.61843737255023,191.61843737255023,191.61843737255023,191.78535904801842,191.9522807234866,191.9522807234866,191.9522807234866,191.9522807234866,192.286124074423,192.286124074423,192.45304574989117,192.61996742535936,192.61996742535936,192.95381077629574,192.95381077629574,192.95381077629574,193.28765412723212,193.28765412723212,193.6214974781685,193.6214974781685,193.6214974781685,193.6214974781685,193.6214974781685,193.78841915363668,193.95534082910487,193.95534082910487,193.95534082910487,193.95534082910487,194.28918418004125,194.62302753097762,194.62302753097762,194.62302753097762,194.956870881914,194.956870881914,195.1237925573822,195.29071423285038,195.95840093472313,195.95840093472313,196.2922442856595,196.4591659611277,196.62608763659588,196.79300931206407,197.12685266300045],\"yaxis\":\"y\"},{\"hovertemplate\":\"Species=Gentoo penguin (Pygoscelis papua)<br>Body Mass (g)=%{x}<br>Flipper Length (mm)=%{y}<extra></extra>\",\"legendgroup\":\"Gentoo penguin (Pygoscelis papua)\",\"marker\":{\"color\":\"#EF553B\",\"symbol\":\"circle\"},\"mode\":\"markers\",\"name\":\"Gentoo penguin (Pygoscelis papua)\",\"orientation\":\"v\",\"showlegend\":true,\"type\":\"scatter\",\"x\":[4500.0,5700.0,4450.0,5700.0,5400.0,4550.0,4800.0,5200.0,4400.0,5150.0,4650.0,5550.0,4650.0,5850.0,4200.0,5850.0,4150.0,6300.0,4800.0,5350.0,5700.0,5000.0,4400.0,5050.0,5000.0,5100.0,4100.0,5650.0,4600.0,5550.0,5250.0,4700.0,5050.0,6050.0,5150.0,5400.0,4950.0,5250.0,4350.0,5350.0,3950.0,5700.0,4300.0,4750.0,5550.0,4900.0,4200.0,5400.0,5100.0,5300.0,4850.0,5300.0,4400.0,5000.0,4900.0,5050.0,4300.0,5000.0,4450.0,5550.0,4200.0,5300.0,4400.0,5650.0,4700.0,5700.0,4650.0,5800.0,4700.0,5550.0,4750.0,5000.0,5100.0,5200.0,4700.0,5800.0,4600.0,6000.0,4750.0,5950.0,4625.0,5450.0,4725.0,5350.0,4750.0,5600.0,4600.0,5300.0,4875.0,5550.0,4950.0,5400.0,4750.0,5650.0,4850.0,5200.0,4925.0,4875.0,4625.0,5250.0,4850.0,5600.0,4975.0,5500.0,4725.0,5500.0,4700.0,5500.0,4575.0,5500.0,5000.0,5950.0,4650.0,5500.0,4375.0,5850.0,4875.0,6000.0,4925.0,null,4850.0,5750.0,5200.0,5400.0],\"xaxis\":\"x\",\"y\":[211.0,230.0,210.0,218.0,215.0,210.0,211.0,219.0,209.0,215.0,214.0,216.0,214.0,213.0,210.0,217.0,210.0,221.0,209.0,222.0,218.0,215.0,213.0,215.0,215.0,215.0,216.0,215.0,210.0,220.0,222.0,209.0,207.0,230.0,220.0,220.0,213.0,219.0,208.0,208.0,208.0,225.0,210.0,216.0,222.0,217.0,210.0,225.0,213.0,215.0,210.0,220.0,210.0,225.0,217.0,220.0,208.0,220.0,208.0,224.0,208.0,221.0,214.0,231.0,219.0,230.0,214.0,229.0,220.0,223.0,216.0,221.0,221.0,217.0,216.0,230.0,209.0,220.0,215.0,223.0,212.0,221.0,212.0,224.0,212.0,228.0,218.0,218.0,212.0,230.0,218.0,228.0,212.0,224.0,214.0,226.0,216.0,222.0,203.0,225.0,219.0,228.0,215.0,228.0,216.0,215.0,210.0,219.0,208.0,209.0,216.0,229.0,213.0,230.0,217.0,230.0,217.0,222.0,214.0,null,215.0,222.0,212.0,213.0],\"yaxis\":\"y\"},{\"hovertemplate\":\"<b>OLS trendline</b><br>Flipper Length (mm) = 0.00903914 * Body Mass (g) + 171.304<br>R<sup>2</sup>=0.493740<br><br>Species=Gentoo penguin (Pygoscelis papua)<br>Body Mass (g)=%{x}<br>Flipper Length (mm)=%{y} <b>(trend)</b><extra></extra>\",\"legendgroup\":\"Gentoo penguin (Pygoscelis papua)\",\"marker\":{\"color\":\"#EF553B\",\"symbol\":\"circle\"},\"mode\":\"lines\",\"name\":\"Gentoo penguin (Pygoscelis papua)\",\"showlegend\":false,\"type\":\"scatter\",\"x\":[3950.0,4100.0,4150.0,4200.0,4200.0,4200.0,4300.0,4300.0,4350.0,4375.0,4400.0,4400.0,4400.0,4400.0,4450.0,4450.0,4500.0,4550.0,4575.0,4600.0,4600.0,4600.0,4625.0,4625.0,4650.0,4650.0,4650.0,4650.0,4700.0,4700.0,4700.0,4700.0,4700.0,4725.0,4725.0,4750.0,4750.0,4750.0,4750.0,4750.0,4800.0,4800.0,4850.0,4850.0,4850.0,4850.0,4875.0,4875.0,4875.0,4900.0,4900.0,4925.0,4925.0,4950.0,4950.0,4975.0,5000.0,5000.0,5000.0,5000.0,5000.0,5000.0,5050.0,5050.0,5050.0,5100.0,5100.0,5100.0,5150.0,5150.0,5200.0,5200.0,5200.0,5200.0,5250.0,5250.0,5250.0,5300.0,5300.0,5300.0,5300.0,5350.0,5350.0,5350.0,5400.0,5400.0,5400.0,5400.0,5400.0,5450.0,5500.0,5500.0,5500.0,5500.0,5500.0,5550.0,5550.0,5550.0,5550.0,5550.0,5550.0,5600.0,5600.0,5650.0,5650.0,5650.0,5700.0,5700.0,5700.0,5700.0,5700.0,5750.0,5800.0,5800.0,5850.0,5850.0,5850.0,5950.0,5950.0,6000.0,6000.0,6050.0,6300.0],\"xaxis\":\"x\",\"y\":[207.00877731808347,208.3646477764327,208.81660459588244,209.26856141533216,209.26856141533216,209.26856141533216,210.17247505423163,210.17247505423163,210.62443187368137,210.85041028340623,211.0763886931311,211.0763886931311,211.0763886931311,211.0763886931311,211.5283455125808,211.5283455125808,211.98030233203056,212.4322591514803,212.65823756120517,212.88421597093003,212.88421597093003,212.88421597093003,213.1101943806549,213.1101943806549,213.33617279037978,213.33617279037978,213.33617279037978,213.33617279037978,213.7881296098295,213.7881296098295,213.7881296098295,213.7881296098295,213.7881296098295,214.01410801955439,214.01410801955439,214.24008642927924,214.24008642927924,214.24008642927924,214.24008642927924,214.24008642927924,214.69204324872896,214.69204324872896,215.1440000681787,215.1440000681787,215.1440000681787,215.1440000681787,215.36997847790357,215.36997847790357,215.36997847790357,215.59595688762846,215.59595688762846,215.82193529735332,215.82193529735332,216.04791370707818,216.04791370707818,216.27389211680304,216.4998705265279,216.4998705265279,216.4998705265279,216.4998705265279,216.4998705265279,216.4998705265279,216.95182734597765,216.95182734597765,216.95182734597765,217.4037841654274,217.4037841654274,217.4037841654274,217.85574098487712,217.85574098487712,218.30769780432686,218.30769780432686,218.30769780432686,218.30769780432686,218.75965462377658,218.75965462377658,218.75965462377658,219.21161144322633,219.21161144322633,219.21161144322633,219.21161144322633,219.66356826267605,219.66356826267605,219.66356826267605,220.1155250821258,220.1155250821258,220.1155250821258,220.1155250821258,220.1155250821258,220.56748190157552,221.01943872102527,221.01943872102527,221.01943872102527,221.01943872102527,221.01943872102527,221.471395540475,221.471395540475,221.471395540475,221.471395540475,221.471395540475,221.471395540475,221.92335235992473,221.92335235992473,222.37530917937448,222.37530917937448,222.37530917937448,222.8272659988242,222.8272659988242,222.8272659988242,222.8272659988242,222.8272659988242,223.27922281827392,223.73117963772367,223.73117963772367,224.18313645717342,224.18313645717342,224.18313645717342,225.0870500960729,225.0870500960729,225.5390069155226,225.5390069155226,225.99096373497235,228.250747832221],\"yaxis\":\"y\"},{\"hovertemplate\":\"Species=Chinstrap penguin (Pygoscelis antarctica)<br>Body Mass (g)=%{x}<br>Flipper Length (mm)=%{y}<extra></extra>\",\"legendgroup\":\"Chinstrap penguin (Pygoscelis antarctica)\",\"marker\":{\"color\":\"#00cc96\",\"symbol\":\"circle\"},\"mode\":\"markers\",\"name\":\"Chinstrap penguin (Pygoscelis antarctica)\",\"orientation\":\"v\",\"showlegend\":true,\"type\":\"scatter\",\"x\":[3500.0,3900.0,3650.0,3525.0,3725.0,3950.0,3250.0,3750.0,4150.0,3700.0,3800.0,3775.0,3700.0,4050.0,3575.0,4050.0,3300.0,3700.0,3450.0,4400.0,3600.0,3400.0,2900.0,3800.0,3300.0,4150.0,3400.0,3800.0,3700.0,4550.0,3200.0,4300.0,3350.0,4100.0,3600.0,3900.0,3850.0,4800.0,2700.0,4500.0,3950.0,3650.0,3550.0,3500.0,3675.0,4450.0,3400.0,4300.0,3250.0,3675.0,3325.0,3950.0,3600.0,4050.0,3350.0,3450.0,3250.0,4050.0,3800.0,3525.0,3950.0,3650.0,3650.0,4000.0,3400.0,3775.0,4100.0,3775.0],\"xaxis\":\"x\",\"y\":[192.0,196.0,193.0,188.0,197.0,198.0,178.0,197.0,195.0,198.0,193.0,194.0,185.0,201.0,190.0,201.0,197.0,181.0,190.0,195.0,181.0,191.0,187.0,193.0,195.0,197.0,200.0,200.0,191.0,205.0,187.0,201.0,187.0,203.0,195.0,199.0,195.0,210.0,192.0,205.0,210.0,187.0,196.0,196.0,196.0,201.0,190.0,212.0,187.0,198.0,199.0,201.0,193.0,203.0,187.0,197.0,191.0,203.0,202.0,194.0,206.0,189.0,195.0,207.0,202.0,193.0,210.0,198.0],\"yaxis\":\"y\"},{\"hovertemplate\":\"<b>OLS trendline</b><br>Flipper Length (mm) = 0.0119051 * Body Mass (g) + 151.381<br>R<sup>2</sup>=0.411598<br><br>Species=Chinstrap penguin (Pygoscelis antarctica)<br>Body Mass (g)=%{x}<br>Flipper Length (mm)=%{y} <b>(trend)</b><extra></extra>\",\"legendgroup\":\"Chinstrap penguin (Pygoscelis antarctica)\",\"marker\":{\"color\":\"#00cc96\",\"symbol\":\"circle\"},\"mode\":\"lines\",\"name\":\"Chinstrap penguin (Pygoscelis antarctica)\",\"showlegend\":false,\"type\":\"scatter\",\"x\":[2700.0,2900.0,3200.0,3250.0,3250.0,3250.0,3300.0,3300.0,3325.0,3350.0,3350.0,3400.0,3400.0,3400.0,3400.0,3450.0,3450.0,3500.0,3500.0,3525.0,3525.0,3550.0,3575.0,3600.0,3600.0,3600.0,3650.0,3650.0,3650.0,3650.0,3675.0,3675.0,3700.0,3700.0,3700.0,3700.0,3725.0,3750.0,3775.0,3775.0,3775.0,3800.0,3800.0,3800.0,3800.0,3850.0,3900.0,3900.0,3950.0,3950.0,3950.0,3950.0,4000.0,4050.0,4050.0,4050.0,4050.0,4100.0,4100.0,4150.0,4150.0,4300.0,4300.0,4400.0,4450.0,4500.0,4550.0,4800.0],\"xaxis\":\"x\",\"y\":[183.52454744365565,185.90556032289098,189.47707964174398,190.0723328615528,190.0723328615528,190.0723328615528,190.66758608136166,190.66758608136166,190.96521269126606,191.2628393011705,191.2628393011705,191.8580925209793,191.8580925209793,191.8580925209793,191.8580925209793,192.45334574078817,192.45334574078817,193.048598960597,193.048598960597,193.34622557050142,193.34622557050142,193.64385218040582,193.94147879031024,194.23910540021467,194.23910540021467,194.23910540021467,194.8343586200235,194.8343586200235,194.8343586200235,194.8343586200235,195.1319852299279,195.1319852299279,195.42961183983232,195.42961183983232,195.42961183983232,195.42961183983232,195.72723844973672,196.02486505964114,196.32249166954557,196.32249166954557,196.32249166954557,196.62011827944997,196.62011827944997,196.62011827944997,196.62011827944997,197.21537149925882,197.81062471906765,197.81062471906765,198.40587793887647,198.40587793887647,198.40587793887647,198.40587793887647,199.00113115868533,199.59638437849415,199.59638437849415,199.59638437849415,199.59638437849415,200.19163759830298,200.19163759830298,200.78689081811183,200.78689081811183,202.57265047753833,202.57265047753833,203.76315691715598,204.35841013696484,204.95366335677366,205.54891657658249,208.52518267562664],\"yaxis\":\"y\"}],                        {\"height\":600,\"legend\":{\"title\":{\"text\":\"Species\"},\"tracegroupgap\":0},\"template\":{\"data\":{\"bar\":[{\"error_x\":{\"color\":\"#2a3f5f\"},\"error_y\":{\"color\":\"#2a3f5f\"},\"marker\":{\"line\":{\"color\":\"#E5ECF6\",\"width\":0.5},\"pattern\":{\"fillmode\":\"overlay\",\"size\":10,\"solidity\":0.2}},\"type\":\"bar\"}],\"barpolar\":[{\"marker\":{\"line\":{\"color\":\"#E5ECF6\",\"width\":0.5},\"pattern\":{\"fillmode\":\"overlay\",\"size\":10,\"solidity\":0.2}},\"type\":\"barpolar\"}],\"carpet\":[{\"aaxis\":{\"endlinecolor\":\"#2a3f5f\",\"gridcolor\":\"white\",\"linecolor\":\"white\",\"minorgridcolor\":\"white\",\"startlinecolor\":\"#2a3f5f\"},\"baxis\":{\"endlinecolor\":\"#2a3f5f\",\"gridcolor\":\"white\",\"linecolor\":\"white\",\"minorgridcolor\":\"white\",\"startlinecolor\":\"#2a3f5f\"},\"type\":\"carpet\"}],\"choropleth\":[{\"colorbar\":{\"outlinewidth\":0,\"ticks\":\"\"},\"type\":\"choropleth\"}],\"contour\":[{\"colorbar\":{\"outlinewidth\":0,\"ticks\":\"\"},\"colorscale\":[[0.0,\"#0d0887\"],[0.1111111111111111,\"#46039f\"],[0.2222222222222222,\"#7201a8\"],[0.3333333333333333,\"#9c179e\"],[0.4444444444444444,\"#bd3786\"],[0.5555555555555556,\"#d8576b\"],[0.6666666666666666,\"#ed7953\"],[0.7777777777777778,\"#fb9f3a\"],[0.8888888888888888,\"#fdca26\"],[1.0,\"#f0f921\"]],\"type\":\"contour\"}],\"contourcarpet\":[{\"colorbar\":{\"outlinewidth\":0,\"ticks\":\"\"},\"type\":\"contourcarpet\"}],\"heatmap\":[{\"colorbar\":{\"outlinewidth\":0,\"ticks\":\"\"},\"colorscale\":[[0.0,\"#0d0887\"],[0.1111111111111111,\"#46039f\"],[0.2222222222222222,\"#7201a8\"],[0.3333333333333333,\"#9c179e\"],[0.4444444444444444,\"#bd3786\"],[0.5555555555555556,\"#d8576b\"],[0.6666666666666666,\"#ed7953\"],[0.7777777777777778,\"#fb9f3a\"],[0.8888888888888888,\"#fdca26\"],[1.0,\"#f0f921\"]],\"type\":\"heatmap\"}],\"heatmapgl\":[{\"colorbar\":{\"outlinewidth\":0,\"ticks\":\"\"},\"colorscale\":[[0.0,\"#0d0887\"],[0.1111111111111111,\"#46039f\"],[0.2222222222222222,\"#7201a8\"],[0.3333333333333333,\"#9c179e\"],[0.4444444444444444,\"#bd3786\"],[0.5555555555555556,\"#d8576b\"],[0.6666666666666666,\"#ed7953\"],[0.7777777777777778,\"#fb9f3a\"],[0.8888888888888888,\"#fdca26\"],[1.0,\"#f0f921\"]],\"type\":\"heatmapgl\"}],\"histogram\":[{\"marker\":{\"pattern\":{\"fillmode\":\"overlay\",\"size\":10,\"solidity\":0.2}},\"type\":\"histogram\"}],\"histogram2d\":[{\"colorbar\":{\"outlinewidth\":0,\"ticks\":\"\"},\"colorscale\":[[0.0,\"#0d0887\"],[0.1111111111111111,\"#46039f\"],[0.2222222222222222,\"#7201a8\"],[0.3333333333333333,\"#9c179e\"],[0.4444444444444444,\"#bd3786\"],[0.5555555555555556,\"#d8576b\"],[0.6666666666666666,\"#ed7953\"],[0.7777777777777778,\"#fb9f3a\"],[0.8888888888888888,\"#fdca26\"],[1.0,\"#f0f921\"]],\"type\":\"histogram2d\"}],\"histogram2dcontour\":[{\"colorbar\":{\"outlinewidth\":0,\"ticks\":\"\"},\"colorscale\":[[0.0,\"#0d0887\"],[0.1111111111111111,\"#46039f\"],[0.2222222222222222,\"#7201a8\"],[0.3333333333333333,\"#9c179e\"],[0.4444444444444444,\"#bd3786\"],[0.5555555555555556,\"#d8576b\"],[0.6666666666666666,\"#ed7953\"],[0.7777777777777778,\"#fb9f3a\"],[0.8888888888888888,\"#fdca26\"],[1.0,\"#f0f921\"]],\"type\":\"histogram2dcontour\"}],\"mesh3d\":[{\"colorbar\":{\"outlinewidth\":0,\"ticks\":\"\"},\"type\":\"mesh3d\"}],\"parcoords\":[{\"line\":{\"colorbar\":{\"outlinewidth\":0,\"ticks\":\"\"}},\"type\":\"parcoords\"}],\"pie\":[{\"automargin\":true,\"type\":\"pie\"}],\"scatter\":[{\"marker\":{\"colorbar\":{\"outlinewidth\":0,\"ticks\":\"\"}},\"type\":\"scatter\"}],\"scatter3d\":[{\"line\":{\"colorbar\":{\"outlinewidth\":0,\"ticks\":\"\"}},\"marker\":{\"colorbar\":{\"outlinewidth\":0,\"ticks\":\"\"}},\"type\":\"scatter3d\"}],\"scattercarpet\":[{\"marker\":{\"colorbar\":{\"outlinewidth\":0,\"ticks\":\"\"}},\"type\":\"scattercarpet\"}],\"scattergeo\":[{\"marker\":{\"colorbar\":{\"outlinewidth\":0,\"ticks\":\"\"}},\"type\":\"scattergeo\"}],\"scattergl\":[{\"marker\":{\"colorbar\":{\"outlinewidth\":0,\"ticks\":\"\"}},\"type\":\"scattergl\"}],\"scattermapbox\":[{\"marker\":{\"colorbar\":{\"outlinewidth\":0,\"ticks\":\"\"}},\"type\":\"scattermapbox\"}],\"scatterpolar\":[{\"marker\":{\"colorbar\":{\"outlinewidth\":0,\"ticks\":\"\"}},\"type\":\"scatterpolar\"}],\"scatterpolargl\":[{\"marker\":{\"colorbar\":{\"outlinewidth\":0,\"ticks\":\"\"}},\"type\":\"scatterpolargl\"}],\"scatterternary\":[{\"marker\":{\"colorbar\":{\"outlinewidth\":0,\"ticks\":\"\"}},\"type\":\"scatterternary\"}],\"surface\":[{\"colorbar\":{\"outlinewidth\":0,\"ticks\":\"\"},\"colorscale\":[[0.0,\"#0d0887\"],[0.1111111111111111,\"#46039f\"],[0.2222222222222222,\"#7201a8\"],[0.3333333333333333,\"#9c179e\"],[0.4444444444444444,\"#bd3786\"],[0.5555555555555556,\"#d8576b\"],[0.6666666666666666,\"#ed7953\"],[0.7777777777777778,\"#fb9f3a\"],[0.8888888888888888,\"#fdca26\"],[1.0,\"#f0f921\"]],\"type\":\"surface\"}],\"table\":[{\"cells\":{\"fill\":{\"color\":\"#EBF0F8\"},\"line\":{\"color\":\"white\"}},\"header\":{\"fill\":{\"color\":\"#C8D4E3\"},\"line\":{\"color\":\"white\"}},\"type\":\"table\"}]},\"layout\":{\"annotationdefaults\":{\"arrowcolor\":\"#2a3f5f\",\"arrowhead\":0,\"arrowwidth\":1},\"autotypenumbers\":\"strict\",\"coloraxis\":{\"colorbar\":{\"outlinewidth\":0,\"ticks\":\"\"}},\"colorscale\":{\"diverging\":[[0,\"#8e0152\"],[0.1,\"#c51b7d\"],[0.2,\"#de77ae\"],[0.3,\"#f1b6da\"],[0.4,\"#fde0ef\"],[0.5,\"#f7f7f7\"],[0.6,\"#e6f5d0\"],[0.7,\"#b8e186\"],[0.8,\"#7fbc41\"],[0.9,\"#4d9221\"],[1,\"#276419\"]],\"sequential\":[[0.0,\"#0d0887\"],[0.1111111111111111,\"#46039f\"],[0.2222222222222222,\"#7201a8\"],[0.3333333333333333,\"#9c179e\"],[0.4444444444444444,\"#bd3786\"],[0.5555555555555556,\"#d8576b\"],[0.6666666666666666,\"#ed7953\"],[0.7777777777777778,\"#fb9f3a\"],[0.8888888888888888,\"#fdca26\"],[1.0,\"#f0f921\"]],\"sequentialminus\":[[0.0,\"#0d0887\"],[0.1111111111111111,\"#46039f\"],[0.2222222222222222,\"#7201a8\"],[0.3333333333333333,\"#9c179e\"],[0.4444444444444444,\"#bd3786\"],[0.5555555555555556,\"#d8576b\"],[0.6666666666666666,\"#ed7953\"],[0.7777777777777778,\"#fb9f3a\"],[0.8888888888888888,\"#fdca26\"],[1.0,\"#f0f921\"]]},\"colorway\":[\"#636efa\",\"#EF553B\",\"#00cc96\",\"#ab63fa\",\"#FFA15A\",\"#19d3f3\",\"#FF6692\",\"#B6E880\",\"#FF97FF\",\"#FECB52\"],\"font\":{\"color\":\"#2a3f5f\"},\"geo\":{\"bgcolor\":\"white\",\"lakecolor\":\"white\",\"landcolor\":\"#E5ECF6\",\"showlakes\":true,\"showland\":true,\"subunitcolor\":\"white\"},\"hoverlabel\":{\"align\":\"left\"},\"hovermode\":\"closest\",\"mapbox\":{\"style\":\"light\"},\"paper_bgcolor\":\"white\",\"plot_bgcolor\":\"#E5ECF6\",\"polar\":{\"angularaxis\":{\"gridcolor\":\"white\",\"linecolor\":\"white\",\"ticks\":\"\"},\"bgcolor\":\"#E5ECF6\",\"radialaxis\":{\"gridcolor\":\"white\",\"linecolor\":\"white\",\"ticks\":\"\"}},\"scene\":{\"xaxis\":{\"backgroundcolor\":\"#E5ECF6\",\"gridcolor\":\"white\",\"gridwidth\":2,\"linecolor\":\"white\",\"showbackground\":true,\"ticks\":\"\",\"zerolinecolor\":\"white\"},\"yaxis\":{\"backgroundcolor\":\"#E5ECF6\",\"gridcolor\":\"white\",\"gridwidth\":2,\"linecolor\":\"white\",\"showbackground\":true,\"ticks\":\"\",\"zerolinecolor\":\"white\"},\"zaxis\":{\"backgroundcolor\":\"#E5ECF6\",\"gridcolor\":\"white\",\"gridwidth\":2,\"linecolor\":\"white\",\"showbackground\":true,\"ticks\":\"\",\"zerolinecolor\":\"white\"}},\"shapedefaults\":{\"line\":{\"color\":\"#2a3f5f\"}},\"ternary\":{\"aaxis\":{\"gridcolor\":\"white\",\"linecolor\":\"white\",\"ticks\":\"\"},\"baxis\":{\"gridcolor\":\"white\",\"linecolor\":\"white\",\"ticks\":\"\"},\"bgcolor\":\"#E5ECF6\",\"caxis\":{\"gridcolor\":\"white\",\"linecolor\":\"white\",\"ticks\":\"\"}},\"title\":{\"x\":0.05},\"xaxis\":{\"automargin\":true,\"gridcolor\":\"white\",\"linecolor\":\"white\",\"ticks\":\"\",\"title\":{\"standoff\":15},\"zerolinecolor\":\"white\",\"zerolinewidth\":2},\"yaxis\":{\"automargin\":true,\"gridcolor\":\"white\",\"linecolor\":\"white\",\"ticks\":\"\",\"title\":{\"standoff\":15},\"zerolinecolor\":\"white\",\"zerolinewidth\":2}}},\"title\":{\"text\":\"Relatie tussen gewicht en vleugel grootte per pingu\\u00efnsoort\"},\"width\":1000,\"xaxis\":{\"anchor\":\"y\",\"domain\":[0.0,1.0],\"title\":{\"text\":\"Body Mass (g)\"}},\"yaxis\":{\"anchor\":\"x\",\"domain\":[0.0,1.0],\"title\":{\"text\":\"Flipper Length (mm)\"}}},                        {\"responsive\": true}                    ).then(function(){\n",
       "                            \n",
       "var gd = document.getElementById('5b0dd370-1863-49e1-8188-11c51659513d');\n",
       "var x = new MutationObserver(function (mutations, observer) {{\n",
       "        var display = window.getComputedStyle(gd).display;\n",
       "        if (!display || display === 'none') {{\n",
       "            console.log([gd, 'removed!']);\n",
       "            Plotly.purge(gd);\n",
       "            observer.disconnect();\n",
       "        }}\n",
       "}});\n",
       "\n",
       "// Listen for the removal of the full notebook cells\n",
       "var notebookContainer = gd.closest('#notebook-container');\n",
       "if (notebookContainer) {{\n",
       "    x.observe(notebookContainer, {childList: true});\n",
       "}}\n",
       "\n",
       "// Listen for the clearing of the current output cell\n",
       "var outputEl = gd.closest('.output');\n",
       "if (outputEl) {{\n",
       "    x.observe(outputEl, {childList: true});\n",
       "}}\n",
       "\n",
       "                        })                };                });            </script>        </div>"
      ]
     },
     "metadata": {},
     "output_type": "display_data"
    }
   ],
   "source": [
    "fig = px.scatter(data_frame=penguins,\n",
    "                x='Body Mass (g)',\n",
    "                y='Flipper Length (mm)',\n",
    "                color='Species',\n",
    "                trendline='ols',\n",
    "                labels={'species':'Pinguïnsoort', 'body_mass_g':'Gewicht in gram (g)', 'flipper_length_mm':'Vleugel lengte in milimeter (mm)'}, \n",
    "                height=600,\n",
    "                width=1000, \n",
    "                title='Relatie tussen gewicht en vleugel grootte per pinguïnsoort')\n",
    "                \n",
    "fig.show()"
   ]
  },
  {
   "cell_type": "markdown",
   "id": "ee08daaf",
   "metadata": {},
   "source": [
    "#### Conclusion of data analysis"
   ]
  },
  {
   "cell_type": "markdown",
   "id": "b5067994",
   "metadata": {},
   "source": [
    "### Predictive model"
   ]
  }
 ],
 "metadata": {
  "kernelspec": {
   "display_name": "Python 3",
   "language": "python",
   "name": "python3"
  },
  "language_info": {
   "codemirror_mode": {
    "name": "ipython",
    "version": 3
   },
   "file_extension": ".py",
   "mimetype": "text/x-python",
   "name": "python",
   "nbconvert_exporter": "python",
   "pygments_lexer": "ipython3",
   "version": "3.8.8"
  }
 },
 "nbformat": 4,
 "nbformat_minor": 5
}
